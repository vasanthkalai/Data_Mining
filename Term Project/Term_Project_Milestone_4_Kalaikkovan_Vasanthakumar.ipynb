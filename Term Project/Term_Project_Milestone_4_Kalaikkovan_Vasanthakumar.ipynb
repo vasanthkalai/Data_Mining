{
 "cells": [
  {
   "cell_type": "code",
   "execution_count": 1,
   "id": "4f5f969c",
   "metadata": {},
   "outputs": [
    {
     "name": "stderr",
     "output_type": "stream",
     "text": [
      "In C:\\Users\\vasan\\anaconda3\\lib\\site-packages\\matplotlib\\mpl-data\\stylelib\\_classic_test.mplstyle: \n",
      "The text.latex.preview rcparam was deprecated in Matplotlib 3.3 and will be removed two minor releases later.\n",
      "In C:\\Users\\vasan\\anaconda3\\lib\\site-packages\\matplotlib\\mpl-data\\stylelib\\_classic_test.mplstyle: \n",
      "The mathtext.fallback_to_cm rcparam was deprecated in Matplotlib 3.3 and will be removed two minor releases later.\n",
      "In C:\\Users\\vasan\\anaconda3\\lib\\site-packages\\matplotlib\\mpl-data\\stylelib\\_classic_test.mplstyle: Support for setting the 'mathtext.fallback_to_cm' rcParam is deprecated since 3.3 and will be removed two minor releases later; use 'mathtext.fallback : 'cm' instead.\n",
      "In C:\\Users\\vasan\\anaconda3\\lib\\site-packages\\matplotlib\\mpl-data\\stylelib\\_classic_test.mplstyle: \n",
      "The validate_bool_maybe_none function was deprecated in Matplotlib 3.3 and will be removed two minor releases later.\n",
      "In C:\\Users\\vasan\\anaconda3\\lib\\site-packages\\matplotlib\\mpl-data\\stylelib\\_classic_test.mplstyle: \n",
      "The savefig.jpeg_quality rcparam was deprecated in Matplotlib 3.3 and will be removed two minor releases later.\n",
      "In C:\\Users\\vasan\\anaconda3\\lib\\site-packages\\matplotlib\\mpl-data\\stylelib\\_classic_test.mplstyle: \n",
      "The keymap.all_axes rcparam was deprecated in Matplotlib 3.3 and will be removed two minor releases later.\n",
      "In C:\\Users\\vasan\\anaconda3\\lib\\site-packages\\matplotlib\\mpl-data\\stylelib\\_classic_test.mplstyle: \n",
      "The animation.avconv_path rcparam was deprecated in Matplotlib 3.3 and will be removed two minor releases later.\n",
      "In C:\\Users\\vasan\\anaconda3\\lib\\site-packages\\matplotlib\\mpl-data\\stylelib\\_classic_test.mplstyle: \n",
      "The animation.avconv_args rcparam was deprecated in Matplotlib 3.3 and will be removed two minor releases later.\n"
     ]
    }
   ],
   "source": [
    "# importing libraries\n",
    "import pandas as pd\n",
    "import numpy as np\n",
    "import matplotlib.pyplot as plt"
   ]
  },
  {
   "cell_type": "code",
   "execution_count": 2,
   "id": "c5d3200b",
   "metadata": {},
   "outputs": [
    {
     "data": {
      "text/html": [
       "<div>\n",
       "<style scoped>\n",
       "    .dataframe tbody tr th:only-of-type {\n",
       "        vertical-align: middle;\n",
       "    }\n",
       "\n",
       "    .dataframe tbody tr th {\n",
       "        vertical-align: top;\n",
       "    }\n",
       "\n",
       "    .dataframe thead th {\n",
       "        text-align: right;\n",
       "    }\n",
       "</style>\n",
       "<table border=\"1\" class=\"dataframe\">\n",
       "  <thead>\n",
       "    <tr style=\"text-align: right;\">\n",
       "      <th></th>\n",
       "      <th>Timestamp</th>\n",
       "      <th>Age</th>\n",
       "      <th>Gender</th>\n",
       "      <th>Country</th>\n",
       "      <th>state</th>\n",
       "      <th>self_employed</th>\n",
       "      <th>family_history</th>\n",
       "      <th>treatment</th>\n",
       "      <th>work_interfere</th>\n",
       "      <th>no_employees</th>\n",
       "      <th>...</th>\n",
       "      <th>leave</th>\n",
       "      <th>mental_health_consequence</th>\n",
       "      <th>phys_health_consequence</th>\n",
       "      <th>coworkers</th>\n",
       "      <th>supervisor</th>\n",
       "      <th>mental_health_interview</th>\n",
       "      <th>phys_health_interview</th>\n",
       "      <th>mental_vs_physical</th>\n",
       "      <th>obs_consequence</th>\n",
       "      <th>comments</th>\n",
       "    </tr>\n",
       "  </thead>\n",
       "  <tbody>\n",
       "    <tr>\n",
       "      <th>0</th>\n",
       "      <td>27-08-2014 11:29</td>\n",
       "      <td>37</td>\n",
       "      <td>Female</td>\n",
       "      <td>United States</td>\n",
       "      <td>IL</td>\n",
       "      <td>NaN</td>\n",
       "      <td>No</td>\n",
       "      <td>Yes</td>\n",
       "      <td>Often</td>\n",
       "      <td>Jun-25</td>\n",
       "      <td>...</td>\n",
       "      <td>Somewhat easy</td>\n",
       "      <td>No</td>\n",
       "      <td>No</td>\n",
       "      <td>Some of them</td>\n",
       "      <td>Yes</td>\n",
       "      <td>No</td>\n",
       "      <td>Maybe</td>\n",
       "      <td>Yes</td>\n",
       "      <td>No</td>\n",
       "      <td>NaN</td>\n",
       "    </tr>\n",
       "    <tr>\n",
       "      <th>1</th>\n",
       "      <td>27-08-2014 11:29</td>\n",
       "      <td>44</td>\n",
       "      <td>M</td>\n",
       "      <td>United States</td>\n",
       "      <td>IN</td>\n",
       "      <td>NaN</td>\n",
       "      <td>No</td>\n",
       "      <td>No</td>\n",
       "      <td>Rarely</td>\n",
       "      <td>More than 1000</td>\n",
       "      <td>...</td>\n",
       "      <td>Don't know</td>\n",
       "      <td>Maybe</td>\n",
       "      <td>No</td>\n",
       "      <td>No</td>\n",
       "      <td>No</td>\n",
       "      <td>No</td>\n",
       "      <td>No</td>\n",
       "      <td>Don't know</td>\n",
       "      <td>No</td>\n",
       "      <td>NaN</td>\n",
       "    </tr>\n",
       "    <tr>\n",
       "      <th>2</th>\n",
       "      <td>27-08-2014 11:29</td>\n",
       "      <td>32</td>\n",
       "      <td>Male</td>\n",
       "      <td>Canada</td>\n",
       "      <td>NaN</td>\n",
       "      <td>NaN</td>\n",
       "      <td>No</td>\n",
       "      <td>No</td>\n",
       "      <td>Rarely</td>\n",
       "      <td>Jun-25</td>\n",
       "      <td>...</td>\n",
       "      <td>Somewhat difficult</td>\n",
       "      <td>No</td>\n",
       "      <td>No</td>\n",
       "      <td>Yes</td>\n",
       "      <td>Yes</td>\n",
       "      <td>Yes</td>\n",
       "      <td>Yes</td>\n",
       "      <td>No</td>\n",
       "      <td>No</td>\n",
       "      <td>NaN</td>\n",
       "    </tr>\n",
       "    <tr>\n",
       "      <th>3</th>\n",
       "      <td>27-08-2014 11:29</td>\n",
       "      <td>31</td>\n",
       "      <td>Male</td>\n",
       "      <td>United Kingdom</td>\n",
       "      <td>NaN</td>\n",
       "      <td>NaN</td>\n",
       "      <td>Yes</td>\n",
       "      <td>Yes</td>\n",
       "      <td>Often</td>\n",
       "      <td>26-100</td>\n",
       "      <td>...</td>\n",
       "      <td>Somewhat difficult</td>\n",
       "      <td>Yes</td>\n",
       "      <td>Yes</td>\n",
       "      <td>Some of them</td>\n",
       "      <td>No</td>\n",
       "      <td>Maybe</td>\n",
       "      <td>Maybe</td>\n",
       "      <td>No</td>\n",
       "      <td>Yes</td>\n",
       "      <td>NaN</td>\n",
       "    </tr>\n",
       "    <tr>\n",
       "      <th>4</th>\n",
       "      <td>27-08-2014 11:30</td>\n",
       "      <td>31</td>\n",
       "      <td>Male</td>\n",
       "      <td>United States</td>\n",
       "      <td>TX</td>\n",
       "      <td>NaN</td>\n",
       "      <td>No</td>\n",
       "      <td>No</td>\n",
       "      <td>Never</td>\n",
       "      <td>100-500</td>\n",
       "      <td>...</td>\n",
       "      <td>Don't know</td>\n",
       "      <td>No</td>\n",
       "      <td>No</td>\n",
       "      <td>Some of them</td>\n",
       "      <td>Yes</td>\n",
       "      <td>Yes</td>\n",
       "      <td>Yes</td>\n",
       "      <td>Don't know</td>\n",
       "      <td>No</td>\n",
       "      <td>NaN</td>\n",
       "    </tr>\n",
       "  </tbody>\n",
       "</table>\n",
       "<p>5 rows × 27 columns</p>\n",
       "</div>"
      ],
      "text/plain": [
       "          Timestamp  Age  Gender         Country state self_employed  \\\n",
       "0  27-08-2014 11:29   37  Female   United States    IL           NaN   \n",
       "1  27-08-2014 11:29   44       M   United States    IN           NaN   \n",
       "2  27-08-2014 11:29   32    Male          Canada   NaN           NaN   \n",
       "3  27-08-2014 11:29   31    Male  United Kingdom   NaN           NaN   \n",
       "4  27-08-2014 11:30   31    Male   United States    TX           NaN   \n",
       "\n",
       "  family_history treatment work_interfere    no_employees  ...  \\\n",
       "0             No       Yes          Often          Jun-25  ...   \n",
       "1             No        No         Rarely  More than 1000  ...   \n",
       "2             No        No         Rarely          Jun-25  ...   \n",
       "3            Yes       Yes          Often          26-100  ...   \n",
       "4             No        No          Never         100-500  ...   \n",
       "\n",
       "                leave mental_health_consequence phys_health_consequence  \\\n",
       "0       Somewhat easy                        No                      No   \n",
       "1          Don't know                     Maybe                      No   \n",
       "2  Somewhat difficult                        No                      No   \n",
       "3  Somewhat difficult                       Yes                     Yes   \n",
       "4          Don't know                        No                      No   \n",
       "\n",
       "      coworkers supervisor mental_health_interview phys_health_interview  \\\n",
       "0  Some of them        Yes                      No                 Maybe   \n",
       "1            No         No                      No                    No   \n",
       "2           Yes        Yes                     Yes                   Yes   \n",
       "3  Some of them         No                   Maybe                 Maybe   \n",
       "4  Some of them        Yes                     Yes                   Yes   \n",
       "\n",
       "  mental_vs_physical obs_consequence comments  \n",
       "0                Yes              No      NaN  \n",
       "1         Don't know              No      NaN  \n",
       "2                 No              No      NaN  \n",
       "3                 No             Yes      NaN  \n",
       "4         Don't know              No      NaN  \n",
       "\n",
       "[5 rows x 27 columns]"
      ]
     },
     "execution_count": 2,
     "metadata": {},
     "output_type": "execute_result"
    }
   ],
   "source": [
    "# importing the data\n",
    "df=pd.read_csv(\"survey.csv\")\n",
    "df.head()"
   ]
  },
  {
   "cell_type": "markdown",
   "id": "3acde9f7",
   "metadata": {},
   "source": [
    "#### Removing the unwanted columns like state, self_employed, family_history, phys_health_consequence, phys_health_interview, Timestamp, comments"
   ]
  },
  {
   "cell_type": "markdown",
   "id": "236315e9",
   "metadata": {},
   "source": [
    "The reason behind deleting the above mentioned columns are explained below:\n",
    "    <br>1. state - We are comparing the coutries only in the graph analysis\n",
    "    <br>2. self_employed - We can avoid this because our focus is only about the corporate employees\n",
    "    <br>3. family_history - We are concerning the current status only\n",
    "    <br>4. phys_health_consequence - We are concern only about the mental stability\n",
    "    <br>5. phys_health_interview - We are concern only about the mental stability\n",
    "    <br>6. Timestamp - We are dealing with time frame so we can drop it\n",
    "    <br>7. comments - It has most NaN and its not requried for the analysis"
   ]
  },
  {
   "cell_type": "code",
   "execution_count": 3,
   "id": "f4ee8127",
   "metadata": {},
   "outputs": [],
   "source": [
    "df.drop('state', axis=1, inplace=True)\n",
    "df.drop('self_employed', axis=1, inplace=True)\n",
    "df.drop('family_history', axis=1, inplace=True)\n",
    "df.drop('phys_health_consequence', axis=1, inplace=True)\n",
    "df.drop('phys_health_interview', axis=1, inplace=True)\n",
    "df.drop('Timestamp', axis=1, inplace=True)\n",
    "df.drop('comments', axis=1, inplace=True)"
   ]
  },
  {
   "cell_type": "code",
   "execution_count": 4,
   "id": "19311cf8",
   "metadata": {},
   "outputs": [
    {
     "data": {
      "text/plain": [
       "1259"
      ]
     },
     "execution_count": 4,
     "metadata": {},
     "output_type": "execute_result"
    }
   ],
   "source": [
    "# finding the length of the dataframe\n",
    "len(df)"
   ]
  },
  {
   "cell_type": "code",
   "execution_count": 5,
   "id": "c045db21",
   "metadata": {},
   "outputs": [
    {
     "data": {
      "text/html": [
       "<div>\n",
       "<style scoped>\n",
       "    .dataframe tbody tr th:only-of-type {\n",
       "        vertical-align: middle;\n",
       "    }\n",
       "\n",
       "    .dataframe tbody tr th {\n",
       "        vertical-align: top;\n",
       "    }\n",
       "\n",
       "    .dataframe thead th {\n",
       "        text-align: right;\n",
       "    }\n",
       "</style>\n",
       "<table border=\"1\" class=\"dataframe\">\n",
       "  <thead>\n",
       "    <tr style=\"text-align: right;\">\n",
       "      <th></th>\n",
       "      <th>Age</th>\n",
       "      <th>Gender</th>\n",
       "      <th>Country</th>\n",
       "      <th>treatment</th>\n",
       "      <th>work_interfere</th>\n",
       "      <th>no_employees</th>\n",
       "      <th>remote_work</th>\n",
       "      <th>tech_company</th>\n",
       "      <th>benefits</th>\n",
       "      <th>care_options</th>\n",
       "      <th>wellness_program</th>\n",
       "      <th>seek_help</th>\n",
       "      <th>anonymity</th>\n",
       "      <th>leave</th>\n",
       "      <th>mental_health_consequence</th>\n",
       "      <th>coworkers</th>\n",
       "      <th>supervisor</th>\n",
       "      <th>mental_health_interview</th>\n",
       "      <th>mental_vs_physical</th>\n",
       "      <th>obs_consequence</th>\n",
       "    </tr>\n",
       "  </thead>\n",
       "  <tbody>\n",
       "    <tr>\n",
       "      <th>0</th>\n",
       "      <td>37</td>\n",
       "      <td>Female</td>\n",
       "      <td>United States</td>\n",
       "      <td>Yes</td>\n",
       "      <td>Often</td>\n",
       "      <td>Jun-25</td>\n",
       "      <td>No</td>\n",
       "      <td>Yes</td>\n",
       "      <td>Yes</td>\n",
       "      <td>Not sure</td>\n",
       "      <td>No</td>\n",
       "      <td>Yes</td>\n",
       "      <td>Yes</td>\n",
       "      <td>Somewhat easy</td>\n",
       "      <td>No</td>\n",
       "      <td>Some of them</td>\n",
       "      <td>Yes</td>\n",
       "      <td>No</td>\n",
       "      <td>Yes</td>\n",
       "      <td>No</td>\n",
       "    </tr>\n",
       "    <tr>\n",
       "      <th>1</th>\n",
       "      <td>44</td>\n",
       "      <td>M</td>\n",
       "      <td>United States</td>\n",
       "      <td>No</td>\n",
       "      <td>Rarely</td>\n",
       "      <td>More than 1000</td>\n",
       "      <td>No</td>\n",
       "      <td>No</td>\n",
       "      <td>Don't know</td>\n",
       "      <td>No</td>\n",
       "      <td>Don't know</td>\n",
       "      <td>Don't know</td>\n",
       "      <td>Don't know</td>\n",
       "      <td>Don't know</td>\n",
       "      <td>Maybe</td>\n",
       "      <td>No</td>\n",
       "      <td>No</td>\n",
       "      <td>No</td>\n",
       "      <td>Don't know</td>\n",
       "      <td>No</td>\n",
       "    </tr>\n",
       "    <tr>\n",
       "      <th>2</th>\n",
       "      <td>32</td>\n",
       "      <td>Male</td>\n",
       "      <td>Canada</td>\n",
       "      <td>No</td>\n",
       "      <td>Rarely</td>\n",
       "      <td>Jun-25</td>\n",
       "      <td>No</td>\n",
       "      <td>Yes</td>\n",
       "      <td>No</td>\n",
       "      <td>No</td>\n",
       "      <td>No</td>\n",
       "      <td>No</td>\n",
       "      <td>Don't know</td>\n",
       "      <td>Somewhat difficult</td>\n",
       "      <td>No</td>\n",
       "      <td>Yes</td>\n",
       "      <td>Yes</td>\n",
       "      <td>Yes</td>\n",
       "      <td>No</td>\n",
       "      <td>No</td>\n",
       "    </tr>\n",
       "    <tr>\n",
       "      <th>3</th>\n",
       "      <td>31</td>\n",
       "      <td>Male</td>\n",
       "      <td>United Kingdom</td>\n",
       "      <td>Yes</td>\n",
       "      <td>Often</td>\n",
       "      <td>26-100</td>\n",
       "      <td>No</td>\n",
       "      <td>Yes</td>\n",
       "      <td>No</td>\n",
       "      <td>Yes</td>\n",
       "      <td>No</td>\n",
       "      <td>No</td>\n",
       "      <td>No</td>\n",
       "      <td>Somewhat difficult</td>\n",
       "      <td>Yes</td>\n",
       "      <td>Some of them</td>\n",
       "      <td>No</td>\n",
       "      <td>Maybe</td>\n",
       "      <td>No</td>\n",
       "      <td>Yes</td>\n",
       "    </tr>\n",
       "    <tr>\n",
       "      <th>4</th>\n",
       "      <td>31</td>\n",
       "      <td>Male</td>\n",
       "      <td>United States</td>\n",
       "      <td>No</td>\n",
       "      <td>Never</td>\n",
       "      <td>100-500</td>\n",
       "      <td>Yes</td>\n",
       "      <td>Yes</td>\n",
       "      <td>Yes</td>\n",
       "      <td>No</td>\n",
       "      <td>Don't know</td>\n",
       "      <td>Don't know</td>\n",
       "      <td>Don't know</td>\n",
       "      <td>Don't know</td>\n",
       "      <td>No</td>\n",
       "      <td>Some of them</td>\n",
       "      <td>Yes</td>\n",
       "      <td>Yes</td>\n",
       "      <td>Don't know</td>\n",
       "      <td>No</td>\n",
       "    </tr>\n",
       "  </tbody>\n",
       "</table>\n",
       "</div>"
      ],
      "text/plain": [
       "   Age  Gender         Country treatment work_interfere    no_employees  \\\n",
       "0   37  Female   United States       Yes          Often          Jun-25   \n",
       "1   44       M   United States        No         Rarely  More than 1000   \n",
       "2   32    Male          Canada        No         Rarely          Jun-25   \n",
       "3   31    Male  United Kingdom       Yes          Often          26-100   \n",
       "4   31    Male   United States        No          Never         100-500   \n",
       "\n",
       "  remote_work tech_company    benefits care_options wellness_program  \\\n",
       "0          No          Yes         Yes     Not sure               No   \n",
       "1          No           No  Don't know           No       Don't know   \n",
       "2          No          Yes          No           No               No   \n",
       "3          No          Yes          No          Yes               No   \n",
       "4         Yes          Yes         Yes           No       Don't know   \n",
       "\n",
       "    seek_help   anonymity               leave mental_health_consequence  \\\n",
       "0         Yes         Yes       Somewhat easy                        No   \n",
       "1  Don't know  Don't know          Don't know                     Maybe   \n",
       "2          No  Don't know  Somewhat difficult                        No   \n",
       "3          No          No  Somewhat difficult                       Yes   \n",
       "4  Don't know  Don't know          Don't know                        No   \n",
       "\n",
       "      coworkers supervisor mental_health_interview mental_vs_physical  \\\n",
       "0  Some of them        Yes                      No                Yes   \n",
       "1            No         No                      No         Don't know   \n",
       "2           Yes        Yes                     Yes                 No   \n",
       "3  Some of them         No                   Maybe                 No   \n",
       "4  Some of them        Yes                     Yes         Don't know   \n",
       "\n",
       "  obs_consequence  \n",
       "0              No  \n",
       "1              No  \n",
       "2              No  \n",
       "3             Yes  \n",
       "4              No  "
      ]
     },
     "execution_count": 5,
     "metadata": {},
     "output_type": "execute_result"
    }
   ],
   "source": [
    "df.head()"
   ]
  },
  {
   "cell_type": "markdown",
   "id": "687ffc75",
   "metadata": {},
   "source": [
    "#### We dont want the some more columns like no_employees,tech_company,benefits,care_options, wellness_program, seek_help,anonymity,supervisor,obs_consequence,work_interfere,leave"
   ]
  },
  {
   "cell_type": "code",
   "execution_count": 6,
   "id": "a6d3549c",
   "metadata": {},
   "outputs": [],
   "source": [
    "#droping the above mentioned columns\n",
    "df.drop('no_employees', axis=1, inplace=True)\n",
    "df.drop('tech_company', axis=1, inplace=True)\n",
    "df.drop('benefits', axis=1, inplace=True)\n",
    "df.drop('care_options', axis=1, inplace=True)\n",
    "df.drop('wellness_program', axis=1, inplace=True)\n",
    "df.drop('seek_help', axis=1, inplace=True)\n",
    "df.drop('anonymity', axis=1, inplace=True)\n",
    "df.drop('supervisor', axis=1, inplace=True)\n",
    "df.drop('obs_consequence', axis=1, inplace=True)\n",
    "df.drop('work_interfere', axis=1, inplace=True)\n",
    "df.drop('leave', axis=1, inplace=True)"
   ]
  },
  {
   "cell_type": "code",
   "execution_count": 7,
   "id": "34fd2c78",
   "metadata": {},
   "outputs": [
    {
     "data": {
      "text/html": [
       "<div>\n",
       "<style scoped>\n",
       "    .dataframe tbody tr th:only-of-type {\n",
       "        vertical-align: middle;\n",
       "    }\n",
       "\n",
       "    .dataframe tbody tr th {\n",
       "        vertical-align: top;\n",
       "    }\n",
       "\n",
       "    .dataframe thead th {\n",
       "        text-align: right;\n",
       "    }\n",
       "</style>\n",
       "<table border=\"1\" class=\"dataframe\">\n",
       "  <thead>\n",
       "    <tr style=\"text-align: right;\">\n",
       "      <th></th>\n",
       "      <th>Age</th>\n",
       "      <th>Gender</th>\n",
       "      <th>Country</th>\n",
       "      <th>treatment</th>\n",
       "      <th>remote_work</th>\n",
       "      <th>mental_health_consequence</th>\n",
       "      <th>coworkers</th>\n",
       "      <th>mental_health_interview</th>\n",
       "      <th>mental_vs_physical</th>\n",
       "    </tr>\n",
       "  </thead>\n",
       "  <tbody>\n",
       "    <tr>\n",
       "      <th>0</th>\n",
       "      <td>37</td>\n",
       "      <td>Female</td>\n",
       "      <td>United States</td>\n",
       "      <td>Yes</td>\n",
       "      <td>No</td>\n",
       "      <td>No</td>\n",
       "      <td>Some of them</td>\n",
       "      <td>No</td>\n",
       "      <td>Yes</td>\n",
       "    </tr>\n",
       "    <tr>\n",
       "      <th>1</th>\n",
       "      <td>44</td>\n",
       "      <td>M</td>\n",
       "      <td>United States</td>\n",
       "      <td>No</td>\n",
       "      <td>No</td>\n",
       "      <td>Maybe</td>\n",
       "      <td>No</td>\n",
       "      <td>No</td>\n",
       "      <td>Don't know</td>\n",
       "    </tr>\n",
       "    <tr>\n",
       "      <th>2</th>\n",
       "      <td>32</td>\n",
       "      <td>Male</td>\n",
       "      <td>Canada</td>\n",
       "      <td>No</td>\n",
       "      <td>No</td>\n",
       "      <td>No</td>\n",
       "      <td>Yes</td>\n",
       "      <td>Yes</td>\n",
       "      <td>No</td>\n",
       "    </tr>\n",
       "    <tr>\n",
       "      <th>3</th>\n",
       "      <td>31</td>\n",
       "      <td>Male</td>\n",
       "      <td>United Kingdom</td>\n",
       "      <td>Yes</td>\n",
       "      <td>No</td>\n",
       "      <td>Yes</td>\n",
       "      <td>Some of them</td>\n",
       "      <td>Maybe</td>\n",
       "      <td>No</td>\n",
       "    </tr>\n",
       "    <tr>\n",
       "      <th>4</th>\n",
       "      <td>31</td>\n",
       "      <td>Male</td>\n",
       "      <td>United States</td>\n",
       "      <td>No</td>\n",
       "      <td>Yes</td>\n",
       "      <td>No</td>\n",
       "      <td>Some of them</td>\n",
       "      <td>Yes</td>\n",
       "      <td>Don't know</td>\n",
       "    </tr>\n",
       "  </tbody>\n",
       "</table>\n",
       "</div>"
      ],
      "text/plain": [
       "   Age  Gender         Country treatment remote_work  \\\n",
       "0   37  Female   United States       Yes          No   \n",
       "1   44       M   United States        No          No   \n",
       "2   32    Male          Canada        No          No   \n",
       "3   31    Male  United Kingdom       Yes          No   \n",
       "4   31    Male   United States        No         Yes   \n",
       "\n",
       "  mental_health_consequence     coworkers mental_health_interview  \\\n",
       "0                        No  Some of them                      No   \n",
       "1                     Maybe            No                      No   \n",
       "2                        No           Yes                     Yes   \n",
       "3                       Yes  Some of them                   Maybe   \n",
       "4                        No  Some of them                     Yes   \n",
       "\n",
       "  mental_vs_physical  \n",
       "0                Yes  \n",
       "1         Don't know  \n",
       "2                 No  \n",
       "3                 No  \n",
       "4         Don't know  "
      ]
     },
     "execution_count": 7,
     "metadata": {},
     "output_type": "execute_result"
    }
   ],
   "source": [
    "df.head()"
   ]
  },
  {
   "cell_type": "code",
   "execution_count": 8,
   "id": "2d0d76f7",
   "metadata": {},
   "outputs": [
    {
     "data": {
      "text/plain": [
       "1259"
      ]
     },
     "execution_count": 8,
     "metadata": {},
     "output_type": "execute_result"
    }
   ],
   "source": [
    "#checking the NAN\n",
    "len(df.dropna())"
   ]
  },
  {
   "cell_type": "markdown",
   "id": "eedec015",
   "metadata": {},
   "source": [
    "So previous after droping the number of rows was 995 but now it has increased to 1259. that is there is no loss of data due to null values. Im viewing this as a great improvement in handling the missing data."
   ]
  },
  {
   "cell_type": "code",
   "execution_count": 10,
   "id": "dc75b041",
   "metadata": {},
   "outputs": [
    {
     "data": {
      "text/plain": [
       "array(['Female', 'M', 'Male', 'male', 'female', 'm', 'Male-ish', 'maile',\n",
       "       'Trans-female', 'Cis Female', 'F', 'something kinda male?',\n",
       "       'Cis Male', 'Woman', 'f', 'Mal', 'Male (CIS)', 'queer/she/they',\n",
       "       'non-binary', 'Femake', 'woman', 'Make', 'Nah', 'All', 'Enby',\n",
       "       'fluid', 'Genderqueer', 'Female ', 'Androgyne', 'Agender',\n",
       "       'cis-female/femme', 'Guy (-ish) ^_^', 'male leaning androgynous',\n",
       "       'Male ', 'Man', 'Trans woman', 'msle', 'Neuter', 'Female (trans)',\n",
       "       'queer', 'Female (cis)', 'Mail', 'cis male', 'A little about you',\n",
       "       'Malr', 'p', 'femail', 'Cis Man',\n",
       "       'ostensibly male, unsure what that really means'], dtype=object)"
      ]
     },
     "execution_count": 10,
     "metadata": {},
     "output_type": "execute_result"
    }
   ],
   "source": [
    "# finding the uniqie values in gender\n",
    "df['Gender'].unique()"
   ]
  },
  {
   "cell_type": "code",
   "execution_count": 11,
   "id": "b9b98aac",
   "metadata": {},
   "outputs": [
    {
     "name": "stderr",
     "output_type": "stream",
     "text": [
      "C:\\Users\\vasan\\anaconda3\\lib\\site-packages\\pandas\\core\\indexing.py:670: SettingWithCopyWarning: \n",
      "A value is trying to be set on a copy of a slice from a DataFrame\n",
      "\n",
      "See the caveats in the documentation: https://pandas.pydata.org/pandas-docs/stable/user_guide/indexing.html#returning-a-view-versus-a-copy\n",
      "  iloc._setitem_with_indexer(indexer, value)\n"
     ]
    }
   ],
   "source": [
    "#changing the gender for the uniformity\n",
    "df['Gender'].loc[df['Gender']=='M']='Male'\n",
    "df['Gender'].loc[df['Gender']=='Male']='Male'\n",
    "df['Gender'].loc[df['Gender']=='male']='Male'\n",
    "df['Gender'].loc[df['Gender']=='female']='Female'\n",
    "df['Gender'].loc[df['Gender']=='m']='Male'\n",
    "df['Gender'].loc[df['Gender']=='Male-ish']='Male'\n",
    "df['Gender'].loc[df['Gender']=='Trans-female']='Female'\n",
    "df['Gender'].loc[df['Gender']=='Cis Female']='Female'\n",
    "df['Gender'].loc[df['Gender']=='F']='Female'\n",
    "df['Gender'].loc[df['Gender']=='Cis Male']='Male' \n",
    "df['Gender'].loc[df['Gender']=='f']='Female'\n",
    "df['Gender'].loc[df['Gender']=='Mal']='Male'\n",
    "df['Gender'].loc[df['Gender']=='queer/she/they']='Female'\n",
    "df['Gender'].loc[df['Gender']=='non-binary']='Male'\n",
    "df['Gender'].loc[df['Gender']=='woman']='Female'\n",
    "df['Gender'].loc[df['Gender']=='Make']='Male'\n",
    "df['Gender'].loc[df['Gender']=='Nah']='Male' \n",
    "df['Gender'].loc[df['Gender']=='All']='Male'\n",
    "df['Gender'].loc[df['Gender']=='Enby']='Female'\n",
    "df['Gender'].loc[df['Gender']=='fluid']='Female'\n",
    "df['Gender'].loc[df['Gender']=='Genderqueer']='Female'\n",
    "df['Gender'].loc[df['Gender']=='Female ']='Female'\n",
    "df['Gender'].loc[df['Gender']=='Androgyne']='Female'\n",
    "df['Gender'].loc[df['Gender']=='Agender']='Female'\n",
    "df['Gender'].loc[df['Gender']=='cis-female/femme']='Female'\n",
    "df['Gender'].loc[df['Gender']=='Guy (-ish) ^_^']='Male'\n",
    "df['Gender'].loc[df['Gender']=='male leaning androgynous']='Male'\n",
    "df['Gender'].loc[df['Gender']=='Trans woman']='Female'\n",
    "df['Gender'].loc[df['Gender']== 'msle']='Male'\n",
    "df['Gender'].loc[df['Gender']=='Neuter']='Female'\n",
    "df['Gender'].loc[df['Gender']=='Female (trans)']='Female'\n",
    "df['Gender'].loc[df['Gender']=='queer']='Female'\n",
    "df['Gender'].loc[df['Gender']=='Female (cis)']='Female'\n",
    "df['Gender'].loc[df['Gender']=='Mail']='Male'\n",
    "df['Gender'].loc[df['Gender']=='cis male']='Male'\n",
    "df['Gender'].loc[df['Gender']=='A little about you']='Female'\n",
    "df['Gender'].loc[df['Gender']=='Malr']='Male'\n",
    "df['Gender'].loc[df['Gender']=='p']='Female'\n",
    "df['Gender'].loc[df['Gender']=='Woman']='Female'\n",
    "df['Gender'].loc[df['Gender']=='femail']='Female'\n",
    "df['Gender'].loc[df['Gender']=='Cis Man']='Male'\n",
    "                 "
   ]
  },
  {
   "cell_type": "code",
   "execution_count": 12,
   "id": "679d5059",
   "metadata": {},
   "outputs": [
    {
     "data": {
      "text/plain": [
       "array(['Female', 'Male', 'maile', 'something kinda male?', 'Male (CIS)',\n",
       "       'Femake', 'Male ', 'Man',\n",
       "       'ostensibly male, unsure what that really means'], dtype=object)"
      ]
     },
     "execution_count": 12,
     "metadata": {},
     "output_type": "execute_result"
    }
   ],
   "source": [
    "#finding the unique value of gender\n",
    "df['Gender'].unique()"
   ]
  },
  {
   "cell_type": "code",
   "execution_count": 13,
   "id": "fc946efd",
   "metadata": {},
   "outputs": [],
   "source": [
    "#changing all to male and female\n",
    "df['Gender'].loc[df['Gender']=='Male ']='Male'\n",
    "df['Gender'].loc[df['Gender']=='ostensibly male, unsure what that really means']='Male'"
   ]
  },
  {
   "cell_type": "code",
   "execution_count": 14,
   "id": "45a0e86e",
   "metadata": {},
   "outputs": [
    {
     "data": {
      "text/plain": [
       "array(['Female', 'Male', 'maile', 'something kinda male?', 'Male (CIS)',\n",
       "       'Femake', 'Man'], dtype=object)"
      ]
     },
     "execution_count": 14,
     "metadata": {},
     "output_type": "execute_result"
    }
   ],
   "source": [
    "df['Gender'].unique()"
   ]
  },
  {
   "cell_type": "code",
   "execution_count": 15,
   "id": "e398901a",
   "metadata": {},
   "outputs": [],
   "source": [
    "#changing all to male and female\n",
    "df['Gender'].loc[df['Gender']=='maile']='Male'\n",
    "df['Gender'].loc[df['Gender']=='something kinda male?']='Male'\n",
    "df['Gender'].loc[df['Gender']=='Male (CIS)']='Male'\n",
    "df['Gender'].loc[df['Gender']=='Man']='Male'\n",
    "df['Gender'].loc[df['Gender']=='Femake']='Female'"
   ]
  },
  {
   "cell_type": "code",
   "execution_count": 16,
   "id": "2bc59e67",
   "metadata": {},
   "outputs": [
    {
     "data": {
      "text/plain": [
       "array(['Female', 'Male'], dtype=object)"
      ]
     },
     "execution_count": 16,
     "metadata": {},
     "output_type": "execute_result"
    }
   ],
   "source": [
    "df['Gender'].unique()"
   ]
  },
  {
   "cell_type": "markdown",
   "id": "464adf57",
   "metadata": {},
   "source": [
    "#### Changing the column name for ease of use"
   ]
  },
  {
   "cell_type": "code",
   "execution_count": 17,
   "id": "c72895cc",
   "metadata": {},
   "outputs": [],
   "source": [
    "df=df.rename(columns={'Age':'AGE','Gender':'GENDER','Country':'COUNTRY','treatment':'TREATMENT',\n",
    "                      'remote_work':'REMOTE','mental_health_consequence':'MENTAL_HEALTH','coworkers':'COWORKERS',\n",
    "                      'mental_health_interview':'MENTAL_INTERVIEW','mental_vs_physical':'MENTAL_VS_PHY'})"
   ]
  },
  {
   "cell_type": "markdown",
   "id": "43fa6f2d",
   "metadata": {},
   "source": [
    "### 1. Comparing the mental illness of employees based on the gender category."
   ]
  },
  {
   "cell_type": "code",
   "execution_count": 18,
   "id": "9d75e98a",
   "metadata": {},
   "outputs": [
    {
     "data": {
      "text/plain": [
       "<seaborn.axisgrid.FacetGrid at 0x196520c8ef0>"
      ]
     },
     "execution_count": 18,
     "metadata": {},
     "output_type": "execute_result"
    },
    {
     "data": {
      "image/png": "[encoded data removed]",
      "text/plain": [
       "<Figure size 720x360 with 2 Axes>"
      ]
     },
     "metadata": {
      "needs_background": "light"
     },
     "output_type": "display_data"
    }
   ],
   "source": [
    "# comparing the mental health and gender\n",
    "import seaborn as sns\n",
    "sns.displot(df, x=\"MENTAL_HEALTH\", col=\"GENDER\")"
   ]
  },
  {
   "cell_type": "markdown",
   "id": "78b85934",
   "metadata": {},
   "source": [
    "### 2.Comparing the mental illness of employees based on the countries."
   ]
  },
  {
   "cell_type": "code",
   "execution_count": 19,
   "id": "6e0ee0b1",
   "metadata": {},
   "outputs": [
    {
     "data": {
      "text/plain": [
       "array(['United States', 'Canada', 'United Kingdom', 'Bulgaria', 'France',\n",
       "       'Portugal', 'Netherlands', 'Switzerland', 'Poland', 'Australia',\n",
       "       'Germany', 'Russia', 'Mexico', 'Brazil', 'Slovenia', 'Costa Rica',\n",
       "       'Austria', 'Ireland', 'India', 'South Africa', 'Italy', 'Sweden',\n",
       "       'Colombia', 'Latvia', 'Romania', 'Belgium', 'New Zealand',\n",
       "       'Zimbabwe', 'Spain', 'Finland', 'Uruguay', 'Israel',\n",
       "       'Bosnia and Herzegovina', 'Hungary', 'Singapore', 'Japan',\n",
       "       'Nigeria', 'Croatia', 'Norway', 'Thailand', 'Denmark',\n",
       "       'Bahamas, The', 'Greece', 'Moldova', 'Georgia', 'China',\n",
       "       'Czech Republic', 'Philippines'], dtype=object)"
      ]
     },
     "execution_count": 19,
     "metadata": {},
     "output_type": "execute_result"
    }
   ],
   "source": [
    "#finding the unique values of countires\n",
    "df['COUNTRY'].unique()"
   ]
  },
  {
   "cell_type": "code",
   "execution_count": 20,
   "id": "2c973baf",
   "metadata": {},
   "outputs": [
    {
     "name": "stderr",
     "output_type": "stream",
     "text": [
      "C:\\Users\\vasan\\anaconda3\\lib\\site-packages\\pandas\\core\\indexing.py:670: SettingWithCopyWarning: \n",
      "A value is trying to be set on a copy of a slice from a DataFrame\n",
      "\n",
      "See the caveats in the documentation: https://pandas.pydata.org/pandas-docs/stable/user_guide/indexing.html#returning-a-view-versus-a-copy\n",
      "  iloc._setitem_with_indexer(indexer, value)\n"
     ]
    }
   ],
   "source": [
    "# changing the COUNTRY name to its correspnding code\n",
    "df['COUNTRY'].loc[df['COUNTRY']=='United States']='USA'\n",
    "df['COUNTRY'].loc[df['COUNTRY']=='Canada']='CAN'\n",
    "df['COUNTRY'].loc[df['COUNTRY']=='United Kingdom']='UK'\n",
    "df['COUNTRY'].loc[df['COUNTRY']=='Bulgaria']='BGR'\n",
    "df['COUNTRY'].loc[df['COUNTRY']=='France']='FRA'\n",
    "df['COUNTRY'].loc[df['COUNTRY']=='Portugal']='PRT'\n",
    "df['COUNTRY'].loc[df['COUNTRY']=='Netherlands']='NLD'\n",
    "df['COUNTRY'].loc[df['COUNTRY']=='Switzerland']='SWZ'\n",
    "df['COUNTRY'].loc[df['COUNTRY']=='Poland']='POL'\n",
    "df['COUNTRY'].loc[df['COUNTRY']=='Australia']='AUS'\n",
    "df['COUNTRY'].loc[df['COUNTRY']=='Germany']='DEU'\n",
    "df['COUNTRY'].loc[df['COUNTRY']=='Mexico']='MEX'\n",
    "df['COUNTRY'].loc[df['COUNTRY']=='Brazil']='BRA'\n",
    "df['COUNTRY'].loc[df['COUNTRY']=='Slovenia']='SVN'\n",
    "df['COUNTRY'].loc[df['COUNTRY']=='Ireland']='IRE'\n",
    "df['COUNTRY'].loc[df['COUNTRY']=='India']='IND'\n",
    "df['COUNTRY'].loc[df['COUNTRY']=='South Africa']='ZAF'\n",
    "df['COUNTRY'].loc[df['COUNTRY']=='Russia']='USSR'\n",
    "df['COUNTRY'].loc[df['COUNTRY']=='Italy']='ITA'\n",
    "df['COUNTRY'].loc[df['COUNTRY']=='Colombia']='COL'\n",
    "df['COUNTRY'].loc[df['COUNTRY']=='Portugal']='POR'\n",
    "df['COUNTRY'].loc[df['COUNTRY']=='Switzerland']='SWZ'\n",
    "df['COUNTRY'].loc[df['COUNTRY']=='Belgium']='BEL'\n",
    "df['COUNTRY'].loc[df['COUNTRY']=='Sweden']='SWE'\n",
    "df['COUNTRY'].loc[df['COUNTRY']=='New Zealand']='NZL'\n",
    "df['COUNTRY'].loc[df['COUNTRY']=='Zimbabwe']='ZMB'\n",
    "df['COUNTRY'].loc[df['COUNTRY']=='Finland']='FIN'\n",
    "df['COUNTRY'].loc[df['COUNTRY']=='Israel']='ISR'\n",
    "df['COUNTRY'].loc[df['COUNTRY']=='Bosnia and Herzegovina']='BIH'\n",
    "df['COUNTRY'].loc[df['COUNTRY']=='Austria']='AUT'\n",
    "df['COUNTRY'].loc[df['COUNTRY']=='Hungary']='HUN'\n",
    "df['COUNTRY'].loc[df['COUNTRY']=='Singapore']='SIN'\n",
    "df['COUNTRY'].loc[df['COUNTRY']=='Japan']='JPN'\n",
    "df['COUNTRY'].loc[df['COUNTRY']=='Croatia']='CRO'\n",
    "df['COUNTRY'].loc[df['COUNTRY']=='Thailand']='THL'\n",
    "df['COUNTRY'].loc[df['COUNTRY']=='Denmark']='DEN'\n",
    "df['COUNTRY'].loc[df['COUNTRY']=='Bahamas, The']='BHS'\n",
    "df['COUNTRY'].loc[df['COUNTRY']=='Moldova']='MOL'\n",
    "df['COUNTRY'].loc[df['COUNTRY']=='Georgia']='GEO'\n",
    "df['COUNTRY'].loc[df['COUNTRY']=='China']='CHN'\n",
    "df['COUNTRY'].loc[df['COUNTRY']=='Czech Republic']='CZE'\n",
    "df['COUNTRY'].loc[df['COUNTRY']=='Philippines']='PHL'\n",
    "df['COUNTRY'].loc[df['COUNTRY']=='Costa Rica']='CSR'\n",
    "df['COUNTRY'].loc[df['COUNTRY']=='Romania']='RMR'\n",
    "df['COUNTRY'].loc[df['COUNTRY']=='Latvia']='LAT'\n",
    "df['COUNTRY'].loc[df['COUNTRY']=='Spain']='SPN'\n",
    "df['COUNTRY'].loc[df['COUNTRY']=='Greece']='GRE'\n",
    "df['COUNTRY'].loc[df['COUNTRY']=='Nigeria']='NIA'"
   ]
  },
  {
   "cell_type": "code",
   "execution_count": 21,
   "id": "a92baf21",
   "metadata": {},
   "outputs": [
    {
     "data": {
      "text/plain": [
       "array(['No', 'Maybe', 'Yes'], dtype=object)"
      ]
     },
     "execution_count": 21,
     "metadata": {},
     "output_type": "execute_result"
    }
   ],
   "source": [
    "df['MENTAL_HEALTH'].unique()"
   ]
  },
  {
   "cell_type": "code",
   "execution_count": 22,
   "id": "6d43b3bd",
   "metadata": {},
   "outputs": [
    {
     "data": {
      "text/plain": [
       "<seaborn.axisgrid.FacetGrid at 0x196621c21d0>"
      ]
     },
     "execution_count": 22,
     "metadata": {},
     "output_type": "execute_result"
    },
    {
     "data": {
      "image/png": "[encoded data removed]",
      "text/plain": [
       "<Figure size 1531.25x576 with 1 Axes>"
      ]
     },
     "metadata": {
      "needs_background": "light"
     },
     "output_type": "display_data"
    }
   ],
   "source": [
    "#ploting countrywise mental health\n",
    "sns.displot(df, x=\"COUNTRY\", hue=\"MENTAL_HEALTH\",height=8,aspect=20/8)"
   ]
  },
  {
   "cell_type": "markdown",
   "id": "46b7f37f",
   "metadata": {},
   "source": [
    "### 3.Comparing the mental illness of employees based on the remote work culture."
   ]
  },
  {
   "cell_type": "code",
   "execution_count": 23,
   "id": "d1e097fb",
   "metadata": {},
   "outputs": [
    {
     "data": {
      "text/plain": [
       "<seaborn.axisgrid.FacetGrid at 0x196627e9128>"
      ]
     },
     "execution_count": 23,
     "metadata": {},
     "output_type": "execute_result"
    },
    {
     "data": {
      "image/png": "[encoded data removed]",
      "text/plain": [
       "<Figure size 720x360 with 2 Axes>"
      ]
     },
     "metadata": {
      "needs_background": "light"
     },
     "output_type": "display_data"
    }
   ],
   "source": [
    "#comparing the mental health based on the remote work culture\n",
    "sns.displot(df, x=\"MENTAL_HEALTH\", col=\"REMOTE\")"
   ]
  },
  {
   "cell_type": "markdown",
   "id": "80993baa",
   "metadata": {},
   "source": [
    "### 4.Comparing the mental illness of employees based on the co-workers."
   ]
  },
  {
   "cell_type": "code",
   "execution_count": 24,
   "id": "bfaffa46",
   "metadata": {},
   "outputs": [
    {
     "data": {
      "text/plain": [
       "<seaborn.axisgrid.FacetGrid at 0x196627e02b0>"
      ]
     },
     "execution_count": 24,
     "metadata": {},
     "output_type": "execute_result"
    },
    {
     "data": {
      "image/png": "[encoded data removed]",
      "text/plain": [
       "<Figure size 1080x360 with 3 Axes>"
      ]
     },
     "metadata": {
      "needs_background": "light"
     },
     "output_type": "display_data"
    }
   ],
   "source": [
    "#comparing the mental health based on the coworkers\n",
    "sns.displot(df, x=\"MENTAL_HEALTH\", col=\"COWORKERS\")"
   ]
  },
  {
   "cell_type": "markdown",
   "id": "1275431a",
   "metadata": {},
   "source": [
    "Based on the above graphical analysis we find the below observations:\n",
    "<br>1. The mental illness for men is higher than the women\n",
    "<br>2. \"The mental illness rate in the United States is way higher than the Bahamas\" this was my last week's conclusion. But, after a certain deeper analysis, I have included all the countries and also did a graph with countries having several people with illness and without. In both, USA is the first and it shows that the number of entries is different for different countries and last week's conclusion is wrong.\n",
    "<br>3. Remote employees also have a mental illness at the same rate as non-remote workers. So remote jobs won't give that much relief for the mental illness\n",
    "<br>4. If we have more co-workers then there is a high possibility of reducing mental illness."
   ]
  },
  {
   "cell_type": "markdown",
   "id": "3e42633a",
   "metadata": {},
   "source": [
    "### Building a model and evaluating"
   ]
  },
  {
   "cell_type": "code",
   "execution_count": 26,
   "id": "bd3c4499",
   "metadata": {},
   "outputs": [],
   "source": [
    "#importing libraries\n",
    "# Core libraries\n",
    "import pandas as pd\n",
    "import numpy as np\n",
    "import matplotlib.pyplot as plt\n",
    "\n",
    "# Sklearn processing\n",
    "from sklearn.preprocessing import MinMaxScaler\n",
    "from sklearn.model_selection import train_test_split\n",
    "\n",
    "# Sklearn regression algorithms\n",
    "from sklearn.linear_model import LinearRegression\n",
    "from sklearn.neighbors import KNeighborsRegressor\n",
    "from sklearn.tree import DecisionTreeRegressor\n",
    "\n",
    "# Sklearn regression model evaluation function\n",
    "from sklearn.metrics import mean_absolute_error\n",
    "\n",
    "from sklearn.neighbors import KNeighborsClassifier\n",
    "from sklearn.metrics import classification_report, confusion_matrix"
   ]
  },
  {
   "cell_type": "code",
   "execution_count": 27,
   "id": "1ac7df5e",
   "metadata": {},
   "outputs": [],
   "source": [
    "plt.style.use('bmh')"
   ]
  },
  {
   "cell_type": "code",
   "execution_count": 28,
   "id": "8774e91a",
   "metadata": {},
   "outputs": [
    {
     "data": {
      "text/html": [
       "<div>\n",
       "<style scoped>\n",
       "    .dataframe tbody tr th:only-of-type {\n",
       "        vertical-align: middle;\n",
       "    }\n",
       "\n",
       "    .dataframe tbody tr th {\n",
       "        vertical-align: top;\n",
       "    }\n",
       "\n",
       "    .dataframe thead th {\n",
       "        text-align: right;\n",
       "    }\n",
       "</style>\n",
       "<table border=\"1\" class=\"dataframe\">\n",
       "  <thead>\n",
       "    <tr style=\"text-align: right;\">\n",
       "      <th></th>\n",
       "      <th>AGE</th>\n",
       "      <th>GENDER</th>\n",
       "      <th>COUNTRY</th>\n",
       "      <th>TREATMENT</th>\n",
       "      <th>REMOTE</th>\n",
       "      <th>MENTAL_HEALTH</th>\n",
       "      <th>COWORKERS</th>\n",
       "      <th>MENTAL_INTERVIEW</th>\n",
       "      <th>MENTAL_VS_PHY</th>\n",
       "    </tr>\n",
       "  </thead>\n",
       "  <tbody>\n",
       "    <tr>\n",
       "      <th>0</th>\n",
       "      <td>37</td>\n",
       "      <td>Female</td>\n",
       "      <td>USA</td>\n",
       "      <td>Yes</td>\n",
       "      <td>No</td>\n",
       "      <td>No</td>\n",
       "      <td>Some of them</td>\n",
       "      <td>No</td>\n",
       "      <td>Yes</td>\n",
       "    </tr>\n",
       "    <tr>\n",
       "      <th>1</th>\n",
       "      <td>44</td>\n",
       "      <td>Male</td>\n",
       "      <td>USA</td>\n",
       "      <td>No</td>\n",
       "      <td>No</td>\n",
       "      <td>Maybe</td>\n",
       "      <td>No</td>\n",
       "      <td>No</td>\n",
       "      <td>Don't know</td>\n",
       "    </tr>\n",
       "    <tr>\n",
       "      <th>2</th>\n",
       "      <td>32</td>\n",
       "      <td>Male</td>\n",
       "      <td>CAN</td>\n",
       "      <td>No</td>\n",
       "      <td>No</td>\n",
       "      <td>No</td>\n",
       "      <td>Yes</td>\n",
       "      <td>Yes</td>\n",
       "      <td>No</td>\n",
       "    </tr>\n",
       "    <tr>\n",
       "      <th>3</th>\n",
       "      <td>31</td>\n",
       "      <td>Male</td>\n",
       "      <td>UK</td>\n",
       "      <td>Yes</td>\n",
       "      <td>No</td>\n",
       "      <td>Yes</td>\n",
       "      <td>Some of them</td>\n",
       "      <td>Maybe</td>\n",
       "      <td>No</td>\n",
       "    </tr>\n",
       "    <tr>\n",
       "      <th>4</th>\n",
       "      <td>31</td>\n",
       "      <td>Male</td>\n",
       "      <td>USA</td>\n",
       "      <td>No</td>\n",
       "      <td>Yes</td>\n",
       "      <td>No</td>\n",
       "      <td>Some of them</td>\n",
       "      <td>Yes</td>\n",
       "      <td>Don't know</td>\n",
       "    </tr>\n",
       "  </tbody>\n",
       "</table>\n",
       "</div>"
      ],
      "text/plain": [
       "   AGE  GENDER COUNTRY TREATMENT REMOTE MENTAL_HEALTH     COWORKERS  \\\n",
       "0   37  Female     USA       Yes     No            No  Some of them   \n",
       "1   44    Male     USA        No     No         Maybe            No   \n",
       "2   32    Male     CAN        No     No            No           Yes   \n",
       "3   31    Male      UK       Yes     No           Yes  Some of them   \n",
       "4   31    Male     USA        No    Yes            No  Some of them   \n",
       "\n",
       "  MENTAL_INTERVIEW MENTAL_VS_PHY  \n",
       "0               No           Yes  \n",
       "1               No    Don't know  \n",
       "2              Yes            No  \n",
       "3            Maybe            No  \n",
       "4              Yes    Don't know  "
      ]
     },
     "execution_count": 28,
     "metadata": {},
     "output_type": "execute_result"
    }
   ],
   "source": [
    "#print df\n",
    "df.head()"
   ]
  },
  {
   "cell_type": "markdown",
   "id": "8d2b4c20",
   "metadata": {},
   "source": [
    "#### Changing all string data to number"
   ]
  },
  {
   "cell_type": "code",
   "execution_count": 30,
   "id": "4d5f531d",
   "metadata": {},
   "outputs": [],
   "source": [
    "#changing male and female to 1 and 2\n",
    "df['GENDER'].loc[df['GENDER']=='Male']=1\n",
    "df['GENDER'].loc[df['GENDER']=='Female']=2"
   ]
  },
  {
   "cell_type": "code",
   "execution_count": 31,
   "id": "c19d59a2",
   "metadata": {},
   "outputs": [
    {
     "data": {
      "text/plain": [
       "array(['Yes', 'No'], dtype=object)"
      ]
     },
     "execution_count": 31,
     "metadata": {},
     "output_type": "execute_result"
    }
   ],
   "source": [
    "df['TREATMENT'].unique()"
   ]
  },
  {
   "cell_type": "code",
   "execution_count": 32,
   "id": "f790a1b7",
   "metadata": {},
   "outputs": [],
   "source": [
    "#changing treatment yes and no to 1 and 0\n",
    "df['TREATMENT'].loc[df['TREATMENT']=='Yes']=1\n",
    "df['TREATMENT'].loc[df['TREATMENT']=='No']=0"
   ]
  },
  {
   "cell_type": "code",
   "execution_count": 33,
   "id": "662e4293",
   "metadata": {},
   "outputs": [
    {
     "data": {
      "text/plain": [
       "array(['No', 'Yes'], dtype=object)"
      ]
     },
     "execution_count": 33,
     "metadata": {},
     "output_type": "execute_result"
    }
   ],
   "source": [
    "df['REMOTE'].unique()"
   ]
  },
  {
   "cell_type": "code",
   "execution_count": 34,
   "id": "579de69d",
   "metadata": {},
   "outputs": [],
   "source": [
    "df['REMOTE'].loc[df['REMOTE']=='Yes']=1\n",
    "df['REMOTE'].loc[df['REMOTE']=='No']=0"
   ]
  },
  {
   "cell_type": "code",
   "execution_count": 35,
   "id": "58857fbd",
   "metadata": {},
   "outputs": [
    {
     "data": {
      "text/plain": [
       "array(['No', 'Maybe', 'Yes'], dtype=object)"
      ]
     },
     "execution_count": 35,
     "metadata": {},
     "output_type": "execute_result"
    }
   ],
   "source": [
    "df['MENTAL_HEALTH'].unique()"
   ]
  },
  {
   "cell_type": "code",
   "execution_count": 36,
   "id": "0c193ab6",
   "metadata": {},
   "outputs": [],
   "source": [
    "df['MENTAL_HEALTH'].loc[df['MENTAL_HEALTH']=='Yes']=1\n",
    "df['MENTAL_HEALTH'].loc[df['MENTAL_HEALTH']=='No']=0\n",
    "df['MENTAL_HEALTH'].loc[df['MENTAL_HEALTH']=='Maybe']=0.5"
   ]
  },
  {
   "cell_type": "code",
   "execution_count": 37,
   "id": "74f84751",
   "metadata": {},
   "outputs": [
    {
     "data": {
      "text/plain": [
       "array(['Some of them', 'No', 'Yes'], dtype=object)"
      ]
     },
     "execution_count": 37,
     "metadata": {},
     "output_type": "execute_result"
    }
   ],
   "source": [
    "df['COWORKERS'].unique()"
   ]
  },
  {
   "cell_type": "code",
   "execution_count": 38,
   "id": "174f1a7f",
   "metadata": {},
   "outputs": [],
   "source": [
    "df['COWORKERS'].loc[df['COWORKERS']=='Yes']=1\n",
    "df['COWORKERS'].loc[df['COWORKERS']=='No']=0\n",
    "df['COWORKERS'].loc[df['COWORKERS']=='Some of them']=0.5"
   ]
  },
  {
   "cell_type": "code",
   "execution_count": 39,
   "id": "ea975546",
   "metadata": {},
   "outputs": [
    {
     "data": {
      "text/plain": [
       "array(['No', 'Yes', 'Maybe'], dtype=object)"
      ]
     },
     "execution_count": 39,
     "metadata": {},
     "output_type": "execute_result"
    }
   ],
   "source": [
    "df['MENTAL_INTERVIEW'].unique()"
   ]
  },
  {
   "cell_type": "code",
   "execution_count": 40,
   "id": "a9aa8647",
   "metadata": {},
   "outputs": [],
   "source": [
    "df['MENTAL_INTERVIEW'].loc[df['MENTAL_INTERVIEW']=='Yes']=1\n",
    "df['MENTAL_INTERVIEW'].loc[df['MENTAL_INTERVIEW']=='No']=0\n",
    "df['MENTAL_INTERVIEW'].loc[df['MENTAL_INTERVIEW']=='Maybe']=0.5"
   ]
  },
  {
   "cell_type": "code",
   "execution_count": 41,
   "id": "cc1a152b",
   "metadata": {},
   "outputs": [
    {
     "data": {
      "text/plain": [
       "array(['Yes', \"Don't know\", 'No'], dtype=object)"
      ]
     },
     "execution_count": 41,
     "metadata": {},
     "output_type": "execute_result"
    }
   ],
   "source": [
    "df['MENTAL_VS_PHY'].unique()"
   ]
  },
  {
   "cell_type": "code",
   "execution_count": 42,
   "id": "7ae83576",
   "metadata": {},
   "outputs": [],
   "source": [
    "df['MENTAL_VS_PHY'].loc[df['MENTAL_VS_PHY']=='Yes']=1\n",
    "df['MENTAL_VS_PHY'].loc[df['MENTAL_VS_PHY']=='No']=0\n",
    "df['MENTAL_VS_PHY'].loc[df['MENTAL_VS_PHY']==\"Don't know\"]=0.5"
   ]
  },
  {
   "cell_type": "code",
   "execution_count": 43,
   "id": "363bd2b0",
   "metadata": {},
   "outputs": [
    {
     "data": {
      "text/plain": [
       "array([2, 1], dtype=object)"
      ]
     },
     "execution_count": 43,
     "metadata": {},
     "output_type": "execute_result"
    }
   ],
   "source": [
    "df['GENDER'].unique()"
   ]
  },
  {
   "cell_type": "code",
   "execution_count": 44,
   "id": "84ae3725",
   "metadata": {},
   "outputs": [
    {
     "data": {
      "text/html": [
       "<div>\n",
       "<style scoped>\n",
       "    .dataframe tbody tr th:only-of-type {\n",
       "        vertical-align: middle;\n",
       "    }\n",
       "\n",
       "    .dataframe tbody tr th {\n",
       "        vertical-align: top;\n",
       "    }\n",
       "\n",
       "    .dataframe thead th {\n",
       "        text-align: right;\n",
       "    }\n",
       "</style>\n",
       "<table border=\"1\" class=\"dataframe\">\n",
       "  <thead>\n",
       "    <tr style=\"text-align: right;\">\n",
       "      <th></th>\n",
       "      <th>AGE</th>\n",
       "      <th>GENDER</th>\n",
       "      <th>COUNTRY</th>\n",
       "      <th>TREATMENT</th>\n",
       "      <th>REMOTE</th>\n",
       "      <th>MENTAL_HEALTH</th>\n",
       "      <th>COWORKERS</th>\n",
       "      <th>MENTAL_INTERVIEW</th>\n",
       "      <th>MENTAL_VS_PHY</th>\n",
       "    </tr>\n",
       "  </thead>\n",
       "  <tbody>\n",
       "    <tr>\n",
       "      <th>0</th>\n",
       "      <td>37</td>\n",
       "      <td>2</td>\n",
       "      <td>USA</td>\n",
       "      <td>1</td>\n",
       "      <td>0</td>\n",
       "      <td>0</td>\n",
       "      <td>0.5</td>\n",
       "      <td>0</td>\n",
       "      <td>1</td>\n",
       "    </tr>\n",
       "    <tr>\n",
       "      <th>1</th>\n",
       "      <td>44</td>\n",
       "      <td>1</td>\n",
       "      <td>USA</td>\n",
       "      <td>0</td>\n",
       "      <td>0</td>\n",
       "      <td>0.5</td>\n",
       "      <td>0</td>\n",
       "      <td>0</td>\n",
       "      <td>0.5</td>\n",
       "    </tr>\n",
       "    <tr>\n",
       "      <th>2</th>\n",
       "      <td>32</td>\n",
       "      <td>1</td>\n",
       "      <td>CAN</td>\n",
       "      <td>0</td>\n",
       "      <td>0</td>\n",
       "      <td>0</td>\n",
       "      <td>1</td>\n",
       "      <td>1</td>\n",
       "      <td>0</td>\n",
       "    </tr>\n",
       "    <tr>\n",
       "      <th>3</th>\n",
       "      <td>31</td>\n",
       "      <td>1</td>\n",
       "      <td>UK</td>\n",
       "      <td>1</td>\n",
       "      <td>0</td>\n",
       "      <td>1</td>\n",
       "      <td>0.5</td>\n",
       "      <td>0.5</td>\n",
       "      <td>0</td>\n",
       "    </tr>\n",
       "    <tr>\n",
       "      <th>4</th>\n",
       "      <td>31</td>\n",
       "      <td>1</td>\n",
       "      <td>USA</td>\n",
       "      <td>0</td>\n",
       "      <td>1</td>\n",
       "      <td>0</td>\n",
       "      <td>0.5</td>\n",
       "      <td>1</td>\n",
       "      <td>0.5</td>\n",
       "    </tr>\n",
       "  </tbody>\n",
       "</table>\n",
       "</div>"
      ],
      "text/plain": [
       "   AGE GENDER COUNTRY TREATMENT REMOTE MENTAL_HEALTH COWORKERS  \\\n",
       "0   37      2     USA         1      0             0       0.5   \n",
       "1   44      1     USA         0      0           0.5         0   \n",
       "2   32      1     CAN         0      0             0         1   \n",
       "3   31      1      UK         1      0             1       0.5   \n",
       "4   31      1     USA         0      1             0       0.5   \n",
       "\n",
       "  MENTAL_INTERVIEW MENTAL_VS_PHY  \n",
       "0                0             1  \n",
       "1                0           0.5  \n",
       "2                1             0  \n",
       "3              0.5             0  \n",
       "4                1           0.5  "
      ]
     },
     "execution_count": 44,
     "metadata": {},
     "output_type": "execute_result"
    }
   ],
   "source": [
    "df.head()"
   ]
  },
  {
   "cell_type": "code",
   "execution_count": 60,
   "id": "81f47f99",
   "metadata": {},
   "outputs": [],
   "source": [
    "y = df[\"MENTAL_HEALTH\"]\n",
    "y=y.astype('int')\n",
    "X = df[['GENDER', 'TREATMENT', 'REMOTE', 'COWORKERS', 'MENTAL_INTERVIEW', 'MENTAL_VS_PHY']]"
   ]
  },
  {
   "cell_type": "code",
   "execution_count": 61,
   "id": "ccd791e3",
   "metadata": {},
   "outputs": [],
   "source": [
    "# Split dataset into random train and test subsets:\n",
    "X_train, X_test, y_train, y_test = train_test_split(X, y, test_size=0.20) "
   ]
  },
  {
   "cell_type": "code",
   "execution_count": 62,
   "id": "b1e261cc",
   "metadata": {},
   "outputs": [
    {
     "data": {
      "text/plain": [
       "StandardScaler(copy=True, with_mean=True, with_std=True)"
      ]
     },
     "execution_count": 62,
     "metadata": {},
     "output_type": "execute_result"
    }
   ],
   "source": [
    "\n",
    "from sklearn.preprocessing import StandardScaler\n",
    "# Standardize features by removing mean and scaling to unit variance:\n",
    "scaler = StandardScaler()\n",
    "scaler.fit(X_train)"
   ]
  },
  {
   "cell_type": "code",
   "execution_count": 63,
   "id": "09c74da1",
   "metadata": {},
   "outputs": [],
   "source": [
    "X_train = scaler.transform(X_train)\n",
    "X_test = scaler.transform(X_test) "
   ]
  },
  {
   "cell_type": "code",
   "execution_count": 64,
   "id": "eafc9fae",
   "metadata": {},
   "outputs": [
    {
     "data": {
      "text/plain": [
       "KNeighborsClassifier(algorithm='auto', leaf_size=30, metric='minkowski',\n",
       "                     metric_params=None, n_jobs=None, n_neighbors=5, p=2,\n",
       "                     weights='uniform')"
      ]
     },
     "execution_count": 64,
     "metadata": {},
     "output_type": "execute_result"
    }
   ],
   "source": [
    "# Use the KNN classifier to fit data:\n",
    "classifier = KNeighborsClassifier()\n",
    "classifier.fit(X_train, y_train)"
   ]
  },
  {
   "cell_type": "code",
   "execution_count": 65,
   "id": "05521f27",
   "metadata": {},
   "outputs": [],
   "source": [
    "# Predict y data with classifier: \n",
    "y_predict = classifier.predict(X_test)"
   ]
  },
  {
   "cell_type": "code",
   "execution_count": 66,
   "id": "25d54506",
   "metadata": {},
   "outputs": [
    {
     "name": "stdout",
     "output_type": "stream",
     "text": [
      "[[182  21]\n",
      " [ 25  24]]\n",
      "              precision    recall  f1-score   support\n",
      "\n",
      "           0       0.88      0.90      0.89       203\n",
      "           1       0.53      0.49      0.51        49\n",
      "\n",
      "    accuracy                           0.82       252\n",
      "   macro avg       0.71      0.69      0.70       252\n",
      "weighted avg       0.81      0.82      0.81       252\n",
      "\n"
     ]
    }
   ],
   "source": [
    "# Print results: \n",
    "print(confusion_matrix(y_test, y_predict))\n",
    "print(classification_report(y_test, y_predict)) "
   ]
  },
  {
   "cell_type": "code",
   "execution_count": 74,
   "id": "b7554d08",
   "metadata": {},
   "outputs": [
    {
     "name": "stdout",
     "output_type": "stream",
     "text": [
      "(1007, 6)\n",
      "(252, 6)\n"
     ]
    }
   ],
   "source": [
    "# print the shapes of the new X objects\n",
    "print(X_train.shape)\n",
    "print(X_test.shape)"
   ]
  },
  {
   "cell_type": "code",
   "execution_count": 75,
   "id": "452a8d49",
   "metadata": {},
   "outputs": [
    {
     "name": "stdout",
     "output_type": "stream",
     "text": [
      "(1007,)\n",
      "(252,)\n"
     ]
    }
   ],
   "source": [
    "# print the shapes of the new y objects\n",
    "print(y_train.shape)\n",
    "print(y_test.shape)"
   ]
  },
  {
   "cell_type": "code",
   "execution_count": 77,
   "id": "4bc325a5",
   "metadata": {},
   "outputs": [
    {
     "data": {
      "text/plain": [
       "LogisticRegression(C=1.0, class_weight=None, dual=False, fit_intercept=True,\n",
       "                   intercept_scaling=1, l1_ratio=None, max_iter=100,\n",
       "                   multi_class='auto', n_jobs=None, penalty='l2',\n",
       "                   random_state=None, solver='lbfgs', tol=0.0001, verbose=0,\n",
       "                   warm_start=False)"
      ]
     },
     "execution_count": 77,
     "metadata": {},
     "output_type": "execute_result"
    }
   ],
   "source": [
    "from sklearn.linear_model import LogisticRegression\n",
    "#train the model on the training set\n",
    "logreg = LogisticRegression()\n",
    "logreg.fit(X_train, y_train)"
   ]
  },
  {
   "cell_type": "code",
   "execution_count": 79,
   "id": "f6e0bc04",
   "metadata": {},
   "outputs": [
    {
     "name": "stdout",
     "output_type": "stream",
     "text": [
      "0.8293650793650794\n"
     ]
    }
   ],
   "source": [
    "import sklearn.metrics as metrics\n",
    "#make predictions on the testing set\n",
    "y_pred = logreg.predict(X_test)\n",
    "\n",
    "# compare actual response values (y_test) with predicted response values (y_pred)\n",
    "print(metrics.accuracy_score(y_test, y_pred))"
   ]
  },
  {
   "cell_type": "code",
   "execution_count": 80,
   "id": "878414f7",
   "metadata": {},
   "outputs": [
    {
     "name": "stdout",
     "output_type": "stream",
     "text": [
      "0.8174603174603174\n"
     ]
    }
   ],
   "source": [
    "#Repeat for KNN with K=5:\n",
    "knn = KNeighborsClassifier(n_neighbors=5)\n",
    "knn.fit(X_train, y_train)\n",
    "y_pred = knn.predict(X_test)\n",
    "print(metrics.accuracy_score(y_test, y_pred))"
   ]
  },
  {
   "cell_type": "code",
   "execution_count": 81,
   "id": "d7c5c24d",
   "metadata": {},
   "outputs": [
    {
     "name": "stdout",
     "output_type": "stream",
     "text": [
      "0.8174603174603174\n"
     ]
    }
   ],
   "source": [
    "#Repeat for KNN with K=1:\n",
    "knn = KNeighborsClassifier(n_neighbors=5)\n",
    "knn.fit(X_train, y_train)\n",
    "y_pred = knn.predict(X_test)\n",
    "print(metrics.accuracy_score(y_test, y_pred))"
   ]
  },
  {
   "cell_type": "code",
   "execution_count": 82,
   "id": "a80bed84",
   "metadata": {},
   "outputs": [
    {
     "name": "stdout",
     "output_type": "stream",
     "text": [
      "[0.753968253968254, 0.8293650793650794, 0.7936507936507936, 0.7936507936507936, 0.8174603174603174, 0.7976190476190477, 0.8174603174603174, 0.8095238095238095, 0.8253968253968254, 0.8333333333333334, 0.8293650793650794, 0.8333333333333334, 0.8214285714285714, 0.8293650793650794, 0.7976190476190477, 0.8293650793650794, 0.8134920634920635, 0.8333333333333334, 0.8293650793650794, 0.8293650793650794, 0.8293650793650794, 0.8412698412698413, 0.8253968253968254, 0.8373015873015873, 0.8412698412698413]\n"
     ]
    }
   ],
   "source": [
    "# try K=1 through K=25 and record testing accuracy\n",
    "k_range = range(1, 26)\n",
    "\n",
    "# We can create Python dictionary using [] or dict()\n",
    "scores = []\n",
    "\n",
    "# We use a loop through the range 1 to 26\n",
    "# We append the scores in the dictionary\n",
    "for k in k_range:\n",
    "    knn = KNeighborsClassifier(n_neighbors=k)\n",
    "    knn.fit(X_train, y_train)\n",
    "    y_pred = knn.predict(X_test)\n",
    "    scores.append(metrics.accuracy_score(y_test, y_pred))\n",
    "\n",
    "print(scores)"
   ]
  },
  {
   "cell_type": "code",
   "execution_count": 83,
   "id": "3af6f7d4",
   "metadata": {},
   "outputs": [
    {
     "data": {
      "text/plain": [
       "Text(0, 0.5, 'Testing Accuracy')"
      ]
     },
     "execution_count": 83,
     "metadata": {},
     "output_type": "execute_result"
    },
    {
     "data": {
      "image/png": "[encoded data removed]",
      "text/plain": [
       "<Figure size 432x288 with 1 Axes>"
      ]
     },
     "metadata": {
      "needs_background": "light"
     },
     "output_type": "display_data"
    }
   ],
   "source": [
    "# import Matplotlib (scientific plotting library)\n",
    "import matplotlib.pyplot as plt\n",
    "\n",
    "# allow plots to appear within the notebook\n",
    "%matplotlib inline\n",
    "\n",
    "# plot the relationship between K and testing accuracy\n",
    "# plt.plot(x_axis, y_axis)\n",
    "plt.plot(k_range, scores)\n",
    "plt.xlabel('Value of K for KNN')\n",
    "plt.ylabel('Testing Accuracy')"
   ]
  },
  {
   "cell_type": "markdown",
   "id": "3692265a",
   "metadata": {},
   "source": [
    "### Summaries"
   ]
  },
  {
   "cell_type": "markdown",
   "id": "e9006720",
   "metadata": {},
   "source": [
    "As per the classification regression and KNeighborsRegressoion after evaluating the accuracy of the training model we got the output around 0.84"
   ]
  }
 ],
 "metadata": {
  "kernelspec": {
   "display_name": "Python 3",
   "language": "python",
   "name": "python3"
  },
  "language_info": {
   "codemirror_mode": {
    "name": "ipython",
    "version": 3
   },
   "file_extension": ".py",
   "mimetype": "text/x-python",
   "name": "python",
   "nbconvert_exporter": "python",
   "pygments_lexer": "ipython3",
   "version": "3.6.13"
  }
 },
 "nbformat": 4,
 "nbformat_minor": 5
}
