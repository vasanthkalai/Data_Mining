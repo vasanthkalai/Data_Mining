{
 "cells": [
  {
   "cell_type": "code",
   "execution_count": 1,
   "id": "4f5f969c",
   "metadata": {},
   "outputs": [
    {
     "name": "stderr",
     "output_type": "stream",
     "text": [
      "In C:\\Users\\vasan\\anaconda3\\lib\\site-packages\\matplotlib\\mpl-data\\stylelib\\_classic_test.mplstyle: \n",
      "The text.latex.preview rcparam was deprecated in Matplotlib 3.3 and will be removed two minor releases later.\n",
      "In C:\\Users\\vasan\\anaconda3\\lib\\site-packages\\matplotlib\\mpl-data\\stylelib\\_classic_test.mplstyle: \n",
      "The mathtext.fallback_to_cm rcparam was deprecated in Matplotlib 3.3 and will be removed two minor releases later.\n",
      "In C:\\Users\\vasan\\anaconda3\\lib\\site-packages\\matplotlib\\mpl-data\\stylelib\\_classic_test.mplstyle: Support for setting the 'mathtext.fallback_to_cm' rcParam is deprecated since 3.3 and will be removed two minor releases later; use 'mathtext.fallback : 'cm' instead.\n",
      "In C:\\Users\\vasan\\anaconda3\\lib\\site-packages\\matplotlib\\mpl-data\\stylelib\\_classic_test.mplstyle: \n",
      "The validate_bool_maybe_none function was deprecated in Matplotlib 3.3 and will be removed two minor releases later.\n",
      "In C:\\Users\\vasan\\anaconda3\\lib\\site-packages\\matplotlib\\mpl-data\\stylelib\\_classic_test.mplstyle: \n",
      "The savefig.jpeg_quality rcparam was deprecated in Matplotlib 3.3 and will be removed two minor releases later.\n",
      "In C:\\Users\\vasan\\anaconda3\\lib\\site-packages\\matplotlib\\mpl-data\\stylelib\\_classic_test.mplstyle: \n",
      "The keymap.all_axes rcparam was deprecated in Matplotlib 3.3 and will be removed two minor releases later.\n",
      "In C:\\Users\\vasan\\anaconda3\\lib\\site-packages\\matplotlib\\mpl-data\\stylelib\\_classic_test.mplstyle: \n",
      "The animation.avconv_path rcparam was deprecated in Matplotlib 3.3 and will be removed two minor releases later.\n",
      "In C:\\Users\\vasan\\anaconda3\\lib\\site-packages\\matplotlib\\mpl-data\\stylelib\\_classic_test.mplstyle: \n",
      "The animation.avconv_args rcparam was deprecated in Matplotlib 3.3 and will be removed two minor releases later.\n"
     ]
    }
   ],
   "source": [
    "# importing libraries\n",
    "import pandas as pd\n",
    "import numpy as np\n",
    "import matplotlib.pyplot as plt"
   ]
  },
  {
   "cell_type": "code",
   "execution_count": 2,
   "id": "c5d3200b",
   "metadata": {},
   "outputs": [
    {
     "data": {
      "text/html": [
       "<div>\n",
       "<style scoped>\n",
       "    .dataframe tbody tr th:only-of-type {\n",
       "        vertical-align: middle;\n",
       "    }\n",
       "\n",
       "    .dataframe tbody tr th {\n",
       "        vertical-align: top;\n",
       "    }\n",
       "\n",
       "    .dataframe thead th {\n",
       "        text-align: right;\n",
       "    }\n",
       "</style>\n",
       "<table border=\"1\" class=\"dataframe\">\n",
       "  <thead>\n",
       "    <tr style=\"text-align: right;\">\n",
       "      <th></th>\n",
       "      <th>Timestamp</th>\n",
       "      <th>Age</th>\n",
       "      <th>Gender</th>\n",
       "      <th>Country</th>\n",
       "      <th>state</th>\n",
       "      <th>self_employed</th>\n",
       "      <th>family_history</th>\n",
       "      <th>treatment</th>\n",
       "      <th>work_interfere</th>\n",
       "      <th>no_employees</th>\n",
       "      <th>...</th>\n",
       "      <th>leave</th>\n",
       "      <th>mental_health_consequence</th>\n",
       "      <th>phys_health_consequence</th>\n",
       "      <th>coworkers</th>\n",
       "      <th>supervisor</th>\n",
       "      <th>mental_health_interview</th>\n",
       "      <th>phys_health_interview</th>\n",
       "      <th>mental_vs_physical</th>\n",
       "      <th>obs_consequence</th>\n",
       "      <th>comments</th>\n",
       "    </tr>\n",
       "  </thead>\n",
       "  <tbody>\n",
       "    <tr>\n",
       "      <th>0</th>\n",
       "      <td>27-08-2014 11:29</td>\n",
       "      <td>37</td>\n",
       "      <td>Female</td>\n",
       "      <td>United States</td>\n",
       "      <td>IL</td>\n",
       "      <td>NaN</td>\n",
       "      <td>No</td>\n",
       "      <td>Yes</td>\n",
       "      <td>Often</td>\n",
       "      <td>Jun-25</td>\n",
       "      <td>...</td>\n",
       "      <td>Somewhat easy</td>\n",
       "      <td>No</td>\n",
       "      <td>No</td>\n",
       "      <td>Some of them</td>\n",
       "      <td>Yes</td>\n",
       "      <td>No</td>\n",
       "      <td>Maybe</td>\n",
       "      <td>Yes</td>\n",
       "      <td>No</td>\n",
       "      <td>NaN</td>\n",
       "    </tr>\n",
       "    <tr>\n",
       "      <th>1</th>\n",
       "      <td>27-08-2014 11:29</td>\n",
       "      <td>44</td>\n",
       "      <td>M</td>\n",
       "      <td>United States</td>\n",
       "      <td>IN</td>\n",
       "      <td>NaN</td>\n",
       "      <td>No</td>\n",
       "      <td>No</td>\n",
       "      <td>Rarely</td>\n",
       "      <td>More than 1000</td>\n",
       "      <td>...</td>\n",
       "      <td>Don't know</td>\n",
       "      <td>Maybe</td>\n",
       "      <td>No</td>\n",
       "      <td>No</td>\n",
       "      <td>No</td>\n",
       "      <td>No</td>\n",
       "      <td>No</td>\n",
       "      <td>Don't know</td>\n",
       "      <td>No</td>\n",
       "      <td>NaN</td>\n",
       "    </tr>\n",
       "    <tr>\n",
       "      <th>2</th>\n",
       "      <td>27-08-2014 11:29</td>\n",
       "      <td>32</td>\n",
       "      <td>Male</td>\n",
       "      <td>Canada</td>\n",
       "      <td>NaN</td>\n",
       "      <td>NaN</td>\n",
       "      <td>No</td>\n",
       "      <td>No</td>\n",
       "      <td>Rarely</td>\n",
       "      <td>Jun-25</td>\n",
       "      <td>...</td>\n",
       "      <td>Somewhat difficult</td>\n",
       "      <td>No</td>\n",
       "      <td>No</td>\n",
       "      <td>Yes</td>\n",
       "      <td>Yes</td>\n",
       "      <td>Yes</td>\n",
       "      <td>Yes</td>\n",
       "      <td>No</td>\n",
       "      <td>No</td>\n",
       "      <td>NaN</td>\n",
       "    </tr>\n",
       "    <tr>\n",
       "      <th>3</th>\n",
       "      <td>27-08-2014 11:29</td>\n",
       "      <td>31</td>\n",
       "      <td>Male</td>\n",
       "      <td>United Kingdom</td>\n",
       "      <td>NaN</td>\n",
       "      <td>NaN</td>\n",
       "      <td>Yes</td>\n",
       "      <td>Yes</td>\n",
       "      <td>Often</td>\n",
       "      <td>26-100</td>\n",
       "      <td>...</td>\n",
       "      <td>Somewhat difficult</td>\n",
       "      <td>Yes</td>\n",
       "      <td>Yes</td>\n",
       "      <td>Some of them</td>\n",
       "      <td>No</td>\n",
       "      <td>Maybe</td>\n",
       "      <td>Maybe</td>\n",
       "      <td>No</td>\n",
       "      <td>Yes</td>\n",
       "      <td>NaN</td>\n",
       "    </tr>\n",
       "    <tr>\n",
       "      <th>4</th>\n",
       "      <td>27-08-2014 11:30</td>\n",
       "      <td>31</td>\n",
       "      <td>Male</td>\n",
       "      <td>United States</td>\n",
       "      <td>TX</td>\n",
       "      <td>NaN</td>\n",
       "      <td>No</td>\n",
       "      <td>No</td>\n",
       "      <td>Never</td>\n",
       "      <td>100-500</td>\n",
       "      <td>...</td>\n",
       "      <td>Don't know</td>\n",
       "      <td>No</td>\n",
       "      <td>No</td>\n",
       "      <td>Some of them</td>\n",
       "      <td>Yes</td>\n",
       "      <td>Yes</td>\n",
       "      <td>Yes</td>\n",
       "      <td>Don't know</td>\n",
       "      <td>No</td>\n",
       "      <td>NaN</td>\n",
       "    </tr>\n",
       "  </tbody>\n",
       "</table>\n",
       "<p>5 rows × 27 columns</p>\n",
       "</div>"
      ],
      "text/plain": [
       "          Timestamp  Age  Gender         Country state self_employed  \\\n",
       "0  27-08-2014 11:29   37  Female   United States    IL           NaN   \n",
       "1  27-08-2014 11:29   44       M   United States    IN           NaN   \n",
       "2  27-08-2014 11:29   32    Male          Canada   NaN           NaN   \n",
       "3  27-08-2014 11:29   31    Male  United Kingdom   NaN           NaN   \n",
       "4  27-08-2014 11:30   31    Male   United States    TX           NaN   \n",
       "\n",
       "  family_history treatment work_interfere    no_employees  ...  \\\n",
       "0             No       Yes          Often          Jun-25  ...   \n",
       "1             No        No         Rarely  More than 1000  ...   \n",
       "2             No        No         Rarely          Jun-25  ...   \n",
       "3            Yes       Yes          Often          26-100  ...   \n",
       "4             No        No          Never         100-500  ...   \n",
       "\n",
       "                leave mental_health_consequence phys_health_consequence  \\\n",
       "0       Somewhat easy                        No                      No   \n",
       "1          Don't know                     Maybe                      No   \n",
       "2  Somewhat difficult                        No                      No   \n",
       "3  Somewhat difficult                       Yes                     Yes   \n",
       "4          Don't know                        No                      No   \n",
       "\n",
       "      coworkers supervisor mental_health_interview phys_health_interview  \\\n",
       "0  Some of them        Yes                      No                 Maybe   \n",
       "1            No         No                      No                    No   \n",
       "2           Yes        Yes                     Yes                   Yes   \n",
       "3  Some of them         No                   Maybe                 Maybe   \n",
       "4  Some of them        Yes                     Yes                   Yes   \n",
       "\n",
       "  mental_vs_physical obs_consequence comments  \n",
       "0                Yes              No      NaN  \n",
       "1         Don't know              No      NaN  \n",
       "2                 No              No      NaN  \n",
       "3                 No             Yes      NaN  \n",
       "4         Don't know              No      NaN  \n",
       "\n",
       "[5 rows x 27 columns]"
      ]
     },
     "execution_count": 2,
     "metadata": {},
     "output_type": "execute_result"
    }
   ],
   "source": [
    "# importing the data\n",
    "df=pd.read_csv(\"survey.csv\")\n",
    "df.head()"
   ]
  },
  {
   "cell_type": "markdown",
   "id": "3acde9f7",
   "metadata": {},
   "source": [
    "#### Removing the unwanted columns like state, self_employed, family_history, phys_health_consequence, phys_health_interview, Timestamp, comments"
   ]
  },
  {
   "cell_type": "markdown",
   "id": "236315e9",
   "metadata": {},
   "source": [
    "The reason behind deleting the above mentioned columns are explained below:\n",
    "    <br>1. state - We are comparing the coutries only in the graph analysis\n",
    "    <br>2. self_employed - We can avoid this because our focus is only about the corporate employees\n",
    "    <br>3. family_history - We are concerning the current status only\n",
    "    <br>4. phys_health_consequence - We are concern only about the mental stability\n",
    "    <br>5. phys_health_interview - We are concern only about the mental stability\n",
    "    <br>6. Timestamp - We are dealing with time frame so we can drop it\n",
    "    <br>7. comments - It has most NaN and its not requried for the analysis"
   ]
  },
  {
   "cell_type": "code",
   "execution_count": 3,
   "id": "f4ee8127",
   "metadata": {},
   "outputs": [],
   "source": [
    "df.drop('state', axis=1, inplace=True)\n",
    "df.drop('self_employed', axis=1, inplace=True)\n",
    "df.drop('family_history', axis=1, inplace=True)\n",
    "df.drop('phys_health_consequence', axis=1, inplace=True)\n",
    "df.drop('phys_health_interview', axis=1, inplace=True)\n",
    "df.drop('Timestamp', axis=1, inplace=True)\n",
    "df.drop('comments', axis=1, inplace=True)"
   ]
  },
  {
   "cell_type": "code",
   "execution_count": 4,
   "id": "19311cf8",
   "metadata": {},
   "outputs": [
    {
     "data": {
      "text/plain": [
       "1259"
      ]
     },
     "execution_count": 4,
     "metadata": {},
     "output_type": "execute_result"
    }
   ],
   "source": [
    "# finding the length of the dataframe\n",
    "len(df)"
   ]
  },
  {
   "cell_type": "code",
   "execution_count": 5,
   "id": "c045db21",
   "metadata": {},
   "outputs": [
    {
     "data": {
      "text/html": [
       "<div>\n",
       "<style scoped>\n",
       "    .dataframe tbody tr th:only-of-type {\n",
       "        vertical-align: middle;\n",
       "    }\n",
       "\n",
       "    .dataframe tbody tr th {\n",
       "        vertical-align: top;\n",
       "    }\n",
       "\n",
       "    .dataframe thead th {\n",
       "        text-align: right;\n",
       "    }\n",
       "</style>\n",
       "<table border=\"1\" class=\"dataframe\">\n",
       "  <thead>\n",
       "    <tr style=\"text-align: right;\">\n",
       "      <th></th>\n",
       "      <th>Age</th>\n",
       "      <th>Gender</th>\n",
       "      <th>Country</th>\n",
       "      <th>treatment</th>\n",
       "      <th>work_interfere</th>\n",
       "      <th>no_employees</th>\n",
       "      <th>remote_work</th>\n",
       "      <th>tech_company</th>\n",
       "      <th>benefits</th>\n",
       "      <th>care_options</th>\n",
       "      <th>wellness_program</th>\n",
       "      <th>seek_help</th>\n",
       "      <th>anonymity</th>\n",
       "      <th>leave</th>\n",
       "      <th>mental_health_consequence</th>\n",
       "      <th>coworkers</th>\n",
       "      <th>supervisor</th>\n",
       "      <th>mental_health_interview</th>\n",
       "      <th>mental_vs_physical</th>\n",
       "      <th>obs_consequence</th>\n",
       "    </tr>\n",
       "  </thead>\n",
       "  <tbody>\n",
       "    <tr>\n",
       "      <th>0</th>\n",
       "      <td>37</td>\n",
       "      <td>Female</td>\n",
       "      <td>United States</td>\n",
       "      <td>Yes</td>\n",
       "      <td>Often</td>\n",
       "      <td>Jun-25</td>\n",
       "      <td>No</td>\n",
       "      <td>Yes</td>\n",
       "      <td>Yes</td>\n",
       "      <td>Not sure</td>\n",
       "      <td>No</td>\n",
       "      <td>Yes</td>\n",
       "      <td>Yes</td>\n",
       "      <td>Somewhat easy</td>\n",
       "      <td>No</td>\n",
       "      <td>Some of them</td>\n",
       "      <td>Yes</td>\n",
       "      <td>No</td>\n",
       "      <td>Yes</td>\n",
       "      <td>No</td>\n",
       "    </tr>\n",
       "    <tr>\n",
       "      <th>1</th>\n",
       "      <td>44</td>\n",
       "      <td>M</td>\n",
       "      <td>United States</td>\n",
       "      <td>No</td>\n",
       "      <td>Rarely</td>\n",
       "      <td>More than 1000</td>\n",
       "      <td>No</td>\n",
       "      <td>No</td>\n",
       "      <td>Don't know</td>\n",
       "      <td>No</td>\n",
       "      <td>Don't know</td>\n",
       "      <td>Don't know</td>\n",
       "      <td>Don't know</td>\n",
       "      <td>Don't know</td>\n",
       "      <td>Maybe</td>\n",
       "      <td>No</td>\n",
       "      <td>No</td>\n",
       "      <td>No</td>\n",
       "      <td>Don't know</td>\n",
       "      <td>No</td>\n",
       "    </tr>\n",
       "    <tr>\n",
       "      <th>2</th>\n",
       "      <td>32</td>\n",
       "      <td>Male</td>\n",
       "      <td>Canada</td>\n",
       "      <td>No</td>\n",
       "      <td>Rarely</td>\n",
       "      <td>Jun-25</td>\n",
       "      <td>No</td>\n",
       "      <td>Yes</td>\n",
       "      <td>No</td>\n",
       "      <td>No</td>\n",
       "      <td>No</td>\n",
       "      <td>No</td>\n",
       "      <td>Don't know</td>\n",
       "      <td>Somewhat difficult</td>\n",
       "      <td>No</td>\n",
       "      <td>Yes</td>\n",
       "      <td>Yes</td>\n",
       "      <td>Yes</td>\n",
       "      <td>No</td>\n",
       "      <td>No</td>\n",
       "    </tr>\n",
       "    <tr>\n",
       "      <th>3</th>\n",
       "      <td>31</td>\n",
       "      <td>Male</td>\n",
       "      <td>United Kingdom</td>\n",
       "      <td>Yes</td>\n",
       "      <td>Often</td>\n",
       "      <td>26-100</td>\n",
       "      <td>No</td>\n",
       "      <td>Yes</td>\n",
       "      <td>No</td>\n",
       "      <td>Yes</td>\n",
       "      <td>No</td>\n",
       "      <td>No</td>\n",
       "      <td>No</td>\n",
       "      <td>Somewhat difficult</td>\n",
       "      <td>Yes</td>\n",
       "      <td>Some of them</td>\n",
       "      <td>No</td>\n",
       "      <td>Maybe</td>\n",
       "      <td>No</td>\n",
       "      <td>Yes</td>\n",
       "    </tr>\n",
       "    <tr>\n",
       "      <th>4</th>\n",
       "      <td>31</td>\n",
       "      <td>Male</td>\n",
       "      <td>United States</td>\n",
       "      <td>No</td>\n",
       "      <td>Never</td>\n",
       "      <td>100-500</td>\n",
       "      <td>Yes</td>\n",
       "      <td>Yes</td>\n",
       "      <td>Yes</td>\n",
       "      <td>No</td>\n",
       "      <td>Don't know</td>\n",
       "      <td>Don't know</td>\n",
       "      <td>Don't know</td>\n",
       "      <td>Don't know</td>\n",
       "      <td>No</td>\n",
       "      <td>Some of them</td>\n",
       "      <td>Yes</td>\n",
       "      <td>Yes</td>\n",
       "      <td>Don't know</td>\n",
       "      <td>No</td>\n",
       "    </tr>\n",
       "    <tr>\n",
       "      <th>...</th>\n",
       "      <td>...</td>\n",
       "      <td>...</td>\n",
       "      <td>...</td>\n",
       "      <td>...</td>\n",
       "      <td>...</td>\n",
       "      <td>...</td>\n",
       "      <td>...</td>\n",
       "      <td>...</td>\n",
       "      <td>...</td>\n",
       "      <td>...</td>\n",
       "      <td>...</td>\n",
       "      <td>...</td>\n",
       "      <td>...</td>\n",
       "      <td>...</td>\n",
       "      <td>...</td>\n",
       "      <td>...</td>\n",
       "      <td>...</td>\n",
       "      <td>...</td>\n",
       "      <td>...</td>\n",
       "      <td>...</td>\n",
       "    </tr>\n",
       "    <tr>\n",
       "      <th>1254</th>\n",
       "      <td>26</td>\n",
       "      <td>male</td>\n",
       "      <td>United Kingdom</td>\n",
       "      <td>Yes</td>\n",
       "      <td>NaN</td>\n",
       "      <td>26-100</td>\n",
       "      <td>No</td>\n",
       "      <td>Yes</td>\n",
       "      <td>No</td>\n",
       "      <td>No</td>\n",
       "      <td>No</td>\n",
       "      <td>No</td>\n",
       "      <td>Don't know</td>\n",
       "      <td>Somewhat easy</td>\n",
       "      <td>No</td>\n",
       "      <td>Some of them</td>\n",
       "      <td>Some of them</td>\n",
       "      <td>No</td>\n",
       "      <td>Don't know</td>\n",
       "      <td>No</td>\n",
       "    </tr>\n",
       "    <tr>\n",
       "      <th>1255</th>\n",
       "      <td>32</td>\n",
       "      <td>Male</td>\n",
       "      <td>United States</td>\n",
       "      <td>Yes</td>\n",
       "      <td>Often</td>\n",
       "      <td>26-100</td>\n",
       "      <td>Yes</td>\n",
       "      <td>Yes</td>\n",
       "      <td>Yes</td>\n",
       "      <td>Yes</td>\n",
       "      <td>No</td>\n",
       "      <td>No</td>\n",
       "      <td>Yes</td>\n",
       "      <td>Somewhat difficult</td>\n",
       "      <td>No</td>\n",
       "      <td>Some of them</td>\n",
       "      <td>Yes</td>\n",
       "      <td>No</td>\n",
       "      <td>Yes</td>\n",
       "      <td>No</td>\n",
       "    </tr>\n",
       "    <tr>\n",
       "      <th>1256</th>\n",
       "      <td>34</td>\n",
       "      <td>male</td>\n",
       "      <td>United States</td>\n",
       "      <td>Yes</td>\n",
       "      <td>Sometimes</td>\n",
       "      <td>More than 1000</td>\n",
       "      <td>No</td>\n",
       "      <td>Yes</td>\n",
       "      <td>Yes</td>\n",
       "      <td>Yes</td>\n",
       "      <td>No</td>\n",
       "      <td>No</td>\n",
       "      <td>Don't know</td>\n",
       "      <td>Somewhat difficult</td>\n",
       "      <td>Yes</td>\n",
       "      <td>No</td>\n",
       "      <td>No</td>\n",
       "      <td>No</td>\n",
       "      <td>No</td>\n",
       "      <td>No</td>\n",
       "    </tr>\n",
       "    <tr>\n",
       "      <th>1257</th>\n",
       "      <td>46</td>\n",
       "      <td>f</td>\n",
       "      <td>United States</td>\n",
       "      <td>No</td>\n",
       "      <td>NaN</td>\n",
       "      <td>100-500</td>\n",
       "      <td>Yes</td>\n",
       "      <td>Yes</td>\n",
       "      <td>No</td>\n",
       "      <td>Yes</td>\n",
       "      <td>No</td>\n",
       "      <td>No</td>\n",
       "      <td>Don't know</td>\n",
       "      <td>Don't know</td>\n",
       "      <td>Yes</td>\n",
       "      <td>No</td>\n",
       "      <td>No</td>\n",
       "      <td>No</td>\n",
       "      <td>No</td>\n",
       "      <td>No</td>\n",
       "    </tr>\n",
       "    <tr>\n",
       "      <th>1258</th>\n",
       "      <td>25</td>\n",
       "      <td>Male</td>\n",
       "      <td>United States</td>\n",
       "      <td>Yes</td>\n",
       "      <td>Sometimes</td>\n",
       "      <td>26-100</td>\n",
       "      <td>No</td>\n",
       "      <td>No</td>\n",
       "      <td>Yes</td>\n",
       "      <td>Yes</td>\n",
       "      <td>No</td>\n",
       "      <td>No</td>\n",
       "      <td>Yes</td>\n",
       "      <td>Don't know</td>\n",
       "      <td>Maybe</td>\n",
       "      <td>Some of them</td>\n",
       "      <td>No</td>\n",
       "      <td>No</td>\n",
       "      <td>Don't know</td>\n",
       "      <td>No</td>\n",
       "    </tr>\n",
       "  </tbody>\n",
       "</table>\n",
       "<p>1259 rows × 20 columns</p>\n",
       "</div>"
      ],
      "text/plain": [
       "      Age  Gender         Country treatment work_interfere    no_employees  \\\n",
       "0      37  Female   United States       Yes          Often          Jun-25   \n",
       "1      44       M   United States        No         Rarely  More than 1000   \n",
       "2      32    Male          Canada        No         Rarely          Jun-25   \n",
       "3      31    Male  United Kingdom       Yes          Often          26-100   \n",
       "4      31    Male   United States        No          Never         100-500   \n",
       "...   ...     ...             ...       ...            ...             ...   \n",
       "1254   26    male  United Kingdom       Yes            NaN          26-100   \n",
       "1255   32    Male   United States       Yes          Often          26-100   \n",
       "1256   34    male   United States       Yes      Sometimes  More than 1000   \n",
       "1257   46       f   United States        No            NaN         100-500   \n",
       "1258   25    Male   United States       Yes      Sometimes          26-100   \n",
       "\n",
       "     remote_work tech_company    benefits care_options wellness_program  \\\n",
       "0             No          Yes         Yes     Not sure               No   \n",
       "1             No           No  Don't know           No       Don't know   \n",
       "2             No          Yes          No           No               No   \n",
       "3             No          Yes          No          Yes               No   \n",
       "4            Yes          Yes         Yes           No       Don't know   \n",
       "...          ...          ...         ...          ...              ...   \n",
       "1254          No          Yes          No           No               No   \n",
       "1255         Yes          Yes         Yes          Yes               No   \n",
       "1256          No          Yes         Yes          Yes               No   \n",
       "1257         Yes          Yes          No          Yes               No   \n",
       "1258          No           No         Yes          Yes               No   \n",
       "\n",
       "       seek_help   anonymity               leave mental_health_consequence  \\\n",
       "0            Yes         Yes       Somewhat easy                        No   \n",
       "1     Don't know  Don't know          Don't know                     Maybe   \n",
       "2             No  Don't know  Somewhat difficult                        No   \n",
       "3             No          No  Somewhat difficult                       Yes   \n",
       "4     Don't know  Don't know          Don't know                        No   \n",
       "...          ...         ...                 ...                       ...   \n",
       "1254          No  Don't know       Somewhat easy                        No   \n",
       "1255          No         Yes  Somewhat difficult                        No   \n",
       "1256          No  Don't know  Somewhat difficult                       Yes   \n",
       "1257          No  Don't know          Don't know                       Yes   \n",
       "1258          No         Yes          Don't know                     Maybe   \n",
       "\n",
       "         coworkers    supervisor mental_health_interview mental_vs_physical  \\\n",
       "0     Some of them           Yes                      No                Yes   \n",
       "1               No            No                      No         Don't know   \n",
       "2              Yes           Yes                     Yes                 No   \n",
       "3     Some of them            No                   Maybe                 No   \n",
       "4     Some of them           Yes                     Yes         Don't know   \n",
       "...            ...           ...                     ...                ...   \n",
       "1254  Some of them  Some of them                      No         Don't know   \n",
       "1255  Some of them           Yes                      No                Yes   \n",
       "1256            No            No                      No                 No   \n",
       "1257            No            No                      No                 No   \n",
       "1258  Some of them            No                      No         Don't know   \n",
       "\n",
       "     obs_consequence  \n",
       "0                 No  \n",
       "1                 No  \n",
       "2                 No  \n",
       "3                Yes  \n",
       "4                 No  \n",
       "...              ...  \n",
       "1254              No  \n",
       "1255              No  \n",
       "1256              No  \n",
       "1257              No  \n",
       "1258              No  \n",
       "\n",
       "[1259 rows x 20 columns]"
      ]
     },
     "execution_count": 5,
     "metadata": {},
     "output_type": "execute_result"
    }
   ],
   "source": [
    "df"
   ]
  },
  {
   "cell_type": "markdown",
   "id": "687ffc75",
   "metadata": {},
   "source": [
    "#### We dont want the some more columns like no_employees,tech_company,benefits,care_options, wellness_program, seek_help,anonymity,supervisor,obs_consequence,work_interfere,leave"
   ]
  },
  {
   "cell_type": "code",
   "execution_count": 6,
   "id": "a6d3549c",
   "metadata": {},
   "outputs": [],
   "source": [
    "df.drop('no_employees', axis=1, inplace=True)\n",
    "df.drop('tech_company', axis=1, inplace=True)\n",
    "df.drop('benefits', axis=1, inplace=True)\n",
    "df.drop('care_options', axis=1, inplace=True)\n",
    "df.drop('wellness_program', axis=1, inplace=True)\n",
    "df.drop('seek_help', axis=1, inplace=True)\n",
    "df.drop('anonymity', axis=1, inplace=True)\n",
    "df.drop('supervisor', axis=1, inplace=True)\n",
    "df.drop('obs_consequence', axis=1, inplace=True)\n",
    "df.drop('work_interfere', axis=1, inplace=True)\n",
    "df.drop('leave', axis=1, inplace=True)"
   ]
  },
  {
   "cell_type": "code",
   "execution_count": 7,
   "id": "34fd2c78",
   "metadata": {},
   "outputs": [
    {
     "data": {
      "text/html": [
       "<div>\n",
       "<style scoped>\n",
       "    .dataframe tbody tr th:only-of-type {\n",
       "        vertical-align: middle;\n",
       "    }\n",
       "\n",
       "    .dataframe tbody tr th {\n",
       "        vertical-align: top;\n",
       "    }\n",
       "\n",
       "    .dataframe thead th {\n",
       "        text-align: right;\n",
       "    }\n",
       "</style>\n",
       "<table border=\"1\" class=\"dataframe\">\n",
       "  <thead>\n",
       "    <tr style=\"text-align: right;\">\n",
       "      <th></th>\n",
       "      <th>Age</th>\n",
       "      <th>Gender</th>\n",
       "      <th>Country</th>\n",
       "      <th>treatment</th>\n",
       "      <th>remote_work</th>\n",
       "      <th>mental_health_consequence</th>\n",
       "      <th>coworkers</th>\n",
       "      <th>mental_health_interview</th>\n",
       "      <th>mental_vs_physical</th>\n",
       "    </tr>\n",
       "  </thead>\n",
       "  <tbody>\n",
       "    <tr>\n",
       "      <th>0</th>\n",
       "      <td>37</td>\n",
       "      <td>Female</td>\n",
       "      <td>United States</td>\n",
       "      <td>Yes</td>\n",
       "      <td>No</td>\n",
       "      <td>No</td>\n",
       "      <td>Some of them</td>\n",
       "      <td>No</td>\n",
       "      <td>Yes</td>\n",
       "    </tr>\n",
       "    <tr>\n",
       "      <th>1</th>\n",
       "      <td>44</td>\n",
       "      <td>M</td>\n",
       "      <td>United States</td>\n",
       "      <td>No</td>\n",
       "      <td>No</td>\n",
       "      <td>Maybe</td>\n",
       "      <td>No</td>\n",
       "      <td>No</td>\n",
       "      <td>Don't know</td>\n",
       "    </tr>\n",
       "    <tr>\n",
       "      <th>2</th>\n",
       "      <td>32</td>\n",
       "      <td>Male</td>\n",
       "      <td>Canada</td>\n",
       "      <td>No</td>\n",
       "      <td>No</td>\n",
       "      <td>No</td>\n",
       "      <td>Yes</td>\n",
       "      <td>Yes</td>\n",
       "      <td>No</td>\n",
       "    </tr>\n",
       "    <tr>\n",
       "      <th>3</th>\n",
       "      <td>31</td>\n",
       "      <td>Male</td>\n",
       "      <td>United Kingdom</td>\n",
       "      <td>Yes</td>\n",
       "      <td>No</td>\n",
       "      <td>Yes</td>\n",
       "      <td>Some of them</td>\n",
       "      <td>Maybe</td>\n",
       "      <td>No</td>\n",
       "    </tr>\n",
       "    <tr>\n",
       "      <th>4</th>\n",
       "      <td>31</td>\n",
       "      <td>Male</td>\n",
       "      <td>United States</td>\n",
       "      <td>No</td>\n",
       "      <td>Yes</td>\n",
       "      <td>No</td>\n",
       "      <td>Some of them</td>\n",
       "      <td>Yes</td>\n",
       "      <td>Don't know</td>\n",
       "    </tr>\n",
       "  </tbody>\n",
       "</table>\n",
       "</div>"
      ],
      "text/plain": [
       "   Age  Gender         Country treatment remote_work  \\\n",
       "0   37  Female   United States       Yes          No   \n",
       "1   44       M   United States        No          No   \n",
       "2   32    Male          Canada        No          No   \n",
       "3   31    Male  United Kingdom       Yes          No   \n",
       "4   31    Male   United States        No         Yes   \n",
       "\n",
       "  mental_health_consequence     coworkers mental_health_interview  \\\n",
       "0                        No  Some of them                      No   \n",
       "1                     Maybe            No                      No   \n",
       "2                        No           Yes                     Yes   \n",
       "3                       Yes  Some of them                   Maybe   \n",
       "4                        No  Some of them                     Yes   \n",
       "\n",
       "  mental_vs_physical  \n",
       "0                Yes  \n",
       "1         Don't know  \n",
       "2                 No  \n",
       "3                 No  \n",
       "4         Don't know  "
      ]
     },
     "execution_count": 7,
     "metadata": {},
     "output_type": "execute_result"
    }
   ],
   "source": [
    "df.head()"
   ]
  },
  {
   "cell_type": "code",
   "execution_count": 8,
   "id": "2d0d76f7",
   "metadata": {},
   "outputs": [
    {
     "data": {
      "text/plain": [
       "1259"
      ]
     },
     "execution_count": 8,
     "metadata": {},
     "output_type": "execute_result"
    }
   ],
   "source": [
    "#checking the NAN\n",
    "len(df.dropna())"
   ]
  },
  {
   "cell_type": "markdown",
   "id": "eedec015",
   "metadata": {},
   "source": [
    "So previous after droping the number of rows was 995 but now it has increased to 1259. that is there is no loss of data due to null values. Im viewing this as a great improvement in handling the missing data."
   ]
  },
  {
   "cell_type": "code",
   "execution_count": 9,
   "id": "66e63983",
   "metadata": {},
   "outputs": [],
   "source": [
    "df=df.dropna()"
   ]
  },
  {
   "cell_type": "code",
   "execution_count": 10,
   "id": "dc75b041",
   "metadata": {},
   "outputs": [
    {
     "data": {
      "text/plain": [
       "array(['Female', 'M', 'Male', 'male', 'female', 'm', 'Male-ish', 'maile',\n",
       "       'Trans-female', 'Cis Female', 'F', 'something kinda male?',\n",
       "       'Cis Male', 'Woman', 'f', 'Mal', 'Male (CIS)', 'queer/she/they',\n",
       "       'non-binary', 'Femake', 'woman', 'Make', 'Nah', 'All', 'Enby',\n",
       "       'fluid', 'Genderqueer', 'Female ', 'Androgyne', 'Agender',\n",
       "       'cis-female/femme', 'Guy (-ish) ^_^', 'male leaning androgynous',\n",
       "       'Male ', 'Man', 'Trans woman', 'msle', 'Neuter', 'Female (trans)',\n",
       "       'queer', 'Female (cis)', 'Mail', 'cis male', 'A little about you',\n",
       "       'Malr', 'p', 'femail', 'Cis Man',\n",
       "       'ostensibly male, unsure what that really means'], dtype=object)"
      ]
     },
     "execution_count": 10,
     "metadata": {},
     "output_type": "execute_result"
    }
   ],
   "source": [
    "# finding the uniqie values in gender\n",
    "df['Gender'].unique()"
   ]
  },
  {
   "cell_type": "code",
   "execution_count": 11,
   "id": "b9b98aac",
   "metadata": {},
   "outputs": [
    {
     "name": "stderr",
     "output_type": "stream",
     "text": [
      "C:\\Users\\vasan\\anaconda3\\lib\\site-packages\\pandas\\core\\indexing.py:670: SettingWithCopyWarning: \n",
      "A value is trying to be set on a copy of a slice from a DataFrame\n",
      "\n",
      "See the caveats in the documentation: https://pandas.pydata.org/pandas-docs/stable/user_guide/indexing.html#returning-a-view-versus-a-copy\n",
      "  iloc._setitem_with_indexer(indexer, value)\n"
     ]
    }
   ],
   "source": [
    "#changing the gender for the uniformity\n",
    "df['Gender'].loc[df['Gender']=='M']='Male'\n",
    "df['Gender'].loc[df['Gender']=='Male']='Male'\n",
    "df['Gender'].loc[df['Gender']=='male']='Male'\n",
    "df['Gender'].loc[df['Gender']=='female']='Female'\n",
    "df['Gender'].loc[df['Gender']=='m']='Male'\n",
    "df['Gender'].loc[df['Gender']=='Male-ish']='Male'\n",
    "df['Gender'].loc[df['Gender']=='Trans-female']='Female'\n",
    "df['Gender'].loc[df['Gender']=='Cis Female']='Female'\n",
    "df['Gender'].loc[df['Gender']=='F']='Female'\n",
    "df['Gender'].loc[df['Gender']=='Cis Male']='Male' \n",
    "df['Gender'].loc[df['Gender']=='f']='Female'\n",
    "df['Gender'].loc[df['Gender']=='Mal']='Male'\n",
    "df['Gender'].loc[df['Gender']=='queer/she/they']='Female'\n",
    "df['Gender'].loc[df['Gender']=='non-binary']='Male'\n",
    "df['Gender'].loc[df['Gender']=='woman']='Female'\n",
    "df['Gender'].loc[df['Gender']=='Make']='Male'\n",
    "df['Gender'].loc[df['Gender']=='Nah']='Male' \n",
    "df['Gender'].loc[df['Gender']=='All']='Male'\n",
    "df['Gender'].loc[df['Gender']=='Enby']='Female'\n",
    "df['Gender'].loc[df['Gender']=='fluid']='Female'\n",
    "df['Gender'].loc[df['Gender']=='Genderqueer']='Female'\n",
    "df['Gender'].loc[df['Gender']=='Female ']='Female'\n",
    "df['Gender'].loc[df['Gender']=='Androgyne']='Female'\n",
    "df['Gender'].loc[df['Gender']=='Agender']='Female'\n",
    "df['Gender'].loc[df['Gender']=='cis-female/femme']='Female'\n",
    "df['Gender'].loc[df['Gender']=='Guy (-ish) ^_^']='Male'\n",
    "df['Gender'].loc[df['Gender']=='male leaning androgynous']='Male'\n",
    "df['Gender'].loc[df['Gender']=='Trans woman']='Female'\n",
    "df['Gender'].loc[df['Gender']== 'msle']='Male'\n",
    "df['Gender'].loc[df['Gender']=='Neuter']='Female'\n",
    "df['Gender'].loc[df['Gender']=='Female (trans)']='Female'\n",
    "df['Gender'].loc[df['Gender']=='queer']='Female'\n",
    "df['Gender'].loc[df['Gender']=='Female (cis)']='Female'\n",
    "df['Gender'].loc[df['Gender']=='Mail']='Male'\n",
    "df['Gender'].loc[df['Gender']=='cis male']='Male'\n",
    "df['Gender'].loc[df['Gender']=='A little about you']='Female'\n",
    "df['Gender'].loc[df['Gender']=='Malr']='Male'\n",
    "df['Gender'].loc[df['Gender']=='p']='Female'\n",
    "df['Gender'].loc[df['Gender']=='Woman']='Female'\n",
    "df['Gender'].loc[df['Gender']=='femail']='Female'\n",
    "df['Gender'].loc[df['Gender']=='Cis Man']='Male'\n",
    "                 "
   ]
  },
  {
   "cell_type": "code",
   "execution_count": 12,
   "id": "679d5059",
   "metadata": {},
   "outputs": [
    {
     "data": {
      "text/plain": [
       "array(['Female', 'Male', 'maile', 'something kinda male?', 'Male (CIS)',\n",
       "       'Femake', 'Male ', 'Man',\n",
       "       'ostensibly male, unsure what that really means'], dtype=object)"
      ]
     },
     "execution_count": 12,
     "metadata": {},
     "output_type": "execute_result"
    }
   ],
   "source": [
    "df['Gender'].unique()"
   ]
  },
  {
   "cell_type": "code",
   "execution_count": 13,
   "id": "fc946efd",
   "metadata": {},
   "outputs": [],
   "source": [
    "df['Gender'].loc[df['Gender']=='Male ']='Male'\n",
    "df['Gender'].loc[df['Gender']=='ostensibly male, unsure what that really means']='Male'"
   ]
  },
  {
   "cell_type": "code",
   "execution_count": 14,
   "id": "45a0e86e",
   "metadata": {},
   "outputs": [
    {
     "data": {
      "text/plain": [
       "array(['Female', 'Male', 'maile', 'something kinda male?', 'Male (CIS)',\n",
       "       'Femake', 'Man'], dtype=object)"
      ]
     },
     "execution_count": 14,
     "metadata": {},
     "output_type": "execute_result"
    }
   ],
   "source": [
    "df['Gender'].unique()"
   ]
  },
  {
   "cell_type": "code",
   "execution_count": 15,
   "id": "e398901a",
   "metadata": {},
   "outputs": [],
   "source": [
    "df['Gender'].loc[df['Gender']=='maile']='Male'\n",
    "df['Gender'].loc[df['Gender']=='something kinda male?']='Male'\n",
    "df['Gender'].loc[df['Gender']=='Male (CIS)']='Male'\n",
    "df['Gender'].loc[df['Gender']=='Man']='Male'\n",
    "df['Gender'].loc[df['Gender']=='Femake']='Female'"
   ]
  },
  {
   "cell_type": "code",
   "execution_count": 16,
   "id": "2bc59e67",
   "metadata": {},
   "outputs": [
    {
     "data": {
      "text/plain": [
       "array(['Female', 'Male'], dtype=object)"
      ]
     },
     "execution_count": 16,
     "metadata": {},
     "output_type": "execute_result"
    }
   ],
   "source": [
    "df['Gender'].unique()"
   ]
  },
  {
   "cell_type": "markdown",
   "id": "43fa6f2d",
   "metadata": {},
   "source": [
    "### 1. Comparing the mental illness of employees based on the gender category."
   ]
  },
  {
   "cell_type": "code",
   "execution_count": 17,
   "id": "9d75e98a",
   "metadata": {},
   "outputs": [
    {
     "data": {
      "image/png": "[encoded data removed]",
      "text/plain": [
       "<Figure size 432x288 with 1 Axes>"
      ]
     },
     "metadata": {
      "needs_background": "light"
     },
     "output_type": "display_data"
    }
   ],
   "source": [
    "plt.hist(df.loc[df['mental_health_consequence']=='Yes','Gender'])\n",
    "plt.xlabel('Gender')\n",
    "plt.ylabel('Count of mental concerns')\n",
    "plt.title('Mental illness of employees based on the gender category')\n",
    "plt.show()"
   ]
  },
  {
   "cell_type": "markdown",
   "id": "78b85934",
   "metadata": {},
   "source": [
    "### 2.Comparing the mental illness of employees based on the countries."
   ]
  },
  {
   "cell_type": "code",
   "execution_count": 18,
   "id": "6e0ee0b1",
   "metadata": {},
   "outputs": [
    {
     "data": {
      "text/plain": [
       "array(['United States', 'Canada', 'United Kingdom', 'Bulgaria', 'France',\n",
       "       'Portugal', 'Netherlands', 'Switzerland', 'Poland', 'Australia',\n",
       "       'Germany', 'Russia', 'Mexico', 'Brazil', 'Slovenia', 'Costa Rica',\n",
       "       'Austria', 'Ireland', 'India', 'South Africa', 'Italy', 'Sweden',\n",
       "       'Colombia', 'Latvia', 'Romania', 'Belgium', 'New Zealand',\n",
       "       'Zimbabwe', 'Spain', 'Finland', 'Uruguay', 'Israel',\n",
       "       'Bosnia and Herzegovina', 'Hungary', 'Singapore', 'Japan',\n",
       "       'Nigeria', 'Croatia', 'Norway', 'Thailand', 'Denmark',\n",
       "       'Bahamas, The', 'Greece', 'Moldova', 'Georgia', 'China',\n",
       "       'Czech Republic', 'Philippines'], dtype=object)"
      ]
     },
     "execution_count": 18,
     "metadata": {},
     "output_type": "execute_result"
    }
   ],
   "source": [
    "df['Country'].unique()"
   ]
  },
  {
   "cell_type": "code",
   "execution_count": 19,
   "id": "2c973baf",
   "metadata": {},
   "outputs": [],
   "source": [
    "# changing the country name to its correspnding code\n",
    "df['Country'].loc[df['Country']=='United States']='USA'\n",
    "df['Country'].loc[df['Country']=='Canada']='CAN'\n",
    "df['Country'].loc[df['Country']=='United Kingdom']='UK'\n",
    "df['Country'].loc[df['Country']=='Bulgaria']='BGR'\n",
    "df['Country'].loc[df['Country']=='France']='FRA'\n",
    "df['Country'].loc[df['Country']=='Portugal']='PRT'\n",
    "df['Country'].loc[df['Country']=='Netherlands']='NLD'\n",
    "df['Country'].loc[df['Country']=='Switzerland']='SWZ'\n",
    "df['Country'].loc[df['Country']=='Poland']='POL'\n",
    "df['Country'].loc[df['Country']=='Australia']='AUS'\n",
    "df['Country'].loc[df['Country']=='Germany']='DEU'\n",
    "df['Country'].loc[df['Country']=='Mexico']='MEX'\n",
    "df['Country'].loc[df['Country']=='Brazil']='BRA'\n",
    "df['Country'].loc[df['Country']=='Slovenia']='SVN'\n",
    "df['Country'].loc[df['Country']=='Ireland']='IRE'\n",
    "df['Country'].loc[df['Country']=='India']='IND'\n",
    "df['Country'].loc[df['Country']=='South Africa']='ZAF'\n",
    "df['Country'].loc[df['Country']=='Russia']='USSR'\n",
    "df['Country'].loc[df['Country']=='Italy']='ITA'\n",
    "df['Country'].loc[df['Country']=='Colombia']='COL'\n",
    "df['Country'].loc[df['Country']=='Portugal']='POR'\n",
    "df['Country'].loc[df['Country']=='Switzerland']='SWZ'\n",
    "df['Country'].loc[df['Country']=='Belgium']='BEL'\n",
    "df['Country'].loc[df['Country']=='Sweden']='SWE'\n",
    "df['Country'].loc[df['Country']=='New Zealand']='NZL'\n",
    "df['Country'].loc[df['Country']=='Zimbabwe']='ZMB'\n",
    "df['Country'].loc[df['Country']=='Finland']='FIN'\n",
    "df['Country'].loc[df['Country']=='Israel']='ISR'\n",
    "df['Country'].loc[df['Country']=='Bosnia and Herzegovina']='BIH'\n",
    "df['Country'].loc[df['Country']=='Austria']='AUT'\n",
    "df['Country'].loc[df['Country']=='Hungary']='HUN'\n",
    "df['Country'].loc[df['Country']=='Singapore']='SIN'\n",
    "df['Country'].loc[df['Country']=='Japan']='JPN'\n",
    "df['Country'].loc[df['Country']=='Croatia']='CRO'\n",
    "df['Country'].loc[df['Country']=='Thailand']='THL'\n",
    "df['Country'].loc[df['Country']=='Denmark']='DEN'\n",
    "df['Country'].loc[df['Country']=='Bahamas, The']='BHS'\n",
    "df['Country'].loc[df['Country']=='Moldova']='MOL'\n",
    "df['Country'].loc[df['Country']=='Georgia']='GEO'\n",
    "df['Country'].loc[df['Country']=='China']='CHN'\n",
    "df['Country'].loc[df['Country']=='Czech Republic']='CZE'\n",
    "df['Country'].loc[df['Country']=='Philippines']='PHL'\n",
    "df['Country'].loc[df['Country']=='Costa Rica']='CSR'\n",
    "df['Country'].loc[df['Country']=='Romania']='RMR'\n",
    "df['Country'].loc[df['Country']=='Latvia']='LAT'\n",
    "df['Country'].loc[df['Country']=='Spain']='SPN'\n",
    "df['Country'].loc[df['Country']=='Greece']='GRE'\n",
    "df['Country'].loc[df['Country']=='Nigeria']='NIA'"
   ]
  },
  {
   "cell_type": "code",
   "execution_count": 20,
   "id": "a92baf21",
   "metadata": {},
   "outputs": [
    {
     "data": {
      "text/plain": [
       "array(['No', 'Maybe', 'Yes'], dtype=object)"
      ]
     },
     "execution_count": 20,
     "metadata": {},
     "output_type": "execute_result"
    }
   ],
   "source": [
    "df['mental_health_consequence'].unique()"
   ]
  },
  {
   "cell_type": "code",
   "execution_count": 21,
   "id": "6d43b3bd",
   "metadata": {},
   "outputs": [
    {
     "data": {
      "image/png": "[encoded data removed]",
      "text/plain": [
       "<Figure size 1440x576 with 1 Axes>"
      ]
     },
     "metadata": {
      "needs_background": "light"
     },
     "output_type": "display_data"
    }
   ],
   "source": [
    "plt.rcParams[\"figure.figsize\"] = (20,8)\n",
    "plt.hist(df.loc[df['mental_health_consequence']!='No','Country'])\n",
    "plt.xlabel('Country')\n",
    "plt.ylabel('Count of mental concerns')\n",
    "plt.title('Mental illness of employees based on the countries')\n",
    "plt.show()"
   ]
  },
  {
   "cell_type": "code",
   "execution_count": 22,
   "id": "d9ec897a",
   "metadata": {},
   "outputs": [
    {
     "data": {
      "image/png": "[encoded data removed]",
      "text/plain": [
       "<Figure size 1440x576 with 1 Axes>"
      ]
     },
     "metadata": {
      "needs_background": "light"
     },
     "output_type": "display_data"
    }
   ],
   "source": [
    "plt.rcParams[\"figure.figsize\"] = (20,8)\n",
    "plt.hist(df.loc[df['mental_health_consequence']=='No','Country'])\n",
    "plt.xlabel('Country')\n",
    "plt.ylabel('Count of mental concerns')\n",
    "plt.title('Mental illness of employees based on the countries')\n",
    "plt.show()"
   ]
  },
  {
   "cell_type": "markdown",
   "id": "46b7f37f",
   "metadata": {},
   "source": [
    "### 3.Comparing the mental illness of employees based on the remote work culture."
   ]
  },
  {
   "cell_type": "code",
   "execution_count": 23,
   "id": "d1e097fb",
   "metadata": {},
   "outputs": [
    {
     "data": {
      "image/png": "[encoded data removed]",
      "text/plain": [
       "<Figure size 1440x576 with 1 Axes>"
      ]
     },
     "metadata": {
      "needs_background": "light"
     },
     "output_type": "display_data"
    }
   ],
   "source": [
    "plt.hist(df.loc[df['mental_health_consequence']=='Yes','remote_work'])\n",
    "plt.xlabel('Remote Work')\n",
    "plt.ylabel('Count of mental concerns')\n",
    "plt.title('Mental illness of employees based on the remote work culture')\n",
    "plt.show()"
   ]
  },
  {
   "cell_type": "markdown",
   "id": "80993baa",
   "metadata": {},
   "source": [
    "### 4.Comparing the mental illness of employees based on the co-workers."
   ]
  },
  {
   "cell_type": "code",
   "execution_count": 24,
   "id": "bfaffa46",
   "metadata": {},
   "outputs": [
    {
     "data": {
      "image/png": "[encoded data removed]",
      "text/plain": [
       "<Figure size 1440x576 with 1 Axes>"
      ]
     },
     "metadata": {
      "needs_background": "light"
     },
     "output_type": "display_data"
    }
   ],
   "source": [
    "plt.hist(df.loc[df['mental_health_consequence']=='Yes','coworkers'])\n",
    "plt.xlabel('Co-workers')\n",
    "plt.ylabel('Count of mental concerns')\n",
    "plt.title('Mental illness of employees based on the co-workers')\n",
    "plt.show()"
   ]
  },
  {
   "cell_type": "markdown",
   "id": "1275431a",
   "metadata": {},
   "source": [
    "Based on the above graphical analysis we find the below observations:\n",
    "<br>1. The mental illness for men is higher than the women\n",
    "<br>2. \"The mental illness rate in the United States is way higher than the Bahamas\" this was my last week's conclusion. But, after a certain deeper analysis, I have included all the countries and also did a graph with countries having several people with illness and without. In both, USA is the first and it shows that the number of entries is different for different countries and last week's conclusion is wrong.\n",
    "<br>3. Remote employees also have a mental illness at the same rate as non-remote workers. So remote jobs won't give that much relief for the mental illness\n",
    "<br>4. If we have more co-workers then there is a high possibility of reducing mental illness."
   ]
  },
  {
   "cell_type": "markdown",
   "id": "3e42633a",
   "metadata": {},
   "source": [
    "### Building a model and evaluating"
   ]
  },
  {
   "cell_type": "code",
   "execution_count": 25,
   "id": "bd3c4499",
   "metadata": {},
   "outputs": [],
   "source": [
    "#importing libraries\n",
    "# Core libraries\n",
    "import pandas as pd\n",
    "import numpy as np\n",
    "import matplotlib.pyplot as plt\n",
    "\n",
    "# Sklearn processing\n",
    "from sklearn.preprocessing import MinMaxScaler\n",
    "from sklearn.model_selection import train_test_split\n",
    "\n",
    "# Sklearn regression algorithms\n",
    "from sklearn.linear_model import LinearRegression\n",
    "from sklearn.neighbors import KNeighborsRegressor\n",
    "from sklearn.tree import DecisionTreeRegressor\n",
    "\n",
    "# Sklearn regression model evaluation function\n",
    "from sklearn.metrics import mean_absolute_error"
   ]
  },
  {
   "cell_type": "code",
   "execution_count": 26,
   "id": "1ac7df5e",
   "metadata": {},
   "outputs": [],
   "source": [
    "plt.style.use('bmh')"
   ]
  },
  {
   "cell_type": "code",
   "execution_count": 27,
   "id": "8774e91a",
   "metadata": {},
   "outputs": [
    {
     "data": {
      "text/html": [
       "<div>\n",
       "<style scoped>\n",
       "    .dataframe tbody tr th:only-of-type {\n",
       "        vertical-align: middle;\n",
       "    }\n",
       "\n",
       "    .dataframe tbody tr th {\n",
       "        vertical-align: top;\n",
       "    }\n",
       "\n",
       "    .dataframe thead th {\n",
       "        text-align: right;\n",
       "    }\n",
       "</style>\n",
       "<table border=\"1\" class=\"dataframe\">\n",
       "  <thead>\n",
       "    <tr style=\"text-align: right;\">\n",
       "      <th></th>\n",
       "      <th>Age</th>\n",
       "      <th>Gender</th>\n",
       "      <th>Country</th>\n",
       "      <th>treatment</th>\n",
       "      <th>remote_work</th>\n",
       "      <th>mental_health_consequence</th>\n",
       "      <th>coworkers</th>\n",
       "      <th>mental_health_interview</th>\n",
       "      <th>mental_vs_physical</th>\n",
       "    </tr>\n",
       "  </thead>\n",
       "  <tbody>\n",
       "    <tr>\n",
       "      <th>0</th>\n",
       "      <td>37</td>\n",
       "      <td>Female</td>\n",
       "      <td>USA</td>\n",
       "      <td>Yes</td>\n",
       "      <td>No</td>\n",
       "      <td>No</td>\n",
       "      <td>Some of them</td>\n",
       "      <td>No</td>\n",
       "      <td>Yes</td>\n",
       "    </tr>\n",
       "    <tr>\n",
       "      <th>1</th>\n",
       "      <td>44</td>\n",
       "      <td>Male</td>\n",
       "      <td>USA</td>\n",
       "      <td>No</td>\n",
       "      <td>No</td>\n",
       "      <td>Maybe</td>\n",
       "      <td>No</td>\n",
       "      <td>No</td>\n",
       "      <td>Don't know</td>\n",
       "    </tr>\n",
       "    <tr>\n",
       "      <th>2</th>\n",
       "      <td>32</td>\n",
       "      <td>Male</td>\n",
       "      <td>CAN</td>\n",
       "      <td>No</td>\n",
       "      <td>No</td>\n",
       "      <td>No</td>\n",
       "      <td>Yes</td>\n",
       "      <td>Yes</td>\n",
       "      <td>No</td>\n",
       "    </tr>\n",
       "    <tr>\n",
       "      <th>3</th>\n",
       "      <td>31</td>\n",
       "      <td>Male</td>\n",
       "      <td>UK</td>\n",
       "      <td>Yes</td>\n",
       "      <td>No</td>\n",
       "      <td>Yes</td>\n",
       "      <td>Some of them</td>\n",
       "      <td>Maybe</td>\n",
       "      <td>No</td>\n",
       "    </tr>\n",
       "    <tr>\n",
       "      <th>4</th>\n",
       "      <td>31</td>\n",
       "      <td>Male</td>\n",
       "      <td>USA</td>\n",
       "      <td>No</td>\n",
       "      <td>Yes</td>\n",
       "      <td>No</td>\n",
       "      <td>Some of them</td>\n",
       "      <td>Yes</td>\n",
       "      <td>Don't know</td>\n",
       "    </tr>\n",
       "  </tbody>\n",
       "</table>\n",
       "</div>"
      ],
      "text/plain": [
       "   Age  Gender Country treatment remote_work mental_health_consequence  \\\n",
       "0   37  Female     USA       Yes          No                        No   \n",
       "1   44    Male     USA        No          No                     Maybe   \n",
       "2   32    Male     CAN        No          No                        No   \n",
       "3   31    Male      UK       Yes          No                       Yes   \n",
       "4   31    Male     USA        No         Yes                        No   \n",
       "\n",
       "      coworkers mental_health_interview mental_vs_physical  \n",
       "0  Some of them                      No                Yes  \n",
       "1            No                      No         Don't know  \n",
       "2           Yes                     Yes                 No  \n",
       "3  Some of them                   Maybe                 No  \n",
       "4  Some of them                     Yes         Don't know  "
      ]
     },
     "execution_count": 27,
     "metadata": {},
     "output_type": "execute_result"
    }
   ],
   "source": [
    "#print df\n",
    "df.head()"
   ]
  },
  {
   "cell_type": "markdown",
   "id": "8d2b4c20",
   "metadata": {},
   "source": [
    "#### Changing all string data to number"
   ]
  },
  {
   "cell_type": "code",
   "execution_count": 28,
   "id": "4d5f531d",
   "metadata": {},
   "outputs": [
    {
     "name": "stderr",
     "output_type": "stream",
     "text": [
      "C:\\Users\\vasan\\anaconda3\\lib\\site-packages\\pandas\\core\\indexing.py:670: SettingWithCopyWarning: \n",
      "A value is trying to be set on a copy of a slice from a DataFrame\n",
      "\n",
      "See the caveats in the documentation: https://pandas.pydata.org/pandas-docs/stable/user_guide/indexing.html#returning-a-view-versus-a-copy\n",
      "  iloc._setitem_with_indexer(indexer, value)\n"
     ]
    }
   ],
   "source": [
    "df['Gender'].loc[df['Gender']=='Male']=1\n",
    "df['Gender'].loc[df['Gender']=='Female']=2"
   ]
  },
  {
   "cell_type": "code",
   "execution_count": 29,
   "id": "c19d59a2",
   "metadata": {},
   "outputs": [
    {
     "data": {
      "text/plain": [
       "array(['Yes', 'No'], dtype=object)"
      ]
     },
     "execution_count": 29,
     "metadata": {},
     "output_type": "execute_result"
    }
   ],
   "source": [
    "df['treatment'].unique()"
   ]
  },
  {
   "cell_type": "code",
   "execution_count": 30,
   "id": "f790a1b7",
   "metadata": {},
   "outputs": [],
   "source": [
    "df['treatment'].loc[df['treatment']=='Yes']=1\n",
    "df['treatment'].loc[df['treatment']=='No']=0"
   ]
  },
  {
   "cell_type": "code",
   "execution_count": 31,
   "id": "662e4293",
   "metadata": {},
   "outputs": [
    {
     "data": {
      "text/plain": [
       "array(['No', 'Yes'], dtype=object)"
      ]
     },
     "execution_count": 31,
     "metadata": {},
     "output_type": "execute_result"
    }
   ],
   "source": [
    "df['remote_work'].unique()"
   ]
  },
  {
   "cell_type": "code",
   "execution_count": 32,
   "id": "579de69d",
   "metadata": {},
   "outputs": [],
   "source": [
    "df['remote_work'].loc[df['remote_work']=='Yes']=1\n",
    "df['remote_work'].loc[df['remote_work']=='No']=0"
   ]
  },
  {
   "cell_type": "code",
   "execution_count": 33,
   "id": "58857fbd",
   "metadata": {},
   "outputs": [
    {
     "data": {
      "text/plain": [
       "array(['No', 'Maybe', 'Yes'], dtype=object)"
      ]
     },
     "execution_count": 33,
     "metadata": {},
     "output_type": "execute_result"
    }
   ],
   "source": [
    "df['mental_health_consequence'].unique()"
   ]
  },
  {
   "cell_type": "code",
   "execution_count": 34,
   "id": "0c193ab6",
   "metadata": {},
   "outputs": [],
   "source": [
    "df['mental_health_consequence'].loc[df['mental_health_consequence']=='Yes']=1\n",
    "df['mental_health_consequence'].loc[df['mental_health_consequence']=='No']=0\n",
    "df['mental_health_consequence'].loc[df['mental_health_consequence']=='Maybe']=0.5"
   ]
  },
  {
   "cell_type": "code",
   "execution_count": 35,
   "id": "74f84751",
   "metadata": {},
   "outputs": [
    {
     "data": {
      "text/plain": [
       "array(['Some of them', 'No', 'Yes'], dtype=object)"
      ]
     },
     "execution_count": 35,
     "metadata": {},
     "output_type": "execute_result"
    }
   ],
   "source": [
    "df['coworkers'].unique()"
   ]
  },
  {
   "cell_type": "code",
   "execution_count": 36,
   "id": "174f1a7f",
   "metadata": {},
   "outputs": [],
   "source": [
    "df['coworkers'].loc[df['coworkers']=='Yes']=1\n",
    "df['coworkers'].loc[df['coworkers']=='No']=0\n",
    "df['coworkers'].loc[df['coworkers']=='Some of them']=0.5"
   ]
  },
  {
   "cell_type": "code",
   "execution_count": 37,
   "id": "ea975546",
   "metadata": {},
   "outputs": [
    {
     "data": {
      "text/plain": [
       "array(['No', 'Yes', 'Maybe'], dtype=object)"
      ]
     },
     "execution_count": 37,
     "metadata": {},
     "output_type": "execute_result"
    }
   ],
   "source": [
    "df['mental_health_interview'].unique()"
   ]
  },
  {
   "cell_type": "code",
   "execution_count": 38,
   "id": "a9aa8647",
   "metadata": {},
   "outputs": [],
   "source": [
    "df['mental_health_interview'].loc[df['mental_health_interview']=='Yes']=1\n",
    "df['mental_health_interview'].loc[df['mental_health_interview']=='No']=0\n",
    "df['mental_health_interview'].loc[df['mental_health_interview']=='Maybe']=0.5"
   ]
  },
  {
   "cell_type": "code",
   "execution_count": 39,
   "id": "cc1a152b",
   "metadata": {},
   "outputs": [
    {
     "data": {
      "text/plain": [
       "array(['Yes', \"Don't know\", 'No'], dtype=object)"
      ]
     },
     "execution_count": 39,
     "metadata": {},
     "output_type": "execute_result"
    }
   ],
   "source": [
    "df['mental_vs_physical'].unique()"
   ]
  },
  {
   "cell_type": "code",
   "execution_count": 40,
   "id": "7ae83576",
   "metadata": {},
   "outputs": [],
   "source": [
    "df['mental_vs_physical'].loc[df['mental_vs_physical']=='Yes']=1\n",
    "df['mental_vs_physical'].loc[df['mental_vs_physical']=='No']=0\n",
    "df['mental_vs_physical'].loc[df['mental_vs_physical']==\"Don't know\"]=0.5"
   ]
  },
  {
   "cell_type": "code",
   "execution_count": 41,
   "id": "363bd2b0",
   "metadata": {},
   "outputs": [
    {
     "data": {
      "text/plain": [
       "array([2, 1], dtype=object)"
      ]
     },
     "execution_count": 41,
     "metadata": {},
     "output_type": "execute_result"
    }
   ],
   "source": [
    "df['Gender'].unique()"
   ]
  },
  {
   "cell_type": "code",
   "execution_count": 42,
   "id": "84ae3725",
   "metadata": {},
   "outputs": [
    {
     "data": {
      "text/html": [
       "<div>\n",
       "<style scoped>\n",
       "    .dataframe tbody tr th:only-of-type {\n",
       "        vertical-align: middle;\n",
       "    }\n",
       "\n",
       "    .dataframe tbody tr th {\n",
       "        vertical-align: top;\n",
       "    }\n",
       "\n",
       "    .dataframe thead th {\n",
       "        text-align: right;\n",
       "    }\n",
       "</style>\n",
       "<table border=\"1\" class=\"dataframe\">\n",
       "  <thead>\n",
       "    <tr style=\"text-align: right;\">\n",
       "      <th></th>\n",
       "      <th>Age</th>\n",
       "      <th>Gender</th>\n",
       "      <th>Country</th>\n",
       "      <th>treatment</th>\n",
       "      <th>remote_work</th>\n",
       "      <th>mental_health_consequence</th>\n",
       "      <th>coworkers</th>\n",
       "      <th>mental_health_interview</th>\n",
       "      <th>mental_vs_physical</th>\n",
       "    </tr>\n",
       "  </thead>\n",
       "  <tbody>\n",
       "    <tr>\n",
       "      <th>0</th>\n",
       "      <td>37</td>\n",
       "      <td>2</td>\n",
       "      <td>USA</td>\n",
       "      <td>1</td>\n",
       "      <td>0</td>\n",
       "      <td>0</td>\n",
       "      <td>0.5</td>\n",
       "      <td>0</td>\n",
       "      <td>1</td>\n",
       "    </tr>\n",
       "    <tr>\n",
       "      <th>1</th>\n",
       "      <td>44</td>\n",
       "      <td>1</td>\n",
       "      <td>USA</td>\n",
       "      <td>0</td>\n",
       "      <td>0</td>\n",
       "      <td>0.5</td>\n",
       "      <td>0</td>\n",
       "      <td>0</td>\n",
       "      <td>0.5</td>\n",
       "    </tr>\n",
       "    <tr>\n",
       "      <th>2</th>\n",
       "      <td>32</td>\n",
       "      <td>1</td>\n",
       "      <td>CAN</td>\n",
       "      <td>0</td>\n",
       "      <td>0</td>\n",
       "      <td>0</td>\n",
       "      <td>1</td>\n",
       "      <td>1</td>\n",
       "      <td>0</td>\n",
       "    </tr>\n",
       "    <tr>\n",
       "      <th>3</th>\n",
       "      <td>31</td>\n",
       "      <td>1</td>\n",
       "      <td>UK</td>\n",
       "      <td>1</td>\n",
       "      <td>0</td>\n",
       "      <td>1</td>\n",
       "      <td>0.5</td>\n",
       "      <td>0.5</td>\n",
       "      <td>0</td>\n",
       "    </tr>\n",
       "    <tr>\n",
       "      <th>4</th>\n",
       "      <td>31</td>\n",
       "      <td>1</td>\n",
       "      <td>USA</td>\n",
       "      <td>0</td>\n",
       "      <td>1</td>\n",
       "      <td>0</td>\n",
       "      <td>0.5</td>\n",
       "      <td>1</td>\n",
       "      <td>0.5</td>\n",
       "    </tr>\n",
       "  </tbody>\n",
       "</table>\n",
       "</div>"
      ],
      "text/plain": [
       "   Age Gender Country treatment remote_work mental_health_consequence  \\\n",
       "0   37      2     USA         1           0                         0   \n",
       "1   44      1     USA         0           0                       0.5   \n",
       "2   32      1     CAN         0           0                         0   \n",
       "3   31      1      UK         1           0                         1   \n",
       "4   31      1     USA         0           1                         0   \n",
       "\n",
       "  coworkers mental_health_interview mental_vs_physical  \n",
       "0       0.5                       0                  1  \n",
       "1         0                       0                0.5  \n",
       "2         1                       1                  0  \n",
       "3       0.5                     0.5                  0  \n",
       "4       0.5                       1                0.5  "
      ]
     },
     "execution_count": 42,
     "metadata": {},
     "output_type": "execute_result"
    }
   ],
   "source": [
    "df.head()"
   ]
  },
  {
   "cell_type": "code",
   "execution_count": 43,
   "id": "81f47f99",
   "metadata": {},
   "outputs": [],
   "source": [
    "y = df[\"mental_health_consequence\"]\n",
    "X = df[['Gender', 'treatment', 'remote_work', 'coworkers', 'mental_health_interview', 'mental_vs_physical']]"
   ]
  },
  {
   "cell_type": "code",
   "execution_count": 44,
   "id": "e8f519e1",
   "metadata": {},
   "outputs": [],
   "source": [
    "# Rescale the data\n",
    "scaler = MinMaxScaler(feature_range=(0,1))\n",
    "rescaledX = scaler.fit_transform(X)\n",
    "\n",
    "# Convert X back to a Pandas DataFrame, for convenience\n",
    "X = pd.DataFrame(rescaledX, index=X.index, columns=X.columns)"
   ]
  },
  {
   "cell_type": "code",
   "execution_count": 45,
   "id": "af7cf74f",
   "metadata": {},
   "outputs": [],
   "source": [
    "#Split into test and training set\n",
    "X_train, X_test, Y_train, Y_test = train_test_split(X, y, test_size=0.33, random_state=1)"
   ]
  },
  {
   "cell_type": "code",
   "execution_count": 46,
   "id": "bb4b8ba4",
   "metadata": {},
   "outputs": [],
   "source": [
    "#Create Multiple Models, Fit and Check Them\n",
    "models = [LinearRegression(), KNeighborsRegressor()]"
   ]
  },
  {
   "cell_type": "code",
   "execution_count": 47,
   "id": "77868134",
   "metadata": {},
   "outputs": [
    {
     "name": "stdout",
     "output_type": "stream",
     "text": [
      "LinearRegression 0.2517038612767808\n",
      "KNeighborsRegressor 0.2501779359430605\n"
     ]
    }
   ],
   "source": [
    "for model in models:\n",
    "    model.fit(X_train, Y_train)\n",
    "    predictions = model.predict(X_train)\n",
    "    print(type(model).__name__, mean_absolute_error(Y_train, predictions))"
   ]
  },
  {
   "cell_type": "code",
   "execution_count": 48,
   "id": "17e15c4a",
   "metadata": {},
   "outputs": [
    {
     "name": "stdout",
     "output_type": "stream",
     "text": [
      "LinearRegression 0.25657101319571274\n",
      "KNeighborsRegressor 0.28125\n"
     ]
    }
   ],
   "source": [
    "#Evaluating models\n",
    "for model in models:\n",
    "    predictions = model.predict(X_test)\n",
    "    print(type(model).__name__, mean_absolute_error(Y_test, predictions))"
   ]
  },
  {
   "cell_type": "code",
   "execution_count": 49,
   "id": "452b989b",
   "metadata": {},
   "outputs": [
    {
     "data": {
      "text/html": [
       "<div>\n",
       "<style scoped>\n",
       "    .dataframe tbody tr th:only-of-type {\n",
       "        vertical-align: middle;\n",
       "    }\n",
       "\n",
       "    .dataframe tbody tr th {\n",
       "        vertical-align: top;\n",
       "    }\n",
       "\n",
       "    .dataframe thead th {\n",
       "        text-align: right;\n",
       "    }\n",
       "</style>\n",
       "<table border=\"1\" class=\"dataframe\">\n",
       "  <thead>\n",
       "    <tr style=\"text-align: right;\">\n",
       "      <th></th>\n",
       "      <th>Gender</th>\n",
       "      <th>treatment</th>\n",
       "      <th>remote_work</th>\n",
       "      <th>coworkers</th>\n",
       "      <th>mental_health_interview</th>\n",
       "      <th>mental_vs_physical</th>\n",
       "      <th>Prediction</th>\n",
       "      <th>Actual</th>\n",
       "      <th>Error</th>\n",
       "    </tr>\n",
       "  </thead>\n",
       "  <tbody>\n",
       "    <tr>\n",
       "      <th>972</th>\n",
       "      <td>0.0</td>\n",
       "      <td>1.0</td>\n",
       "      <td>0.0</td>\n",
       "      <td>1.0</td>\n",
       "      <td>0.0</td>\n",
       "      <td>0.5</td>\n",
       "      <td>0.2</td>\n",
       "      <td>0</td>\n",
       "      <td>-0.2</td>\n",
       "    </tr>\n",
       "    <tr>\n",
       "      <th>719</th>\n",
       "      <td>0.0</td>\n",
       "      <td>0.0</td>\n",
       "      <td>0.0</td>\n",
       "      <td>1.0</td>\n",
       "      <td>0.0</td>\n",
       "      <td>0.5</td>\n",
       "      <td>0.4</td>\n",
       "      <td>0</td>\n",
       "      <td>-0.4</td>\n",
       "    </tr>\n",
       "    <tr>\n",
       "      <th>979</th>\n",
       "      <td>0.0</td>\n",
       "      <td>1.0</td>\n",
       "      <td>0.0</td>\n",
       "      <td>1.0</td>\n",
       "      <td>0.0</td>\n",
       "      <td>0.0</td>\n",
       "      <td>0.5</td>\n",
       "      <td>0.5</td>\n",
       "      <td>0</td>\n",
       "    </tr>\n",
       "    <tr>\n",
       "      <th>550</th>\n",
       "      <td>1.0</td>\n",
       "      <td>0.0</td>\n",
       "      <td>0.0</td>\n",
       "      <td>0.5</td>\n",
       "      <td>0.0</td>\n",
       "      <td>0.5</td>\n",
       "      <td>0.6</td>\n",
       "      <td>0.5</td>\n",
       "      <td>-0.1</td>\n",
       "    </tr>\n",
       "    <tr>\n",
       "      <th>512</th>\n",
       "      <td>0.0</td>\n",
       "      <td>0.0</td>\n",
       "      <td>0.0</td>\n",
       "      <td>0.0</td>\n",
       "      <td>0.0</td>\n",
       "      <td>0.5</td>\n",
       "      <td>0.6</td>\n",
       "      <td>0.5</td>\n",
       "      <td>-0.1</td>\n",
       "    </tr>\n",
       "    <tr>\n",
       "      <th>...</th>\n",
       "      <td>...</td>\n",
       "      <td>...</td>\n",
       "      <td>...</td>\n",
       "      <td>...</td>\n",
       "      <td>...</td>\n",
       "      <td>...</td>\n",
       "      <td>...</td>\n",
       "      <td>...</td>\n",
       "      <td>...</td>\n",
       "    </tr>\n",
       "    <tr>\n",
       "      <th>256</th>\n",
       "      <td>1.0</td>\n",
       "      <td>1.0</td>\n",
       "      <td>0.0</td>\n",
       "      <td>0.5</td>\n",
       "      <td>0.0</td>\n",
       "      <td>1.0</td>\n",
       "      <td>0.2</td>\n",
       "      <td>0.5</td>\n",
       "      <td>0.3</td>\n",
       "    </tr>\n",
       "    <tr>\n",
       "      <th>48</th>\n",
       "      <td>0.0</td>\n",
       "      <td>0.0</td>\n",
       "      <td>0.0</td>\n",
       "      <td>1.0</td>\n",
       "      <td>0.0</td>\n",
       "      <td>1.0</td>\n",
       "      <td>0.2</td>\n",
       "      <td>0</td>\n",
       "      <td>-0.2</td>\n",
       "    </tr>\n",
       "    <tr>\n",
       "      <th>623</th>\n",
       "      <td>1.0</td>\n",
       "      <td>1.0</td>\n",
       "      <td>0.0</td>\n",
       "      <td>0.0</td>\n",
       "      <td>0.0</td>\n",
       "      <td>0.5</td>\n",
       "      <td>0.8</td>\n",
       "      <td>1</td>\n",
       "      <td>0.2</td>\n",
       "    </tr>\n",
       "    <tr>\n",
       "      <th>480</th>\n",
       "      <td>0.0</td>\n",
       "      <td>0.0</td>\n",
       "      <td>0.0</td>\n",
       "      <td>1.0</td>\n",
       "      <td>0.5</td>\n",
       "      <td>1.0</td>\n",
       "      <td>0</td>\n",
       "      <td>0</td>\n",
       "      <td>0</td>\n",
       "    </tr>\n",
       "    <tr>\n",
       "      <th>215</th>\n",
       "      <td>1.0</td>\n",
       "      <td>1.0</td>\n",
       "      <td>1.0</td>\n",
       "      <td>0.5</td>\n",
       "      <td>0.0</td>\n",
       "      <td>0.5</td>\n",
       "      <td>0.6</td>\n",
       "      <td>0</td>\n",
       "      <td>-0.6</td>\n",
       "    </tr>\n",
       "  </tbody>\n",
       "</table>\n",
       "<p>416 rows × 9 columns</p>\n",
       "</div>"
      ],
      "text/plain": [
       "     Gender  treatment  remote_work  coworkers  mental_health_interview  \\\n",
       "972     0.0        1.0          0.0        1.0                      0.0   \n",
       "719     0.0        0.0          0.0        1.0                      0.0   \n",
       "979     0.0        1.0          0.0        1.0                      0.0   \n",
       "550     1.0        0.0          0.0        0.5                      0.0   \n",
       "512     0.0        0.0          0.0        0.0                      0.0   \n",
       "..      ...        ...          ...        ...                      ...   \n",
       "256     1.0        1.0          0.0        0.5                      0.0   \n",
       "48      0.0        0.0          0.0        1.0                      0.0   \n",
       "623     1.0        1.0          0.0        0.0                      0.0   \n",
       "480     0.0        0.0          0.0        1.0                      0.5   \n",
       "215     1.0        1.0          1.0        0.5                      0.0   \n",
       "\n",
       "     mental_vs_physical Prediction Actual Error  \n",
       "972                 0.5        0.2      0  -0.2  \n",
       "719                 0.5        0.4      0  -0.4  \n",
       "979                 0.0        0.5    0.5     0  \n",
       "550                 0.5        0.6    0.5  -0.1  \n",
       "512                 0.5        0.6    0.5  -0.1  \n",
       "..                  ...        ...    ...   ...  \n",
       "256                 1.0        0.2    0.5   0.3  \n",
       "48                  1.0        0.2      0  -0.2  \n",
       "623                 0.5        0.8      1   0.2  \n",
       "480                 1.0          0      0     0  \n",
       "215                 0.5        0.6      0  -0.6  \n",
       "\n",
       "[416 rows x 9 columns]"
      ]
     },
     "execution_count": 49,
     "metadata": {},
     "output_type": "execute_result"
    }
   ],
   "source": [
    "predictions = model.predict(X_test)\n",
    "df = X_test.copy()\n",
    "df['Prediction'] = predictions\n",
    "df['Actual'] = Y_test\n",
    "df[\"Error\"] = Y_test - predictions\n",
    "df"
   ]
  },
  {
   "cell_type": "markdown",
   "id": "3692265a",
   "metadata": {},
   "source": [
    "### Summaries"
   ]
  },
  {
   "cell_type": "markdown",
   "id": "e9006720",
   "metadata": {},
   "source": [
    "As per the Linear regression and KNeighborsRegressoion we got the output as 0.26 and 0.28 respectively. Thus the chances of affecting mental illness value based on other values are around 26% to 28%"
   ]
  },
  {
   "cell_type": "code",
   "execution_count": null,
   "id": "55b82c6f",
   "metadata": {},
   "outputs": [],
   "source": []
  },
  {
   "cell_type": "code",
   "execution_count": null,
   "id": "546e6f90",
   "metadata": {},
   "outputs": [],
   "source": []
  },
  {
   "cell_type": "code",
   "execution_count": null,
   "id": "1d11af42",
   "metadata": {},
   "outputs": [],
   "source": []
  }
 ],
 "metadata": {
  "kernelspec": {
   "display_name": "Python 3",
   "language": "python",
   "name": "python3"
  },
  "language_info": {
   "codemirror_mode": {
    "name": "ipython",
    "version": 3
   },
   "file_extension": ".py",
   "mimetype": "text/x-python",
   "name": "python",
   "nbconvert_exporter": "python",
   "pygments_lexer": "ipython3",
   "version": "3.6.13"
  }
 },
 "nbformat": 4,
 "nbformat_minor": 5
}
