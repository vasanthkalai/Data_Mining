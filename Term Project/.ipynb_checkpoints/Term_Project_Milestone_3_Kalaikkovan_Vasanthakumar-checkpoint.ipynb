{
 "cells": [
  {
   "cell_type": "code",
   "execution_count": 86,
   "id": "4f5f969c",
   "metadata": {},
   "outputs": [],
   "source": [
    "# importing libraries\n",
    "import pandas as pd\n",
    "import numpy as np\n",
    "import matplotlib.pyplot as plt"
   ]
  },
  {
   "cell_type": "code",
   "execution_count": 87,
   "id": "c5d3200b",
   "metadata": {},
   "outputs": [
    {
     "data": {
      "text/html": [
       "<div>\n",
       "<style scoped>\n",
       "    .dataframe tbody tr th:only-of-type {\n",
       "        vertical-align: middle;\n",
       "    }\n",
       "\n",
       "    .dataframe tbody tr th {\n",
       "        vertical-align: top;\n",
       "    }\n",
       "\n",
       "    .dataframe thead th {\n",
       "        text-align: right;\n",
       "    }\n",
       "</style>\n",
       "<table border=\"1\" class=\"dataframe\">\n",
       "  <thead>\n",
       "    <tr style=\"text-align: right;\">\n",
       "      <th></th>\n",
       "      <th>Timestamp</th>\n",
       "      <th>Age</th>\n",
       "      <th>Gender</th>\n",
       "      <th>Country</th>\n",
       "      <th>state</th>\n",
       "      <th>self_employed</th>\n",
       "      <th>family_history</th>\n",
       "      <th>treatment</th>\n",
       "      <th>work_interfere</th>\n",
       "      <th>no_employees</th>\n",
       "      <th>...</th>\n",
       "      <th>leave</th>\n",
       "      <th>mental_health_consequence</th>\n",
       "      <th>phys_health_consequence</th>\n",
       "      <th>coworkers</th>\n",
       "      <th>supervisor</th>\n",
       "      <th>mental_health_interview</th>\n",
       "      <th>phys_health_interview</th>\n",
       "      <th>mental_vs_physical</th>\n",
       "      <th>obs_consequence</th>\n",
       "      <th>comments</th>\n",
       "    </tr>\n",
       "  </thead>\n",
       "  <tbody>\n",
       "    <tr>\n",
       "      <th>0</th>\n",
       "      <td>27-08-2014 11:29</td>\n",
       "      <td>37</td>\n",
       "      <td>Female</td>\n",
       "      <td>United States</td>\n",
       "      <td>IL</td>\n",
       "      <td>NaN</td>\n",
       "      <td>No</td>\n",
       "      <td>Yes</td>\n",
       "      <td>Often</td>\n",
       "      <td>Jun-25</td>\n",
       "      <td>...</td>\n",
       "      <td>Somewhat easy</td>\n",
       "      <td>No</td>\n",
       "      <td>No</td>\n",
       "      <td>Some of them</td>\n",
       "      <td>Yes</td>\n",
       "      <td>No</td>\n",
       "      <td>Maybe</td>\n",
       "      <td>Yes</td>\n",
       "      <td>No</td>\n",
       "      <td>NaN</td>\n",
       "    </tr>\n",
       "    <tr>\n",
       "      <th>1</th>\n",
       "      <td>27-08-2014 11:29</td>\n",
       "      <td>44</td>\n",
       "      <td>M</td>\n",
       "      <td>United States</td>\n",
       "      <td>IN</td>\n",
       "      <td>NaN</td>\n",
       "      <td>No</td>\n",
       "      <td>No</td>\n",
       "      <td>Rarely</td>\n",
       "      <td>More than 1000</td>\n",
       "      <td>...</td>\n",
       "      <td>Don't know</td>\n",
       "      <td>Maybe</td>\n",
       "      <td>No</td>\n",
       "      <td>No</td>\n",
       "      <td>No</td>\n",
       "      <td>No</td>\n",
       "      <td>No</td>\n",
       "      <td>Don't know</td>\n",
       "      <td>No</td>\n",
       "      <td>NaN</td>\n",
       "    </tr>\n",
       "    <tr>\n",
       "      <th>2</th>\n",
       "      <td>27-08-2014 11:29</td>\n",
       "      <td>32</td>\n",
       "      <td>Male</td>\n",
       "      <td>Canada</td>\n",
       "      <td>NaN</td>\n",
       "      <td>NaN</td>\n",
       "      <td>No</td>\n",
       "      <td>No</td>\n",
       "      <td>Rarely</td>\n",
       "      <td>Jun-25</td>\n",
       "      <td>...</td>\n",
       "      <td>Somewhat difficult</td>\n",
       "      <td>No</td>\n",
       "      <td>No</td>\n",
       "      <td>Yes</td>\n",
       "      <td>Yes</td>\n",
       "      <td>Yes</td>\n",
       "      <td>Yes</td>\n",
       "      <td>No</td>\n",
       "      <td>No</td>\n",
       "      <td>NaN</td>\n",
       "    </tr>\n",
       "    <tr>\n",
       "      <th>3</th>\n",
       "      <td>27-08-2014 11:29</td>\n",
       "      <td>31</td>\n",
       "      <td>Male</td>\n",
       "      <td>United Kingdom</td>\n",
       "      <td>NaN</td>\n",
       "      <td>NaN</td>\n",
       "      <td>Yes</td>\n",
       "      <td>Yes</td>\n",
       "      <td>Often</td>\n",
       "      <td>26-100</td>\n",
       "      <td>...</td>\n",
       "      <td>Somewhat difficult</td>\n",
       "      <td>Yes</td>\n",
       "      <td>Yes</td>\n",
       "      <td>Some of them</td>\n",
       "      <td>No</td>\n",
       "      <td>Maybe</td>\n",
       "      <td>Maybe</td>\n",
       "      <td>No</td>\n",
       "      <td>Yes</td>\n",
       "      <td>NaN</td>\n",
       "    </tr>\n",
       "    <tr>\n",
       "      <th>4</th>\n",
       "      <td>27-08-2014 11:30</td>\n",
       "      <td>31</td>\n",
       "      <td>Male</td>\n",
       "      <td>United States</td>\n",
       "      <td>TX</td>\n",
       "      <td>NaN</td>\n",
       "      <td>No</td>\n",
       "      <td>No</td>\n",
       "      <td>Never</td>\n",
       "      <td>100-500</td>\n",
       "      <td>...</td>\n",
       "      <td>Don't know</td>\n",
       "      <td>No</td>\n",
       "      <td>No</td>\n",
       "      <td>Some of them</td>\n",
       "      <td>Yes</td>\n",
       "      <td>Yes</td>\n",
       "      <td>Yes</td>\n",
       "      <td>Don't know</td>\n",
       "      <td>No</td>\n",
       "      <td>NaN</td>\n",
       "    </tr>\n",
       "  </tbody>\n",
       "</table>\n",
       "<p>5 rows × 27 columns</p>\n",
       "</div>"
      ],
      "text/plain": [
       "          Timestamp  Age  Gender         Country state self_employed  \\\n",
       "0  27-08-2014 11:29   37  Female   United States    IL           NaN   \n",
       "1  27-08-2014 11:29   44       M   United States    IN           NaN   \n",
       "2  27-08-2014 11:29   32    Male          Canada   NaN           NaN   \n",
       "3  27-08-2014 11:29   31    Male  United Kingdom   NaN           NaN   \n",
       "4  27-08-2014 11:30   31    Male   United States    TX           NaN   \n",
       "\n",
       "  family_history treatment work_interfere    no_employees  ...  \\\n",
       "0             No       Yes          Often          Jun-25  ...   \n",
       "1             No        No         Rarely  More than 1000  ...   \n",
       "2             No        No         Rarely          Jun-25  ...   \n",
       "3            Yes       Yes          Often          26-100  ...   \n",
       "4             No        No          Never         100-500  ...   \n",
       "\n",
       "                leave mental_health_consequence phys_health_consequence  \\\n",
       "0       Somewhat easy                        No                      No   \n",
       "1          Don't know                     Maybe                      No   \n",
       "2  Somewhat difficult                        No                      No   \n",
       "3  Somewhat difficult                       Yes                     Yes   \n",
       "4          Don't know                        No                      No   \n",
       "\n",
       "      coworkers supervisor mental_health_interview phys_health_interview  \\\n",
       "0  Some of them        Yes                      No                 Maybe   \n",
       "1            No         No                      No                    No   \n",
       "2           Yes        Yes                     Yes                   Yes   \n",
       "3  Some of them         No                   Maybe                 Maybe   \n",
       "4  Some of them        Yes                     Yes                   Yes   \n",
       "\n",
       "  mental_vs_physical obs_consequence comments  \n",
       "0                Yes              No      NaN  \n",
       "1         Don't know              No      NaN  \n",
       "2                 No              No      NaN  \n",
       "3                 No             Yes      NaN  \n",
       "4         Don't know              No      NaN  \n",
       "\n",
       "[5 rows x 27 columns]"
      ]
     },
     "execution_count": 87,
     "metadata": {},
     "output_type": "execute_result"
    }
   ],
   "source": [
    "# importing the data\n",
    "df=pd.read_csv(\"survey.csv\")\n",
    "df.head()"
   ]
  },
  {
   "cell_type": "markdown",
   "id": "3acde9f7",
   "metadata": {},
   "source": [
    "#### Removing the unwanted columns like state, self_employed, family_history, phys_health_consequence, phys_health_interview, Timestamp, comments"
   ]
  },
  {
   "cell_type": "markdown",
   "id": "236315e9",
   "metadata": {},
   "source": [
    "The reason behind deleting the above mentioned columns are explained below:\n",
    "    <br>1. state - We are comparing the coutries only in the graph analysis\n",
    "    <br>2. self_employed - We can avoid this because our focus is only about the corporate employees\n",
    "    <br>3. family_history - We are concerning the current status only\n",
    "    <br>4. phys_health_consequence - We are concern only about the mental stability\n",
    "    <br>5. phys_health_interview - We are concern only about the mental stability\n",
    "    <br>6. Timestamp - We are dealing with time frame so we can drop it\n",
    "    <br>7. comments - It has most NaN and its not requried for the analysis"
   ]
  },
  {
   "cell_type": "code",
   "execution_count": 88,
   "id": "f4ee8127",
   "metadata": {},
   "outputs": [],
   "source": [
    "df.drop('state', axis=1, inplace=True)\n",
    "df.drop('self_employed', axis=1, inplace=True)\n",
    "df.drop('family_history', axis=1, inplace=True)\n",
    "df.drop('phys_health_consequence', axis=1, inplace=True)\n",
    "df.drop('phys_health_interview', axis=1, inplace=True)\n",
    "df.drop('Timestamp', axis=1, inplace=True)\n",
    "df.drop('comments', axis=1, inplace=True)"
   ]
  },
  {
   "cell_type": "code",
   "execution_count": 89,
   "id": "19311cf8",
   "metadata": {},
   "outputs": [
    {
     "data": {
      "text/plain": [
       "1259"
      ]
     },
     "execution_count": 89,
     "metadata": {},
     "output_type": "execute_result"
    }
   ],
   "source": [
    "# finding the length of the dataframe\n",
    "len(df)"
   ]
  },
  {
   "cell_type": "code",
   "execution_count": 90,
   "id": "cc7e45fe",
   "metadata": {},
   "outputs": [
    {
     "data": {
      "text/plain": [
       "995"
      ]
     },
     "execution_count": 90,
     "metadata": {},
     "output_type": "execute_result"
    }
   ],
   "source": [
    "#removing the NAN\n",
    "len(df.dropna())"
   ]
  },
  {
   "cell_type": "markdown",
   "id": "eedec015",
   "metadata": {},
   "source": [
    "So previous after droping the number of rows was 86 but now it has increased to 995. Im viewing this as a great improvement in handling the missing data."
   ]
  },
  {
   "cell_type": "code",
   "execution_count": 91,
   "id": "66e63983",
   "metadata": {},
   "outputs": [],
   "source": [
    "df=df.dropna()"
   ]
  },
  {
   "cell_type": "code",
   "execution_count": 92,
   "id": "dc75b041",
   "metadata": {},
   "outputs": [
    {
     "data": {
      "text/plain": [
       "array(['Female', 'M', 'Male', 'male', 'female', 'm', 'Male-ish',\n",
       "       'Trans-female', 'Cis Female', 'F', 'Cis Male', 'f', 'Mal',\n",
       "       'queer/she/they', 'non-binary', 'woman', 'Make', 'Nah', 'All',\n",
       "       'Enby', 'fluid', 'Genderqueer', 'Female ', 'Androgyne', 'Agender',\n",
       "       'cis-female/femme', 'Guy (-ish) ^_^', 'male leaning androgynous',\n",
       "       'Male ', 'Trans woman', 'msle', 'Neuter', 'Female (trans)',\n",
       "       'queer', 'Female (cis)', 'Mail', 'cis male', 'A little about you',\n",
       "       'Malr', 'p', 'Woman', 'femail', 'Cis Man',\n",
       "       'ostensibly male, unsure what that really means'], dtype=object)"
      ]
     },
     "execution_count": 92,
     "metadata": {},
     "output_type": "execute_result"
    }
   ],
   "source": [
    "# finding the uniqie values in gender\n",
    "df['Gender'].unique()"
   ]
  },
  {
   "cell_type": "code",
   "execution_count": 93,
   "id": "b9b98aac",
   "metadata": {},
   "outputs": [
    {
     "name": "stderr",
     "output_type": "stream",
     "text": [
      "C:\\Users\\vasan\\anaconda3\\lib\\site-packages\\pandas\\core\\indexing.py:1637: SettingWithCopyWarning: \n",
      "A value is trying to be set on a copy of a slice from a DataFrame\n",
      "\n",
      "See the caveats in the documentation: https://pandas.pydata.org/pandas-docs/stable/user_guide/indexing.html#returning-a-view-versus-a-copy\n",
      "  self._setitem_single_block(indexer, value, name)\n"
     ]
    }
   ],
   "source": [
    "#changing the gender for the uniformity\n",
    "df['Gender'].loc[df['Gender']=='M']='Male'\n",
    "df['Gender'].loc[df['Gender']=='Male']='Male'\n",
    "df['Gender'].loc[df['Gender']=='male']='Male'\n",
    "df['Gender'].loc[df['Gender']=='female']='Female'\n",
    "df['Gender'].loc[df['Gender']=='m']='Male'\n",
    "df['Gender'].loc[df['Gender']=='Male-ish']='Male'\n",
    "df['Gender'].loc[df['Gender']=='Trans-female']='Female'\n",
    "df['Gender'].loc[df['Gender']=='Cis Female']='Female'\n",
    "df['Gender'].loc[df['Gender']=='F']='Female'\n",
    "df['Gender'].loc[df['Gender']=='Cis Male']='Male' \n",
    "df['Gender'].loc[df['Gender']=='f']='Female'\n",
    "df['Gender'].loc[df['Gender']=='Mal']='Male'\n",
    "df['Gender'].loc[df['Gender']=='queer/she/they']='Female'\n",
    "df['Gender'].loc[df['Gender']=='non-binary']='Male'\n",
    "df['Gender'].loc[df['Gender']=='woman']='Female'\n",
    "df['Gender'].loc[df['Gender']=='Make']='Male'\n",
    "df['Gender'].loc[df['Gender']=='Nah']='Male' \n",
    "df['Gender'].loc[df['Gender']=='All']='Male'\n",
    "df['Gender'].loc[df['Gender']=='Enby']='Female'\n",
    "df['Gender'].loc[df['Gender']=='fluid']='Female'\n",
    "df['Gender'].loc[df['Gender']=='Genderqueer']='Female'\n",
    "df['Gender'].loc[df['Gender']=='Female ']='Female'\n",
    "df['Gender'].loc[df['Gender']=='Androgyne']='Female'\n",
    "df['Gender'].loc[df['Gender']=='Agender']='Female'\n",
    "df['Gender'].loc[df['Gender']=='cis-female/femme']='Female'\n",
    "df['Gender'].loc[df['Gender']=='Guy (-ish) ^_^']='Male'\n",
    "df['Gender'].loc[df['Gender']=='male leaning androgynous']='Male'\n",
    "df['Gender'].loc[df['Gender']=='Trans woman']='Female'\n",
    "df['Gender'].loc[df['Gender']== 'msle']='Male'\n",
    "df['Gender'].loc[df['Gender']=='Neuter']='Female'\n",
    "df['Gender'].loc[df['Gender']=='Female (trans)']='Female'\n",
    "df['Gender'].loc[df['Gender']=='queer']='Female'\n",
    "df['Gender'].loc[df['Gender']=='Female (cis)']='Female'\n",
    "df['Gender'].loc[df['Gender']=='Mail']='Male'\n",
    "df['Gender'].loc[df['Gender']=='cis male']='Male'\n",
    "df['Gender'].loc[df['Gender']=='A little about you']='Female'\n",
    "df['Gender'].loc[df['Gender']=='Malr']='Male'\n",
    "df['Gender'].loc[df['Gender']=='p']='Female'\n",
    "df['Gender'].loc[df['Gender']=='Woman']='Female'\n",
    "df['Gender'].loc[df['Gender']=='femail']='Female'\n",
    "df['Gender'].loc[df['Gender']=='Cis Man']='Male'\n",
    "                 "
   ]
  },
  {
   "cell_type": "code",
   "execution_count": 94,
   "id": "679d5059",
   "metadata": {},
   "outputs": [
    {
     "data": {
      "text/plain": [
       "array(['Female', 'Male', 'Male ',\n",
       "       'ostensibly male, unsure what that really means'], dtype=object)"
      ]
     },
     "execution_count": 94,
     "metadata": {},
     "output_type": "execute_result"
    }
   ],
   "source": [
    "df['Gender'].unique()"
   ]
  },
  {
   "cell_type": "code",
   "execution_count": 95,
   "id": "fc946efd",
   "metadata": {},
   "outputs": [],
   "source": [
    "df['Gender'].loc[df['Gender']=='Male ']='Male'\n",
    "df['Gender'].loc[df['Gender']=='ostensibly male, unsure what that really means']='Male'"
   ]
  },
  {
   "cell_type": "code",
   "execution_count": 96,
   "id": "45a0e86e",
   "metadata": {},
   "outputs": [
    {
     "data": {
      "text/plain": [
       "array(['Female', 'Male'], dtype=object)"
      ]
     },
     "execution_count": 96,
     "metadata": {},
     "output_type": "execute_result"
    }
   ],
   "source": [
    "df['Gender'].unique()"
   ]
  },
  {
   "cell_type": "markdown",
   "id": "43fa6f2d",
   "metadata": {},
   "source": [
    "### 1. Comparing the mental illness of employees based on the gender category."
   ]
  },
  {
   "cell_type": "code",
   "execution_count": 97,
   "id": "9d75e98a",
   "metadata": {},
   "outputs": [
    {
     "data": {
      "image/png": "[encoded data removed]",
      "text/plain": [
       "<Figure size 432x288 with 1 Axes>"
      ]
     },
     "metadata": {
      "needs_background": "light"
     },
     "output_type": "display_data"
    }
   ],
   "source": [
    "plt.hist(df.loc[df['mental_health_consequence']=='Yes','Gender'])\n",
    "plt.xlabel('Gender')\n",
    "plt.ylabel('Count of mental concerns')\n",
    "plt.title('Mental illness of employees based on the gender category')\n",
    "plt.show()"
   ]
  },
  {
   "cell_type": "markdown",
   "id": "78b85934",
   "metadata": {},
   "source": [
    "### 2.Comparing the mental illness of employees based on the countries."
   ]
  },
  {
   "cell_type": "code",
   "execution_count": 100,
   "id": "6e0ee0b1",
   "metadata": {},
   "outputs": [
    {
     "data": {
      "text/plain": [
       "array(['United States', 'Canada', 'United Kingdom', 'Bulgaria',\n",
       "       'Netherlands', 'Poland', 'Australia', 'France', 'Germany',\n",
       "       'Mexico', 'Brazil', 'Slovenia', 'Ireland', 'India', 'South Africa',\n",
       "       'Russia', 'Italy', 'Colombia', 'Portugal', 'Switzerland',\n",
       "       'Belgium', 'Sweden', 'New Zealand', 'Zimbabwe', 'Finland',\n",
       "       'Israel', 'Bosnia and Herzegovina', 'Austria', 'Hungary',\n",
       "       'Singapore', 'Japan', 'Croatia', 'Thailand', 'Denmark',\n",
       "       'Bahamas, The', 'Moldova', 'Georgia', 'China', 'Czech Republic',\n",
       "       'Philippines'], dtype=object)"
      ]
     },
     "execution_count": 100,
     "metadata": {},
     "output_type": "execute_result"
    }
   ],
   "source": [
    "df['Country'].unique()"
   ]
  },
  {
   "cell_type": "code",
   "execution_count": 101,
   "id": "2c973baf",
   "metadata": {},
   "outputs": [],
   "source": [
    "# changing the country name to its correspnding code\n",
    "df['Country'].loc[df['Country']=='United States']='USA'\n",
    "df['Country'].loc[df['Country']=='Canada']='CAN'\n",
    "df['Country'].loc[df['Country']=='United Kingdom']='UK'\n",
    "df['Country'].loc[df['Country']=='Bulgaria']='BGR'\n",
    "df['Country'].loc[df['Country']=='Netherlands']='NLD'\n",
    "df['Country'].loc[df['Country']=='Poland']='POL'\n",
    "df['Country'].loc[df['Country']=='Australia']='AUS'\n",
    "df['Country'].loc[df['Country']=='France']='FRA'\n",
    "df['Country'].loc[df['Country']=='Germany']='DEU'\n",
    "df['Country'].loc[df['Country']=='Mexico']='MEX'\n",
    "df['Country'].loc[df['Country']=='Brazil']='BRA'\n",
    "df['Country'].loc[df['Country']=='Slovenia']='SVN'\n",
    "df['Country'].loc[df['Country']=='Ireland']='IRE'\n",
    "df['Country'].loc[df['Country']=='India']='IND'\n",
    "df['Country'].loc[df['Country']=='South Africa']='ZAF'\n",
    "df['Country'].loc[df['Country']=='Russia']='USSR'\n",
    "df['Country'].loc[df['Country']=='Italy']='ITA'\n",
    "df['Country'].loc[df['Country']=='Colombia']='COL'\n",
    "df['Country'].loc[df['Country']=='Portugal']='POR'\n",
    "df['Country'].loc[df['Country']=='Switzerland']='SWZ'\n",
    "df['Country'].loc[df['Country']=='Belgium']='BEL'\n",
    "df['Country'].loc[df['Country']=='Sweden']='SWE'\n",
    "df['Country'].loc[df['Country']=='New Zealand']='NZL'\n",
    "df['Country'].loc[df['Country']=='Zimbabwe']='ZMB'\n",
    "df['Country'].loc[df['Country']=='Finland']='FIN'\n",
    "df['Country'].loc[df['Country']=='Israel']='ISR'\n",
    "df['Country'].loc[df['Country']=='Bosnia and Herzegovina']='BIH'\n",
    "df['Country'].loc[df['Country']=='Austria']='AUT'\n",
    "df['Country'].loc[df['Country']=='Hungary']='HUN'\n",
    "df['Country'].loc[df['Country']=='Singapore']='SIN'\n",
    "df['Country'].loc[df['Country']=='Japan']='JPN'\n",
    "df['Country'].loc[df['Country']=='Croatia']='CRO'\n",
    "df['Country'].loc[df['Country']=='Thailand']='THL'\n",
    "df['Country'].loc[df['Country']=='Denmark']='DEN'\n",
    "df['Country'].loc[df['Country']=='Bahamas, The']='BHS'\n",
    "df['Country'].loc[df['Country']=='Moldova']='MOL'\n",
    "df['Country'].loc[df['Country']=='Georgia']='GEO'\n",
    "df['Country'].loc[df['Country']=='China']='CHN'\n",
    "df['Country'].loc[df['Country']=='Czech Republic']='CZE'\n",
    "df['Country'].loc[df['Country']=='Philippines']='PHL'"
   ]
  },
  {
   "cell_type": "code",
   "execution_count": 104,
   "id": "a92baf21",
   "metadata": {},
   "outputs": [
    {
     "data": {
      "text/plain": [
       "array(['No', 'Maybe', 'Yes'], dtype=object)"
      ]
     },
     "execution_count": 104,
     "metadata": {},
     "output_type": "execute_result"
    }
   ],
   "source": [
    "df['mental_health_consequence'].unique()"
   ]
  },
  {
   "cell_type": "code",
   "execution_count": 106,
   "id": "6d43b3bd",
   "metadata": {},
   "outputs": [
    {
     "data": {
      "image/png": "[encoded data removed]",
      "text/plain": [
       "<Figure size 1440x576 with 1 Axes>"
      ]
     },
     "metadata": {
      "needs_background": "light"
     },
     "output_type": "display_data"
    }
   ],
   "source": [
    "plt.rcParams[\"figure.figsize\"] = (20,8)\n",
    "plt.hist(df.loc[df['mental_health_consequence']!='No','Country'])\n",
    "plt.xlabel('Country')\n",
    "plt.ylabel('Count of mental concerns')\n",
    "plt.title('Mental illness of employees based on the countries')\n",
    "plt.show()"
   ]
  },
  {
   "cell_type": "code",
   "execution_count": 107,
   "id": "d9ec897a",
   "metadata": {},
   "outputs": [
    {
     "data": {
      "image/png": "[encoded data removed]",
      "text/plain": [
       "<Figure size 1440x576 with 1 Axes>"
      ]
     },
     "metadata": {
      "needs_background": "light"
     },
     "output_type": "display_data"
    }
   ],
   "source": [
    "plt.rcParams[\"figure.figsize\"] = (20,8)\n",
    "plt.hist(df.loc[df['mental_health_consequence']=='No','Country'])\n",
    "plt.xlabel('Country')\n",
    "plt.ylabel('Count of mental concerns')\n",
    "plt.title('Mental illness of employees based on the countries')\n",
    "plt.show()"
   ]
  },
  {
   "cell_type": "markdown",
   "id": "46b7f37f",
   "metadata": {},
   "source": [
    "### 3.Comparing the mental illness of employees based on the remote work culture."
   ]
  },
  {
   "cell_type": "code",
   "execution_count": 108,
   "id": "d1e097fb",
   "metadata": {},
   "outputs": [
    {
     "data": {
      "image/png": "[encoded data removed]",
      "text/plain": [
       "<Figure size 1440x576 with 1 Axes>"
      ]
     },
     "metadata": {
      "needs_background": "light"
     },
     "output_type": "display_data"
    }
   ],
   "source": [
    "plt.hist(df.loc[df['mental_health_consequence']=='Yes','remote_work'])\n",
    "plt.xlabel('Remote Work')\n",
    "plt.ylabel('Count of mental concerns')\n",
    "plt.title('Mental illness of employees based on the remote work culture')\n",
    "plt.show()"
   ]
  },
  {
   "cell_type": "markdown",
   "id": "80993baa",
   "metadata": {},
   "source": [
    "### 4.Comparing the mental illness of employees based on the co-workers."
   ]
  },
  {
   "cell_type": "code",
   "execution_count": 109,
   "id": "bfaffa46",
   "metadata": {},
   "outputs": [
    {
     "data": {
      "image/png": "[encoded data removed]",
      "text/plain": [
       "<Figure size 1440x576 with 1 Axes>"
      ]
     },
     "metadata": {
      "needs_background": "light"
     },
     "output_type": "display_data"
    }
   ],
   "source": [
    "plt.hist(df.loc[df['mental_health_consequence']=='Yes','coworkers'])\n",
    "plt.xlabel('Co-workers')\n",
    "plt.ylabel('Count of mental concerns')\n",
    "plt.title('Mental illness of employees based on the co-workers')\n",
    "plt.show()"
   ]
  },
  {
   "cell_type": "markdown",
   "id": "1275431a",
   "metadata": {},
   "source": [
    "Based on the above graphical analysis we find the below observations:\n",
    "<br>1. The mental illness for men is higher than the women\n",
    "<br>2. \"The mental illness rate in the United States is way higher than the Bahamas\" this was my last week's conclusion. But, after a certain deeper analysis, I have included all the countries and also did a graph with countries having several people with illness and without. In both, USA is the first and it shows that the number of entries is different for different countries and last week's conclusion is wrong.\n",
    "<br>3. Remote employees also have a mental illness at the same rate as non-remote workers. So remote jobs won't give that much relief for the mental illness\n",
    "<br>4. If we have more co-workers then there is a high possibility of reducing mental illness."
   ]
  },
  {
   "cell_type": "code",
   "execution_count": null,
   "id": "e2e29ae2",
   "metadata": {},
   "outputs": [],
   "source": []
  }
 ],
 "metadata": {
  "kernelspec": {
   "display_name": "Python 3",
   "language": "python",
   "name": "python3"
  },
  "language_info": {
   "codemirror_mode": {
    "name": "ipython",
    "version": 3
   },
   "file_extension": ".py",
   "mimetype": "text/x-python",
   "name": "python",
   "nbconvert_exporter": "python",
   "pygments_lexer": "ipython3",
   "version": "3.8.10"
  }
 },
 "nbformat": 4,
 "nbformat_minor": 5
}
