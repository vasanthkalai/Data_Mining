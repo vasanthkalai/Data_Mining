{
 "cells": [
  {
   "cell_type": "markdown",
   "id": "a0012605",
   "metadata": {},
   "source": [
    "## Week 5: Graph Analysis"
   ]
  },
  {
   "cell_type": "code",
   "execution_count": 1,
   "id": "7d2a89ae",
   "metadata": {},
   "outputs": [],
   "source": [
    "# importing libraries\n",
    "import pandas as pd\n",
    "import numpy as np\n",
    "import string\n",
    "import re\n",
    "import matplotlib.pyplot as plt\n",
    "from collections import Counter"
   ]
  },
  {
   "cell_type": "markdown",
   "id": "b38a5309",
   "metadata": {},
   "source": [
    "### Step 1:  Load data into a dataframe"
   ]
  },
  {
   "cell_type": "code",
   "execution_count": 6,
   "id": "cbb27177",
   "metadata": {},
   "outputs": [],
   "source": [
    "# Loading the data into dataframe called articles\n",
    "addr1='articles1.csv'\n",
    "articles=pd.read_csv(addr1)"
   ]
  },
  {
   "cell_type": "code",
   "execution_count": 7,
   "id": "754e1d84",
   "metadata": {},
   "outputs": [
    {
     "data": {
      "text/html": [
       "<div>\n",
       "<style scoped>\n",
       "    .dataframe tbody tr th:only-of-type {\n",
       "        vertical-align: middle;\n",
       "    }\n",
       "\n",
       "    .dataframe tbody tr th {\n",
       "        vertical-align: top;\n",
       "    }\n",
       "\n",
       "    .dataframe thead th {\n",
       "        text-align: right;\n",
       "    }\n",
       "</style>\n",
       "<table border=\"1\" class=\"dataframe\">\n",
       "  <thead>\n",
       "    <tr style=\"text-align: right;\">\n",
       "      <th></th>\n",
       "      <th>Unnamed: 0</th>\n",
       "      <th>id</th>\n",
       "      <th>title</th>\n",
       "      <th>publication</th>\n",
       "      <th>author</th>\n",
       "      <th>date</th>\n",
       "      <th>year</th>\n",
       "      <th>month</th>\n",
       "      <th>url</th>\n",
       "      <th>content</th>\n",
       "    </tr>\n",
       "  </thead>\n",
       "  <tbody>\n",
       "    <tr>\n",
       "      <th>0</th>\n",
       "      <td>0</td>\n",
       "      <td>17283</td>\n",
       "      <td>House Republicans Fret About Winning Their Hea...</td>\n",
       "      <td>New York Times</td>\n",
       "      <td>Carl Hulse</td>\n",
       "      <td>2016-12-31</td>\n",
       "      <td>2016.0</td>\n",
       "      <td>12.0</td>\n",
       "      <td>NaN</td>\n",
       "      <td>WASHINGTON  —   Congressional Republicans have...</td>\n",
       "    </tr>\n",
       "    <tr>\n",
       "      <th>1</th>\n",
       "      <td>1</td>\n",
       "      <td>17284</td>\n",
       "      <td>Rift Between Officers and Residents as Killing...</td>\n",
       "      <td>New York Times</td>\n",
       "      <td>Benjamin Mueller and Al Baker</td>\n",
       "      <td>2017-06-19</td>\n",
       "      <td>2017.0</td>\n",
       "      <td>6.0</td>\n",
       "      <td>NaN</td>\n",
       "      <td>After the bullet shells get counted, the blood...</td>\n",
       "    </tr>\n",
       "    <tr>\n",
       "      <th>2</th>\n",
       "      <td>2</td>\n",
       "      <td>17285</td>\n",
       "      <td>Tyrus Wong, ‘Bambi’ Artist Thwarted by Racial ...</td>\n",
       "      <td>New York Times</td>\n",
       "      <td>Margalit Fox</td>\n",
       "      <td>2017-01-06</td>\n",
       "      <td>2017.0</td>\n",
       "      <td>1.0</td>\n",
       "      <td>NaN</td>\n",
       "      <td>When Walt Disney’s “Bambi” opened in 1942, cri...</td>\n",
       "    </tr>\n",
       "    <tr>\n",
       "      <th>3</th>\n",
       "      <td>3</td>\n",
       "      <td>17286</td>\n",
       "      <td>Among Deaths in 2016, a Heavy Toll in Pop Musi...</td>\n",
       "      <td>New York Times</td>\n",
       "      <td>William McDonald</td>\n",
       "      <td>2017-04-10</td>\n",
       "      <td>2017.0</td>\n",
       "      <td>4.0</td>\n",
       "      <td>NaN</td>\n",
       "      <td>Death may be the great equalizer, but it isn’t...</td>\n",
       "    </tr>\n",
       "    <tr>\n",
       "      <th>4</th>\n",
       "      <td>4</td>\n",
       "      <td>17287</td>\n",
       "      <td>Kim Jong-un Says North Korea Is Preparing to T...</td>\n",
       "      <td>New York Times</td>\n",
       "      <td>Choe Sang-Hun</td>\n",
       "      <td>2017-01-02</td>\n",
       "      <td>2017.0</td>\n",
       "      <td>1.0</td>\n",
       "      <td>NaN</td>\n",
       "      <td>SEOUL, South Korea  —   North Korea’s leader, ...</td>\n",
       "    </tr>\n",
       "  </tbody>\n",
       "</table>\n",
       "</div>"
      ],
      "text/plain": [
       "   Unnamed: 0     id                                              title  \\\n",
       "0           0  17283  House Republicans Fret About Winning Their Hea...   \n",
       "1           1  17284  Rift Between Officers and Residents as Killing...   \n",
       "2           2  17285  Tyrus Wong, ‘Bambi’ Artist Thwarted by Racial ...   \n",
       "3           3  17286  Among Deaths in 2016, a Heavy Toll in Pop Musi...   \n",
       "4           4  17287  Kim Jong-un Says North Korea Is Preparing to T...   \n",
       "\n",
       "      publication                         author        date    year  month  \\\n",
       "0  New York Times                     Carl Hulse  2016-12-31  2016.0   12.0   \n",
       "1  New York Times  Benjamin Mueller and Al Baker  2017-06-19  2017.0    6.0   \n",
       "2  New York Times                   Margalit Fox  2017-01-06  2017.0    1.0   \n",
       "3  New York Times               William McDonald  2017-04-10  2017.0    4.0   \n",
       "4  New York Times                  Choe Sang-Hun  2017-01-02  2017.0    1.0   \n",
       "\n",
       "   url                                            content  \n",
       "0  NaN  WASHINGTON  —   Congressional Republicans have...  \n",
       "1  NaN  After the bullet shells get counted, the blood...  \n",
       "2  NaN  When Walt Disney’s “Bambi” opened in 1942, cri...  \n",
       "3  NaN  Death may be the great equalizer, but it isn’t...  \n",
       "4  NaN  SEOUL, South Korea  —   North Korea’s leader, ...  "
      ]
     },
     "execution_count": 7,
     "metadata": {},
     "output_type": "execute_result"
    }
   ],
   "source": [
    "# Checking the head of the data frame\n",
    "articles.head()"
   ]
  },
  {
   "cell_type": "markdown",
   "id": "228bf061",
   "metadata": {},
   "source": [
    "### Step 2:  check the dimension of the table/look at the data"
   ]
  },
  {
   "cell_type": "code",
   "execution_count": 8,
   "id": "781024a3",
   "metadata": {},
   "outputs": [
    {
     "name": "stdout",
     "output_type": "stream",
     "text": [
      "The dimension of the table is:  (50000, 10)\n"
     ]
    }
   ],
   "source": [
    "print(\"The dimension of the table is: \", articles.shape)"
   ]
  },
  {
   "cell_type": "code",
   "execution_count": 9,
   "id": "6a74b361",
   "metadata": {},
   "outputs": [
    {
     "name": "stdout",
     "output_type": "stream",
     "text": [
      "   Unnamed: 0     id                                              title  \\\n",
      "0           0  17283  House Republicans Fret About Winning Their Hea...   \n",
      "1           1  17284  Rift Between Officers and Residents as Killing...   \n",
      "2           2  17285  Tyrus Wong, ‘Bambi’ Artist Thwarted by Racial ...   \n",
      "3           3  17286  Among Deaths in 2016, a Heavy Toll in Pop Musi...   \n",
      "4           4  17287  Kim Jong-un Says North Korea Is Preparing to T...   \n",
      "\n",
      "      publication                         author        date    year  month  \\\n",
      "0  New York Times                     Carl Hulse  2016-12-31  2016.0   12.0   \n",
      "1  New York Times  Benjamin Mueller and Al Baker  2017-06-19  2017.0    6.0   \n",
      "2  New York Times                   Margalit Fox  2017-01-06  2017.0    1.0   \n",
      "3  New York Times               William McDonald  2017-04-10  2017.0    4.0   \n",
      "4  New York Times                  Choe Sang-Hun  2017-01-02  2017.0    1.0   \n",
      "\n",
      "   url                                            content  \n",
      "0  NaN  WASHINGTON  —   Congressional Republicans have...  \n",
      "1  NaN  After the bullet shells get counted, the blood...  \n",
      "2  NaN  When Walt Disney’s “Bambi” opened in 1942, cri...  \n",
      "3  NaN  Death may be the great equalizer, but it isn’t...  \n",
      "4  NaN  SEOUL, South Korea  —   North Korea’s leader, ...  \n"
     ]
    }
   ],
   "source": [
    "#Display the data\n",
    "print(articles.head(5))"
   ]
  },
  {
   "cell_type": "code",
   "execution_count": 10,
   "id": "b7c8cbb1",
   "metadata": {},
   "outputs": [
    {
     "name": "stdout",
     "output_type": "stream",
     "text": [
      "Describe Data\n",
      "         Unnamed: 0            id          year         month  url\n",
      "count  50000.000000  50000.000000  50000.000000  50000.000000  0.0\n",
      "mean   25694.378380  44432.454800   2016.273700      5.508940  NaN\n",
      "std    15350.143677  15773.615179      0.634694      3.333062  NaN\n",
      "min        0.000000  17283.000000   2011.000000      1.000000  NaN\n",
      "25%    12500.750000  31236.750000   2016.000000      3.000000  NaN\n",
      "50%    25004.500000  43757.500000   2016.000000      5.000000  NaN\n",
      "75%    38630.250000  57479.250000   2017.000000      8.000000  NaN\n",
      "max    53291.000000  73469.000000   2017.000000     12.000000  NaN\n",
      "Summarized Data\n",
      "                                                    title publication  \\\n",
      "count                                               50000       50000   \n",
      "unique                                              49920           5   \n",
      "top     The 10 most important things in the world righ...   Breitbart   \n",
      "freq                                                    7       23781   \n",
      "\n",
      "                author        date        content  \n",
      "count            43694       50000          50000  \n",
      "unique            3603         983          49888  \n",
      "top     Breitbart News  2016-08-22  advertisement  \n",
      "freq              1559         221             42  \n"
     ]
    }
   ],
   "source": [
    "#what type of variables are in the table \n",
    "print(\"Describe Data\")\n",
    "print(articles.describe())\n",
    "print(\"Summarized Data\")\n",
    "print(articles.describe(include=['O']))"
   ]
  },
  {
   "cell_type": "code",
   "execution_count": 11,
   "id": "94f8e2df",
   "metadata": {},
   "outputs": [
    {
     "name": "stdout",
     "output_type": "stream",
     "text": [
      "50000\n"
     ]
    }
   ],
   "source": [
    "#display length of data\n",
    "print(len(articles))"
   ]
  },
  {
   "cell_type": "code",
   "execution_count": 12,
   "id": "a5f690c4",
   "metadata": {},
   "outputs": [
    {
     "name": "stdout",
     "output_type": "stream",
     "text": [
      "['New York Times' 'Breitbart' 'CNN' 'Business Insider' 'Atlantic']\n"
     ]
    }
   ],
   "source": [
    "#display publishers (publications)\n",
    "print(articles.publication.unique())"
   ]
  },
  {
   "cell_type": "code",
   "execution_count": 13,
   "id": "0db63433",
   "metadata": {},
   "outputs": [
    {
     "name": "stdout",
     "output_type": "stream",
     "text": [
      "2011.0\n",
      "2017.0\n"
     ]
    }
   ],
   "source": [
    "#display min, max of years published\n",
    "print(articles['year'].min())\n",
    "print(articles['year'].max())"
   ]
  },
  {
   "cell_type": "code",
   "execution_count": 14,
   "id": "d6ad4c9b",
   "metadata": {},
   "outputs": [
    {
     "name": "stdout",
     "output_type": "stream",
     "text": [
      "2016.0    28451\n",
      "2017.0    17908\n",
      "2015.0     3326\n",
      "2013.0      212\n",
      "2014.0       76\n",
      "2012.0       26\n",
      "2011.0        1\n",
      "Name: year, dtype: int64\n"
     ]
    }
   ],
   "source": [
    "#display how many articles from each year\n",
    "print(articles['year'].value_counts())"
   ]
  },
  {
   "cell_type": "markdown",
   "id": "6827f6f8",
   "metadata": {},
   "source": [
    "### Step 3:  Create some bar charts to show articles"
   ]
  },
  {
   "cell_type": "code",
   "execution_count": 15,
   "id": "b20287dd",
   "metadata": {},
   "outputs": [
    {
     "data": {
      "image/png": "[encoded data removed]",
      "text/plain": [
       "<Figure size 864x720 with 1 Axes>"
      ]
     },
     "metadata": {
      "needs_background": "light"
     },
     "output_type": "display_data"
    }
   ],
   "source": [
    "#display bar chart of articles sorted by Publication Name\n",
    "ax = articles['publication'].value_counts().sort_index().plot(kind='bar', fontsize=14, figsize=(12,10))\n",
    "ax.set_title('Article Publication\\n', fontsize=20)\n",
    "ax.set_xlabel('Publication', fontsize=18)\n",
    "ax.set_ylabel('Count', fontsize=18);\n",
    "plt.show()"
   ]
  },
  {
   "cell_type": "code",
   "execution_count": 16,
   "id": "86e0e4e7",
   "metadata": {},
   "outputs": [
    {
     "data": {
      "image/png": "[encoded data removed]",
      "text/plain": [
       "<Figure size 864x720 with 1 Axes>"
      ]
     },
     "metadata": {
      "needs_background": "light"
     },
     "output_type": "display_data"
    }
   ],
   "source": [
    "#display bar chart of articles sorted by counts\n",
    "ax = articles['publication'].value_counts().plot(kind='bar', fontsize=14, figsize=(12,10))\n",
    "ax.set_title('Article Count - most to least\\n', fontsize=20)\n",
    "ax.set_xlabel('Publication', fontsize=18)\n",
    "ax.set_ylabel('Count', fontsize=18);\n",
    "plt.show()"
   ]
  },
  {
   "cell_type": "markdown",
   "id": "fd1157e6",
   "metadata": {},
   "source": [
    "### Step 4:  clean text:  no punctuation/all lowercase"
   ]
  },
  {
   "cell_type": "code",
   "execution_count": 17,
   "id": "3fb69341",
   "metadata": {},
   "outputs": [],
   "source": [
    "# method to format text\n",
    "def clean_text(article):\n",
    "    clean1 = re.sub(r'['+string.punctuation + '’—”'+']', \"\", article.lower())\n",
    "    return re.sub(r'\\W+', ' ', clean1)"
   ]
  },
  {
   "cell_type": "code",
   "execution_count": 18,
   "id": "f41c8835",
   "metadata": {},
   "outputs": [
    {
     "name": "stdout",
     "output_type": "stream",
     "text": [
      "clean text:   0    washington congressional republicans have a ne...\n",
      "1    after the bullet shells get counted the blood ...\n",
      "2    when walt disneys bambi opened in 1942 critics...\n",
      "3    death may be the great equalizer but it isnt n...\n",
      "4    seoul south korea north koreas leader kim said...\n",
      "Name: tokenized, dtype: object\n"
     ]
    }
   ],
   "source": [
    "# implementing clear_text function to the articles dataframe\n",
    "articles['tokenized'] = articles['content'].map(lambda x: clean_text(x))\n",
    "print(\"clean text:  \",articles['tokenized'].head())"
   ]
  },
  {
   "cell_type": "code",
   "execution_count": 19,
   "id": "97d102ba",
   "metadata": {},
   "outputs": [
    {
     "name": "stdout",
     "output_type": "stream",
     "text": [
      "Mean:   636.26046\n",
      "Min:   0\n",
      "Max:   24736\n"
     ]
    }
   ],
   "source": [
    "#look at mean, min, max article lengths\n",
    "articles['num_wds'] = articles['tokenized'].apply(lambda x: len(x.split()))\n",
    "print(\"Mean:  \",articles['num_wds'].mean())\n",
    "print(\"Min:  \",articles['num_wds'].min())\n",
    "print(\"Max:  \",articles['num_wds'].max())"
   ]
  },
  {
   "cell_type": "markdown",
   "id": "a469e898",
   "metadata": {},
   "source": [
    "### Step 5:  remove articles with no words"
   ]
  },
  {
   "cell_type": "code",
   "execution_count": 20,
   "id": "22ed46e4",
   "metadata": {},
   "outputs": [
    {
     "data": {
      "text/plain": [
       "65"
      ]
     },
     "execution_count": 20,
     "metadata": {},
     "output_type": "execute_result"
    }
   ],
   "source": [
    "# Length of the articles having zero num_wds\n",
    "len(articles[articles['num_wds']==0])"
   ]
  },
  {
   "cell_type": "code",
   "execution_count": 21,
   "id": "b73f9445",
   "metadata": {},
   "outputs": [
    {
     "name": "stdout",
     "output_type": "stream",
     "text": [
      "new mean:   637.0886752778612\n",
      "new min:   1\n"
     ]
    }
   ],
   "source": [
    "# Modifing the articles data frames in which the num_wds are greater than zero\n",
    "articles = articles[articles['num_wds']>0]\n",
    "#Finding mean and min of the modified data frame\n",
    "print(\"new mean:  \",articles['num_wds'].mean())\n",
    "print(\"new min:  \",articles['num_wds'].min())\n"
   ]
  },
  {
   "cell_type": "markdown",
   "id": "d8be98ab",
   "metadata": {},
   "source": [
    "### Step 6:  Check for Outliers:  show bar graph of outliers"
   ]
  },
  {
   "cell_type": "code",
   "execution_count": 22,
   "id": "1b39844b",
   "metadata": {},
   "outputs": [
    {
     "data": {
      "image/png": "[encoded data removed]",
      "text/plain": [
       "<Figure size 864x720 with 1 Axes>"
      ]
     },
     "metadata": {
      "needs_background": "light"
     },
     "output_type": "display_data"
    }
   ],
   "source": [
    "ax=articles['num_wds'].plot(kind='hist', bins=50, fontsize=14, figsize=(12,10))\n",
    "ax.set_title('Article Length in Words\\n', fontsize=20)\n",
    "ax.set_ylabel('Frequency', fontsize=18)\n",
    "ax.set_xlabel('Number of Words', fontsize=18);\n",
    "plt.show()"
   ]
  },
  {
   "cell_type": "code",
   "execution_count": null,
   "id": "db1b4a2a",
   "metadata": {},
   "outputs": [],
   "source": []
  }
 ],
 "metadata": {
  "kernelspec": {
   "display_name": "Python 3",
   "language": "python",
   "name": "python3"
  },
  "language_info": {
   "codemirror_mode": {
    "name": "ipython",
    "version": 3
   },
   "file_extension": ".py",
   "mimetype": "text/x-python",
   "name": "python",
   "nbconvert_exporter": "python",
   "pygments_lexer": "ipython3",
   "version": "3.8.8"
  }
 },
 "nbformat": 4,
 "nbformat_minor": 5
}
