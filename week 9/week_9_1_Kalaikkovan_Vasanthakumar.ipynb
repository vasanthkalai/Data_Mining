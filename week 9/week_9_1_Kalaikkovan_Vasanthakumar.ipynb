{
 "cells": [
  {
   "cell_type": "markdown",
   "id": "abc4ac16",
   "metadata": {},
   "source": [
    "## 1. Neural Network Classifier with Scikit"
   ]
  },
  {
   "cell_type": "code",
   "execution_count": 9,
   "id": "c8807afd",
   "metadata": {},
   "outputs": [],
   "source": [
    "#importing libraries\n",
    "import numpy as np\n",
    "import pandas as pd\n",
    "import seaborn as sns\n",
    "import matplotlib.pyplot as plt\n",
    "from sklearn.preprocessing import LabelBinarizer\n",
    "from sklearn.feature_extraction.text import CountVectorizer, TfidfVectorizer\n",
    "from sklearn.model_selection import train_test_split\n",
    "from sklearn.metrics import plot_confusion_matrix,accuracy_score,confusion_matrix,recall_score,precision_score\n",
    "from sklearn.neural_network import MLPClassifier, MLPRegressor\n",
    "import nltk\n",
    "from nltk.corpus import stopwords\n",
    "from nltk import PorterStemmer"
   ]
  },
  {
   "cell_type": "code",
   "execution_count": 10,
   "id": "0309514f",
   "metadata": {},
   "outputs": [],
   "source": [
    "def load_data(samples=None):\n",
    "    df=pd.read_json(\"categorized-comments.jsonl\",lines=True)\n",
    "    if samples!=None:\n",
    "        df=df.sample(round(samples))\n",
    "    return df"
   ]
  },
  {
   "cell_type": "code",
   "execution_count": 11,
   "id": "0ea86151",
   "metadata": {
    "scrolled": true
   },
   "outputs": [],
   "source": [
    "df=pd.read_json(\"categorized-comments.jsonl\",lines=True)"
   ]
  },
  {
   "cell_type": "code",
   "execution_count": 12,
   "id": "97791b65",
   "metadata": {},
   "outputs": [],
   "source": [
    "import re\n",
    "def stemmer(ser):\n",
    "    ps=PorterStemmer()\n",
    "    string=\"\"\n",
    "    for words in ser:\n",
    "        string+=str(ps.stem(words))+\" \"\n",
    "    return string.strip()\n",
    "\n",
    "def clean_data(df):\n",
    "    df['txt']=df['txt'].str.lower()\n",
    "    #Removing new lines\n",
    "    df['txt']=df['txt'].str.replace(\"\\n\",\" \")\n",
    "    #Removing urls\n",
    "    df['txt']=df['txt'].apply(lambda x: re.split('http:\\/\\/.*',str(x))[0])\n",
    "    df['txt']=df['txt'].apply(lambda x: re.split('https:\\/\\/.*',str(x))[0])\n",
    "    #Removing punctions\n",
    "    df['txt']=df['txt'].str.replace('[^\\w\\s]','')\n",
    "    #Creating the list of stop words\n",
    "    stop=set(stopwords.words('english'))\n",
    "    \n",
    "    df['txt']=df['txt'].str.split().apply(lambda x: [item for item in x if item not in stop])\n",
    "    df['txt']=df['txt'].apply(stemmer)\n",
    "    return df\n",
    "\n",
    "def data_restructuring(df):\n",
    "    cv=TfidfVectorizer()\n",
    "    X=cv.fit_transform(df['txt'].values.astype('U'))\n",
    "    lb=LabelBinarizer()\n",
    "    y=lb.fit_transform(df['cat'])\n",
    "    y_labels=lb.classes_\n",
    "    \n",
    "    return X,y,y_labels"
   ]
  },
  {
   "cell_type": "code",
   "execution_count": 13,
   "id": "e97cca9f",
   "metadata": {},
   "outputs": [
    {
     "data": {
      "text/html": [
       "<div>\n",
       "<style scoped>\n",
       "    .dataframe tbody tr th:only-of-type {\n",
       "        vertical-align: middle;\n",
       "    }\n",
       "\n",
       "    .dataframe tbody tr th {\n",
       "        vertical-align: top;\n",
       "    }\n",
       "\n",
       "    .dataframe thead th {\n",
       "        text-align: right;\n",
       "    }\n",
       "</style>\n",
       "<table border=\"1\" class=\"dataframe\">\n",
       "  <thead>\n",
       "    <tr style=\"text-align: right;\">\n",
       "      <th></th>\n",
       "      <th>cat</th>\n",
       "      <th>txt</th>\n",
       "    </tr>\n",
       "  </thead>\n",
       "  <tbody>\n",
       "    <tr>\n",
       "      <th>173199</th>\n",
       "      <td>video_games</td>\n",
       "      <td>People ask Valve for these things like they ca...</td>\n",
       "    </tr>\n",
       "    <tr>\n",
       "      <th>475538</th>\n",
       "      <td>video_games</td>\n",
       "      <td>I haven't either so don't worry that you're no...</td>\n",
       "    </tr>\n",
       "    <tr>\n",
       "      <th>83867</th>\n",
       "      <td>video_games</td>\n",
       "      <td>U should have it at least lvl 12</td>\n",
       "    </tr>\n",
       "    <tr>\n",
       "      <th>224784</th>\n",
       "      <td>sports</td>\n",
       "      <td>I used it very little this year but when I hav...</td>\n",
       "    </tr>\n",
       "    <tr>\n",
       "      <th>67093</th>\n",
       "      <td>video_games</td>\n",
       "      <td>who's next tho</td>\n",
       "    </tr>\n",
       "  </tbody>\n",
       "</table>\n",
       "</div>"
      ],
      "text/plain": [
       "                cat                                                txt\n",
       "173199  video_games  People ask Valve for these things like they ca...\n",
       "475538  video_games  I haven't either so don't worry that you're no...\n",
       "83867   video_games                   U should have it at least lvl 12\n",
       "224784       sports  I used it very little this year but when I hav...\n",
       "67093   video_games                                     who's next tho"
      ]
     },
     "execution_count": 13,
     "metadata": {},
     "output_type": "execute_result"
    }
   ],
   "source": [
    "df=load_data(6000)\n",
    "df.head()"
   ]
  },
  {
   "cell_type": "code",
   "execution_count": 14,
   "id": "521633d4",
   "metadata": {},
   "outputs": [
    {
     "data": {
      "text/html": [
       "<div>\n",
       "<style scoped>\n",
       "    .dataframe tbody tr th:only-of-type {\n",
       "        vertical-align: middle;\n",
       "    }\n",
       "\n",
       "    .dataframe tbody tr th {\n",
       "        vertical-align: top;\n",
       "    }\n",
       "\n",
       "    .dataframe thead th {\n",
       "        text-align: right;\n",
       "    }\n",
       "</style>\n",
       "<table border=\"1\" class=\"dataframe\">\n",
       "  <thead>\n",
       "    <tr style=\"text-align: right;\">\n",
       "      <th></th>\n",
       "      <th>cat</th>\n",
       "      <th>txt</th>\n",
       "    </tr>\n",
       "  </thead>\n",
       "  <tbody>\n",
       "    <tr>\n",
       "      <th>173199</th>\n",
       "      <td>video_games</td>\n",
       "      <td>peopl ask valv thing like fix press button kno...</td>\n",
       "    </tr>\n",
       "    <tr>\n",
       "      <th>475538</th>\n",
       "      <td>video_games</td>\n",
       "      <td>havent either dont worri your alon actual ive ...</td>\n",
       "    </tr>\n",
       "    <tr>\n",
       "      <th>83867</th>\n",
       "      <td>video_games</td>\n",
       "      <td>u least lvl 12</td>\n",
       "    </tr>\n",
       "    <tr>\n",
       "      <th>224784</th>\n",
       "      <td>sports</td>\n",
       "      <td>use littl year good tight midfield 2 cm cf lit...</td>\n",
       "    </tr>\n",
       "    <tr>\n",
       "      <th>67093</th>\n",
       "      <td>video_games</td>\n",
       "      <td>who next tho</td>\n",
       "    </tr>\n",
       "  </tbody>\n",
       "</table>\n",
       "</div>"
      ],
      "text/plain": [
       "                cat                                                txt\n",
       "173199  video_games  peopl ask valv thing like fix press button kno...\n",
       "475538  video_games  havent either dont worri your alon actual ive ...\n",
       "83867   video_games                                     u least lvl 12\n",
       "224784       sports  use littl year good tight midfield 2 cm cf lit...\n",
       "67093   video_games                                       who next tho"
      ]
     },
     "execution_count": 14,
     "metadata": {},
     "output_type": "execute_result"
    }
   ],
   "source": [
    "df=clean_data(df)\n",
    "df.head()"
   ]
  },
  {
   "cell_type": "code",
   "execution_count": 15,
   "id": "167601cd",
   "metadata": {},
   "outputs": [
    {
     "data": {
      "text/plain": [
       "video_games               4341\n",
       "sports                    1426\n",
       "science_and_technology     233\n",
       "Name: cat, dtype: int64"
      ]
     },
     "execution_count": 15,
     "metadata": {},
     "output_type": "execute_result"
    }
   ],
   "source": [
    "df['cat'].value_counts()"
   ]
  },
  {
   "cell_type": "code",
   "execution_count": 16,
   "id": "b606b938",
   "metadata": {},
   "outputs": [],
   "source": [
    "X,y,y_labels=data_restructuring(df)"
   ]
  },
  {
   "cell_type": "code",
   "execution_count": 20,
   "id": "e8e5b110",
   "metadata": {},
   "outputs": [],
   "source": [
    "X_train,X_test,y_train,y_test=train_test_split(X,y,test_size=0.25)"
   ]
  },
  {
   "cell_type": "code",
   "execution_count": 22,
   "id": "e918b41f",
   "metadata": {},
   "outputs": [
    {
     "name": "stdout",
     "output_type": "stream",
     "text": [
      "Operation Started:08/07/21 17:18:14\n",
      "Iteration 1, loss = 1.58700959\n",
      "Iteration 2, loss = 1.16750524\n",
      "Iteration 3, loss = 0.88516662\n",
      "Iteration 4, loss = 0.55949862\n",
      "Iteration 5, loss = 0.35113072\n",
      "Iteration 6, loss = 0.25010035\n",
      "Iteration 7, loss = 0.19021138\n",
      "Iteration 8, loss = 0.15413163\n",
      "Iteration 9, loss = 0.13447015\n",
      "Iteration 10, loss = 0.12208683\n",
      "Iteration 11, loss = 0.11644563\n",
      "Iteration 12, loss = 0.11151136\n",
      "Iteration 13, loss = 0.10768512\n",
      "Iteration 14, loss = 0.11222064\n",
      "Iteration 15, loss = 0.10745572\n",
      "Iteration 16, loss = 0.10520842\n",
      "Iteration 17, loss = 0.10703996\n",
      "Iteration 18, loss = 0.10183727\n",
      "Iteration 19, loss = 0.10294929\n",
      "Iteration 20, loss = 0.09967252\n",
      "Iteration 21, loss = 0.10397292\n",
      "Iteration 22, loss = 0.10401969\n",
      "Iteration 23, loss = 0.10003096\n",
      "Iteration 24, loss = 0.10421508\n",
      "Iteration 25, loss = 0.10481868\n",
      "Iteration 26, loss = 0.10516563\n",
      "Iteration 27, loss = 0.09869809\n",
      "Iteration 28, loss = 0.09781783\n",
      "Iteration 29, loss = 0.09873913\n",
      "Iteration 30, loss = 0.09937155\n",
      "Iteration 31, loss = 0.09761831\n",
      "Iteration 32, loss = 0.09638116\n",
      "Iteration 33, loss = 0.10123724\n",
      "Iteration 34, loss = 0.10065155\n",
      "Iteration 35, loss = 0.10155547\n",
      "Iteration 36, loss = 0.09616534\n",
      "Iteration 37, loss = 0.09697078\n",
      "Iteration 38, loss = 0.10080428\n",
      "Iteration 39, loss = 0.09718416\n",
      "Iteration 40, loss = 0.09636422\n",
      "Iteration 41, loss = 0.09608274\n",
      "Iteration 42, loss = 0.09550021\n",
      "Iteration 43, loss = 0.09610329\n",
      "Iteration 44, loss = 0.09583423\n",
      "Iteration 45, loss = 0.09899403\n",
      "Iteration 46, loss = 0.09646961\n",
      "Iteration 47, loss = 0.09484419\n",
      "Iteration 48, loss = 0.09621258\n",
      "Iteration 49, loss = 0.09514048\n",
      "Iteration 50, loss = 0.09594186\n",
      "Iteration 51, loss = 0.09602629\n",
      "Iteration 52, loss = 0.09732546\n",
      "Iteration 53, loss = 0.09688555\n",
      "Iteration 54, loss = 0.09751547\n",
      "Iteration 55, loss = 0.09535726\n",
      "Iteration 56, loss = 0.09595589\n",
      "Iteration 57, loss = 0.09669590\n",
      "Iteration 58, loss = 0.09775706\n",
      "Training loss did not improve more than tol=0.000100 for 10 consecutive epochs. Stopping.\n",
      "Operation Ended:08/07/21 17:22:35\n",
      "Training time: +00:      04:     20\n",
      "Accuracy: 83.82%\n",
      "Precision: 58.59%\n",
      "Recall: 51.83%\n"
     ]
    }
   ],
   "source": [
    "import datetime\n",
    "#Logging the start time\n",
    "start=datetime.datetime.now()\n",
    "print(\"Operation Started:\"+str(start.strftime(\"%m/%d/%y %H:%M:%S\")))\n",
    "\n",
    "#Building the model\n",
    "model=MLPClassifier(hidden_layer_sizes=[500,150],verbose=True,n_iter_no_change=10)\n",
    "\n",
    "#Training the model\n",
    "model.fit(X_train,y_train)\n",
    "\n",
    "y_pred=model.predict(X_test)\n",
    "\n",
    "#Endtime\n",
    "end=datetime.datetime.now()\n",
    "print(\"Operation Ended:\"+str(end.strftime(\"%m/%d/%y %H:%M:%S\")))\n",
    "duration=end-start\n",
    "print(f\"Training time: +{str((duration.seconds//3600)).zfill(2)}:\\\n",
    "      {str((duration.seconds//60%60)).zfill(2)}:\\\n",
    "     {str((duration.seconds%60)).zfill(2)}\")\n",
    "print(f\"Accuracy: {np.mean(y_pred==y_test)*100:.2f}%\")\n",
    "print(f\"Precision: {precision_score(y_test,y_pred,average='macro')*100:.02f}%\")\n",
    "print(f\"Recall: {recall_score(y_test,y_pred,average='macro')*100:0.2f}%\")"
   ]
  },
  {
   "cell_type": "code",
   "execution_count": 23,
   "id": "41181d90",
   "metadata": {},
   "outputs": [
    {
     "data": {
      "image/png": "[encoded data removed]",
      "text/plain": [
       "<Figure size 1152x648 with 1 Axes>"
      ]
     },
     "metadata": {
      "needs_background": "light"
     },
     "output_type": "display_data"
    }
   ],
   "source": [
    "plt.figure(figsize=(16,9))\n",
    "plt.plot(range(1,model.n_iter_+1),model.loss_curve_,c='gray',zorder=0);\n",
    "plt.scatter(range(1,model.n_iter_+1),model.loss_curve_,c='red',zorder=1);\n",
    "plt.title(\"SKlearn MLPClassifier Model Loss\")\n",
    "plt.xlabel(\"Iterations\")\n",
    "plt.ylabel(\"Loss\")\n",
    "plt.show()"
   ]
  },
  {
   "cell_type": "code",
   "execution_count": 24,
   "id": "b665d32f",
   "metadata": {},
   "outputs": [],
   "source": [
    "from sklearn.metrics import ConfusionMatrixDisplay\n",
    "from sklearn.metrics import confusion_matrix,plot_confusion_matrix"
   ]
  },
  {
   "cell_type": "code",
   "execution_count": 25,
   "id": "99c395e9",
   "metadata": {},
   "outputs": [
    {
     "data": {
      "image/png": "[encoded data removed]",
      "text/plain": [
       "<Figure size 864x864 with 2 Axes>"
      ]
     },
     "metadata": {
      "needs_background": "light"
     },
     "output_type": "display_data"
    }
   ],
   "source": [
    "#Ploting confusion matrix\n",
    "matrix=confusion_matrix(y_test.argmax(axis=1),y_pred.argmax(axis=1))\n",
    "fig,ax=plt.subplots(figsize=(12,12))\n",
    "fig=ConfusionMatrixDisplay(confusion_matrix=matrix,display_labels=y_labels)\n",
    "fig.plot(ax=ax)\n",
    "plt.show()"
   ]
  },
  {
   "cell_type": "code",
   "execution_count": null,
   "id": "b1754823",
   "metadata": {},
   "outputs": [],
   "source": []
  }
 ],
 "metadata": {
  "kernelspec": {
   "display_name": "Python 3",
   "language": "python",
   "name": "python3"
  },
  "language_info": {
   "codemirror_mode": {
    "name": "ipython",
    "version": 3
   },
   "file_extension": ".py",
   "mimetype": "text/x-python",
   "name": "python",
   "nbconvert_exporter": "python",
   "pygments_lexer": "ipython3",
   "version": "3.9.6"
  }
 },
 "nbformat": 4,
 "nbformat_minor": 5
}
